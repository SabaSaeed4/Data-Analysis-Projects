{
  "cells": [
    {
      "cell_type": "markdown",
      "metadata": {
        "id": "ZsCHr-sjhYzM"
      },
      "source": [
        "## US Accidents Exploratory Data Analysis\n",
        "TODO - talk about EDA\n",
        "TODO - Talk about dataset (source, what it contains, nad how it will be usefull)\n",
        "1. Kaggle\n",
        "2. Information about the accidents.\n",
        "3. How it will be useful?\n",
        "4. Does not contain data for nNew York"
      ]
    },
    {
      "cell_type": "code",
      "execution_count": 2,
      "metadata": {
        "id": "wjbSXSObgnf3"
      },
      "outputs": [],
      "source": [
        "!pip install opendatasets --upgrade --quiet"
      ]
    },
    {
      "cell_type": "code",
      "execution_count": 3,
      "metadata": {
        "colab": {
          "base_uri": "https://localhost:8080/"
        },
        "id": "9AciQWSfgnix",
        "outputId": "2668c46b-e968-4b7c-a60b-d8a57bd83beb"
      },
      "outputs": [
        {
          "output_type": "stream",
          "name": "stdout",
          "text": [
            "Please provide your Kaggle credentials to download this dataset. Learn more: http://bit.ly/kaggle-creds\n",
            "Your Kaggle username: sabasaeed1953\n",
            "Your Kaggle Key: ··········\n",
            "Downloading us-accidents.zip to ./us-accidents\n"
          ]
        },
        {
          "output_type": "stream",
          "name": "stderr",
          "text": [
            "100%|██████████| 269M/269M [00:01<00:00, 163MB/s]\n"
          ]
        },
        {
          "output_type": "stream",
          "name": "stdout",
          "text": [
            "\n"
          ]
        }
      ],
      "source": [
        "import opendatasets as od\n",
        "\n",
        "download_url = 'https://www.kaggle.com/datasets/sobhanmoosavi/us-accidents'\n",
        "\n",
        "od.download(download_url)"
      ]
    },
    {
      "cell_type": "code",
      "execution_count": 4,
      "metadata": {
        "id": "CXmhJ8WLgnnH"
      },
      "outputs": [],
      "source": [
        "data_filename= './us-accidents/US_Accidents_Dec21_updated.csv'"
      ]
    },
    {
      "cell_type": "markdown",
      "metadata": {
        "id": "NjmYQdR2kSe2"
      },
      "source": [
        "## Data Preparation and cleaning\n",
        "\n",
        "1. Load the file using Pandas\n",
        "2. Look at some information about the file\n",
        "3. Fix any missing and incorrect and missing values"
      ]
    },
    {
      "cell_type": "code",
      "execution_count": 5,
      "metadata": {
        "id": "TsdeoM8kgnrM"
      },
      "outputs": [],
      "source": [
        "import numpy as np\n",
        "import pandas as pd\n",
        "import matplotlib.pyplot as plt\n",
        "import seaborn as sns\n",
        "%matplotlib inline"
      ]
    },
    {
      "cell_type": "code",
      "execution_count": 6,
      "metadata": {
        "id": "DIaZJ-pggnuh"
      },
      "outputs": [],
      "source": [
        "df = pd.read_csv(data_filename)"
      ]
    },
    {
      "cell_type": "code",
      "execution_count": 7,
      "metadata": {
        "colab": {
          "base_uri": "https://localhost:8080/",
          "height": 939
        },
        "id": "qZkOov5Gk5Jz",
        "outputId": "c365b534-2ded-4dc2-d18f-a7efacf111bd"
      },
      "outputs": [
        {
          "output_type": "execute_result",
          "data": {
            "text/plain": [
              "                ID  Severity           Start_Time             End_Time  \\\n",
              "0              A-1         3  2016-02-08 00:37:08  2016-02-08 06:37:08   \n",
              "1              A-2         2  2016-02-08 05:56:20  2016-02-08 11:56:20   \n",
              "2              A-3         2  2016-02-08 06:15:39  2016-02-08 12:15:39   \n",
              "3              A-4         2  2016-02-08 06:51:45  2016-02-08 12:51:45   \n",
              "4              A-5         3  2016-02-08 07:53:43  2016-02-08 13:53:43   \n",
              "...            ...       ...                  ...                  ...   \n",
              "2845337  A-2845338         2  2019-08-23 18:03:25  2019-08-23 18:32:01   \n",
              "2845338  A-2845339         2  2019-08-23 19:11:30  2019-08-23 19:38:23   \n",
              "2845339  A-2845340         2  2019-08-23 19:00:21  2019-08-23 19:28:49   \n",
              "2845340  A-2845341         2  2019-08-23 19:00:21  2019-08-23 19:29:42   \n",
              "2845341  A-2845342         2  2019-08-23 18:52:06  2019-08-23 19:21:31   \n",
              "\n",
              "         Start_Lat   Start_Lng    End_Lat     End_Lng  Distance(mi)  \\\n",
              "0        40.108910  -83.092860  40.112060  -83.031870         3.230   \n",
              "1        39.865420  -84.062800  39.865010  -84.048730         0.747   \n",
              "2        39.102660  -84.524680  39.102090  -84.523960         0.055   \n",
              "3        41.062130  -81.537840  41.062170  -81.535470         0.123   \n",
              "4        39.172393  -84.492792  39.170476  -84.501798         0.500   \n",
              "...            ...         ...        ...         ...           ...   \n",
              "2845337  34.002480 -117.379360  33.998880 -117.370940         0.543   \n",
              "2845338  32.766960 -117.148060  32.765550 -117.153630         0.338   \n",
              "2845339  33.775450 -117.847790  33.777400 -117.857270         0.561   \n",
              "2845340  33.992460 -118.403020  33.983110 -118.395650         0.772   \n",
              "2845341  34.133930 -117.230920  34.137360 -117.239340         0.537   \n",
              "\n",
              "                                               Description  ...  Roundabout  \\\n",
              "0        Between Sawmill Rd/Exit 20 and OH-315/Olentang...  ...       False   \n",
              "1                       At OH-4/OH-235/Exit 41 - Accident.  ...       False   \n",
              "2                         At I-71/US-50/Exit 1 - Accident.  ...       False   \n",
              "3                          At Dart Ave/Exit 21 - Accident.  ...       False   \n",
              "4                       At Mitchell Ave/Exit 6 - Accident.  ...       False   \n",
              "...                                                    ...  ...         ...   \n",
              "2845337                           At Market St - Accident.  ...       False   \n",
              "2845338    At Camino Del Rio/Mission Center Rd - Accident.  ...       False   \n",
              "2845339  At Glassell St/Grand Ave - Accident. in the ri...  ...       False   \n",
              "2845340     At CA-90/Marina Fwy/Jefferson Blvd - Accident.  ...       False   \n",
              "2845341              At Highland Ave/Arden Ave - Accident.  ...       False   \n",
              "\n",
              "        Station   Stop Traffic_Calming Traffic_Signal Turning_Loop  \\\n",
              "0         False  False           False          False        False   \n",
              "1         False  False           False          False        False   \n",
              "2         False  False           False          False        False   \n",
              "3         False  False           False          False        False   \n",
              "4         False  False           False          False        False   \n",
              "...         ...    ...             ...            ...          ...   \n",
              "2845337   False  False           False          False        False   \n",
              "2845338   False  False           False          False        False   \n",
              "2845339   False  False           False          False        False   \n",
              "2845340   False  False           False          False        False   \n",
              "2845341   False  False           False          False        False   \n",
              "\n",
              "        Sunrise_Sunset Civil_Twilight Nautical_Twilight Astronomical_Twilight  \n",
              "0                Night          Night             Night                 Night  \n",
              "1                Night          Night             Night                 Night  \n",
              "2                Night          Night             Night                   Day  \n",
              "3                Night          Night               Day                   Day  \n",
              "4                  Day            Day               Day                   Day  \n",
              "...                ...            ...               ...                   ...  \n",
              "2845337            Day            Day               Day                   Day  \n",
              "2845338            Day            Day               Day                   Day  \n",
              "2845339            Day            Day               Day                   Day  \n",
              "2845340            Day            Day               Day                   Day  \n",
              "2845341            Day            Day               Day                   Day  \n",
              "\n",
              "[2845342 rows x 47 columns]"
            ],
            "text/html": [
              "\n",
              "  <div id=\"df-5be9243c-8806-44dd-bb91-60fef4791364\">\n",
              "    <div class=\"colab-df-container\">\n",
              "      <div>\n",
              "<style scoped>\n",
              "    .dataframe tbody tr th:only-of-type {\n",
              "        vertical-align: middle;\n",
              "    }\n",
              "\n",
              "    .dataframe tbody tr th {\n",
              "        vertical-align: top;\n",
              "    }\n",
              "\n",
              "    .dataframe thead th {\n",
              "        text-align: right;\n",
              "    }\n",
              "</style>\n",
              "<table border=\"1\" class=\"dataframe\">\n",
              "  <thead>\n",
              "    <tr style=\"text-align: right;\">\n",
              "      <th></th>\n",
              "      <th>ID</th>\n",
              "      <th>Severity</th>\n",
              "      <th>Start_Time</th>\n",
              "      <th>End_Time</th>\n",
              "      <th>Start_Lat</th>\n",
              "      <th>Start_Lng</th>\n",
              "      <th>End_Lat</th>\n",
              "      <th>End_Lng</th>\n",
              "      <th>Distance(mi)</th>\n",
              "      <th>Description</th>\n",
              "      <th>...</th>\n",
              "      <th>Roundabout</th>\n",
              "      <th>Station</th>\n",
              "      <th>Stop</th>\n",
              "      <th>Traffic_Calming</th>\n",
              "      <th>Traffic_Signal</th>\n",
              "      <th>Turning_Loop</th>\n",
              "      <th>Sunrise_Sunset</th>\n",
              "      <th>Civil_Twilight</th>\n",
              "      <th>Nautical_Twilight</th>\n",
              "      <th>Astronomical_Twilight</th>\n",
              "    </tr>\n",
              "  </thead>\n",
              "  <tbody>\n",
              "    <tr>\n",
              "      <th>0</th>\n",
              "      <td>A-1</td>\n",
              "      <td>3</td>\n",
              "      <td>2016-02-08 00:37:08</td>\n",
              "      <td>2016-02-08 06:37:08</td>\n",
              "      <td>40.108910</td>\n",
              "      <td>-83.092860</td>\n",
              "      <td>40.112060</td>\n",
              "      <td>-83.031870</td>\n",
              "      <td>3.230</td>\n",
              "      <td>Between Sawmill Rd/Exit 20 and OH-315/Olentang...</td>\n",
              "      <td>...</td>\n",
              "      <td>False</td>\n",
              "      <td>False</td>\n",
              "      <td>False</td>\n",
              "      <td>False</td>\n",
              "      <td>False</td>\n",
              "      <td>False</td>\n",
              "      <td>Night</td>\n",
              "      <td>Night</td>\n",
              "      <td>Night</td>\n",
              "      <td>Night</td>\n",
              "    </tr>\n",
              "    <tr>\n",
              "      <th>1</th>\n",
              "      <td>A-2</td>\n",
              "      <td>2</td>\n",
              "      <td>2016-02-08 05:56:20</td>\n",
              "      <td>2016-02-08 11:56:20</td>\n",
              "      <td>39.865420</td>\n",
              "      <td>-84.062800</td>\n",
              "      <td>39.865010</td>\n",
              "      <td>-84.048730</td>\n",
              "      <td>0.747</td>\n",
              "      <td>At OH-4/OH-235/Exit 41 - Accident.</td>\n",
              "      <td>...</td>\n",
              "      <td>False</td>\n",
              "      <td>False</td>\n",
              "      <td>False</td>\n",
              "      <td>False</td>\n",
              "      <td>False</td>\n",
              "      <td>False</td>\n",
              "      <td>Night</td>\n",
              "      <td>Night</td>\n",
              "      <td>Night</td>\n",
              "      <td>Night</td>\n",
              "    </tr>\n",
              "    <tr>\n",
              "      <th>2</th>\n",
              "      <td>A-3</td>\n",
              "      <td>2</td>\n",
              "      <td>2016-02-08 06:15:39</td>\n",
              "      <td>2016-02-08 12:15:39</td>\n",
              "      <td>39.102660</td>\n",
              "      <td>-84.524680</td>\n",
              "      <td>39.102090</td>\n",
              "      <td>-84.523960</td>\n",
              "      <td>0.055</td>\n",
              "      <td>At I-71/US-50/Exit 1 - Accident.</td>\n",
              "      <td>...</td>\n",
              "      <td>False</td>\n",
              "      <td>False</td>\n",
              "      <td>False</td>\n",
              "      <td>False</td>\n",
              "      <td>False</td>\n",
              "      <td>False</td>\n",
              "      <td>Night</td>\n",
              "      <td>Night</td>\n",
              "      <td>Night</td>\n",
              "      <td>Day</td>\n",
              "    </tr>\n",
              "    <tr>\n",
              "      <th>3</th>\n",
              "      <td>A-4</td>\n",
              "      <td>2</td>\n",
              "      <td>2016-02-08 06:51:45</td>\n",
              "      <td>2016-02-08 12:51:45</td>\n",
              "      <td>41.062130</td>\n",
              "      <td>-81.537840</td>\n",
              "      <td>41.062170</td>\n",
              "      <td>-81.535470</td>\n",
              "      <td>0.123</td>\n",
              "      <td>At Dart Ave/Exit 21 - Accident.</td>\n",
              "      <td>...</td>\n",
              "      <td>False</td>\n",
              "      <td>False</td>\n",
              "      <td>False</td>\n",
              "      <td>False</td>\n",
              "      <td>False</td>\n",
              "      <td>False</td>\n",
              "      <td>Night</td>\n",
              "      <td>Night</td>\n",
              "      <td>Day</td>\n",
              "      <td>Day</td>\n",
              "    </tr>\n",
              "    <tr>\n",
              "      <th>4</th>\n",
              "      <td>A-5</td>\n",
              "      <td>3</td>\n",
              "      <td>2016-02-08 07:53:43</td>\n",
              "      <td>2016-02-08 13:53:43</td>\n",
              "      <td>39.172393</td>\n",
              "      <td>-84.492792</td>\n",
              "      <td>39.170476</td>\n",
              "      <td>-84.501798</td>\n",
              "      <td>0.500</td>\n",
              "      <td>At Mitchell Ave/Exit 6 - Accident.</td>\n",
              "      <td>...</td>\n",
              "      <td>False</td>\n",
              "      <td>False</td>\n",
              "      <td>False</td>\n",
              "      <td>False</td>\n",
              "      <td>False</td>\n",
              "      <td>False</td>\n",
              "      <td>Day</td>\n",
              "      <td>Day</td>\n",
              "      <td>Day</td>\n",
              "      <td>Day</td>\n",
              "    </tr>\n",
              "    <tr>\n",
              "      <th>...</th>\n",
              "      <td>...</td>\n",
              "      <td>...</td>\n",
              "      <td>...</td>\n",
              "      <td>...</td>\n",
              "      <td>...</td>\n",
              "      <td>...</td>\n",
              "      <td>...</td>\n",
              "      <td>...</td>\n",
              "      <td>...</td>\n",
              "      <td>...</td>\n",
              "      <td>...</td>\n",
              "      <td>...</td>\n",
              "      <td>...</td>\n",
              "      <td>...</td>\n",
              "      <td>...</td>\n",
              "      <td>...</td>\n",
              "      <td>...</td>\n",
              "      <td>...</td>\n",
              "      <td>...</td>\n",
              "      <td>...</td>\n",
              "      <td>...</td>\n",
              "    </tr>\n",
              "    <tr>\n",
              "      <th>2845337</th>\n",
              "      <td>A-2845338</td>\n",
              "      <td>2</td>\n",
              "      <td>2019-08-23 18:03:25</td>\n",
              "      <td>2019-08-23 18:32:01</td>\n",
              "      <td>34.002480</td>\n",
              "      <td>-117.379360</td>\n",
              "      <td>33.998880</td>\n",
              "      <td>-117.370940</td>\n",
              "      <td>0.543</td>\n",
              "      <td>At Market St - Accident.</td>\n",
              "      <td>...</td>\n",
              "      <td>False</td>\n",
              "      <td>False</td>\n",
              "      <td>False</td>\n",
              "      <td>False</td>\n",
              "      <td>False</td>\n",
              "      <td>False</td>\n",
              "      <td>Day</td>\n",
              "      <td>Day</td>\n",
              "      <td>Day</td>\n",
              "      <td>Day</td>\n",
              "    </tr>\n",
              "    <tr>\n",
              "      <th>2845338</th>\n",
              "      <td>A-2845339</td>\n",
              "      <td>2</td>\n",
              "      <td>2019-08-23 19:11:30</td>\n",
              "      <td>2019-08-23 19:38:23</td>\n",
              "      <td>32.766960</td>\n",
              "      <td>-117.148060</td>\n",
              "      <td>32.765550</td>\n",
              "      <td>-117.153630</td>\n",
              "      <td>0.338</td>\n",
              "      <td>At Camino Del Rio/Mission Center Rd - Accident.</td>\n",
              "      <td>...</td>\n",
              "      <td>False</td>\n",
              "      <td>False</td>\n",
              "      <td>False</td>\n",
              "      <td>False</td>\n",
              "      <td>False</td>\n",
              "      <td>False</td>\n",
              "      <td>Day</td>\n",
              "      <td>Day</td>\n",
              "      <td>Day</td>\n",
              "      <td>Day</td>\n",
              "    </tr>\n",
              "    <tr>\n",
              "      <th>2845339</th>\n",
              "      <td>A-2845340</td>\n",
              "      <td>2</td>\n",
              "      <td>2019-08-23 19:00:21</td>\n",
              "      <td>2019-08-23 19:28:49</td>\n",
              "      <td>33.775450</td>\n",
              "      <td>-117.847790</td>\n",
              "      <td>33.777400</td>\n",
              "      <td>-117.857270</td>\n",
              "      <td>0.561</td>\n",
              "      <td>At Glassell St/Grand Ave - Accident. in the ri...</td>\n",
              "      <td>...</td>\n",
              "      <td>False</td>\n",
              "      <td>False</td>\n",
              "      <td>False</td>\n",
              "      <td>False</td>\n",
              "      <td>False</td>\n",
              "      <td>False</td>\n",
              "      <td>Day</td>\n",
              "      <td>Day</td>\n",
              "      <td>Day</td>\n",
              "      <td>Day</td>\n",
              "    </tr>\n",
              "    <tr>\n",
              "      <th>2845340</th>\n",
              "      <td>A-2845341</td>\n",
              "      <td>2</td>\n",
              "      <td>2019-08-23 19:00:21</td>\n",
              "      <td>2019-08-23 19:29:42</td>\n",
              "      <td>33.992460</td>\n",
              "      <td>-118.403020</td>\n",
              "      <td>33.983110</td>\n",
              "      <td>-118.395650</td>\n",
              "      <td>0.772</td>\n",
              "      <td>At CA-90/Marina Fwy/Jefferson Blvd - Accident.</td>\n",
              "      <td>...</td>\n",
              "      <td>False</td>\n",
              "      <td>False</td>\n",
              "      <td>False</td>\n",
              "      <td>False</td>\n",
              "      <td>False</td>\n",
              "      <td>False</td>\n",
              "      <td>Day</td>\n",
              "      <td>Day</td>\n",
              "      <td>Day</td>\n",
              "      <td>Day</td>\n",
              "    </tr>\n",
              "    <tr>\n",
              "      <th>2845341</th>\n",
              "      <td>A-2845342</td>\n",
              "      <td>2</td>\n",
              "      <td>2019-08-23 18:52:06</td>\n",
              "      <td>2019-08-23 19:21:31</td>\n",
              "      <td>34.133930</td>\n",
              "      <td>-117.230920</td>\n",
              "      <td>34.137360</td>\n",
              "      <td>-117.239340</td>\n",
              "      <td>0.537</td>\n",
              "      <td>At Highland Ave/Arden Ave - Accident.</td>\n",
              "      <td>...</td>\n",
              "      <td>False</td>\n",
              "      <td>False</td>\n",
              "      <td>False</td>\n",
              "      <td>False</td>\n",
              "      <td>False</td>\n",
              "      <td>False</td>\n",
              "      <td>Day</td>\n",
              "      <td>Day</td>\n",
              "      <td>Day</td>\n",
              "      <td>Day</td>\n",
              "    </tr>\n",
              "  </tbody>\n",
              "</table>\n",
              "<p>2845342 rows × 47 columns</p>\n",
              "</div>\n",
              "      <button class=\"colab-df-convert\" onclick=\"convertToInteractive('df-5be9243c-8806-44dd-bb91-60fef4791364')\"\n",
              "              title=\"Convert this dataframe to an interactive table.\"\n",
              "              style=\"display:none;\">\n",
              "        \n",
              "  <svg xmlns=\"http://www.w3.org/2000/svg\" height=\"24px\"viewBox=\"0 0 24 24\"\n",
              "       width=\"24px\">\n",
              "    <path d=\"M0 0h24v24H0V0z\" fill=\"none\"/>\n",
              "    <path d=\"M18.56 5.44l.94 2.06.94-2.06 2.06-.94-2.06-.94-.94-2.06-.94 2.06-2.06.94zm-11 1L8.5 8.5l.94-2.06 2.06-.94-2.06-.94L8.5 2.5l-.94 2.06-2.06.94zm10 10l.94 2.06.94-2.06 2.06-.94-2.06-.94-.94-2.06-.94 2.06-2.06.94z\"/><path d=\"M17.41 7.96l-1.37-1.37c-.4-.4-.92-.59-1.43-.59-.52 0-1.04.2-1.43.59L10.3 9.45l-7.72 7.72c-.78.78-.78 2.05 0 2.83L4 21.41c.39.39.9.59 1.41.59.51 0 1.02-.2 1.41-.59l7.78-7.78 2.81-2.81c.8-.78.8-2.07 0-2.86zM5.41 20L4 18.59l7.72-7.72 1.47 1.35L5.41 20z\"/>\n",
              "  </svg>\n",
              "      </button>\n",
              "      \n",
              "  <style>\n",
              "    .colab-df-container {\n",
              "      display:flex;\n",
              "      flex-wrap:wrap;\n",
              "      gap: 12px;\n",
              "    }\n",
              "\n",
              "    .colab-df-convert {\n",
              "      background-color: #E8F0FE;\n",
              "      border: none;\n",
              "      border-radius: 50%;\n",
              "      cursor: pointer;\n",
              "      display: none;\n",
              "      fill: #1967D2;\n",
              "      height: 32px;\n",
              "      padding: 0 0 0 0;\n",
              "      width: 32px;\n",
              "    }\n",
              "\n",
              "    .colab-df-convert:hover {\n",
              "      background-color: #E2EBFA;\n",
              "      box-shadow: 0px 1px 2px rgba(60, 64, 67, 0.3), 0px 1px 3px 1px rgba(60, 64, 67, 0.15);\n",
              "      fill: #174EA6;\n",
              "    }\n",
              "\n",
              "    [theme=dark] .colab-df-convert {\n",
              "      background-color: #3B4455;\n",
              "      fill: #D2E3FC;\n",
              "    }\n",
              "\n",
              "    [theme=dark] .colab-df-convert:hover {\n",
              "      background-color: #434B5C;\n",
              "      box-shadow: 0px 1px 3px 1px rgba(0, 0, 0, 0.15);\n",
              "      filter: drop-shadow(0px 1px 2px rgba(0, 0, 0, 0.3));\n",
              "      fill: #FFFFFF;\n",
              "    }\n",
              "  </style>\n",
              "\n",
              "      <script>\n",
              "        const buttonEl =\n",
              "          document.querySelector('#df-5be9243c-8806-44dd-bb91-60fef4791364 button.colab-df-convert');\n",
              "        buttonEl.style.display =\n",
              "          google.colab.kernel.accessAllowed ? 'block' : 'none';\n",
              "\n",
              "        async function convertToInteractive(key) {\n",
              "          const element = document.querySelector('#df-5be9243c-8806-44dd-bb91-60fef4791364');\n",
              "          const dataTable =\n",
              "            await google.colab.kernel.invokeFunction('convertToInteractive',\n",
              "                                                     [key], {});\n",
              "          if (!dataTable) return;\n",
              "\n",
              "          const docLinkHtml = 'Like what you see? Visit the ' +\n",
              "            '<a target=\"_blank\" href=https://colab.research.google.com/notebooks/data_table.ipynb>data table notebook</a>'\n",
              "            + ' to learn more about interactive tables.';\n",
              "          element.innerHTML = '';\n",
              "          dataTable['output_type'] = 'display_data';\n",
              "          await google.colab.output.renderOutput(dataTable, element);\n",
              "          const docLink = document.createElement('div');\n",
              "          docLink.innerHTML = docLinkHtml;\n",
              "          element.appendChild(docLink);\n",
              "        }\n",
              "      </script>\n",
              "    </div>\n",
              "  </div>\n",
              "  "
            ]
          },
          "metadata": {},
          "execution_count": 7
        }
      ],
      "source": [
        "df"
      ]
    },
    {
      "cell_type": "code",
      "execution_count": 8,
      "metadata": {
        "colab": {
          "base_uri": "https://localhost:8080/"
        },
        "id": "8mM98K5Up3JT",
        "outputId": "a5548641-bb33-4216-c4fb-c6ad11e58321"
      },
      "outputs": [
        {
          "output_type": "execute_result",
          "data": {
            "text/plain": [
              "Index(['ID', 'Severity', 'Start_Time', 'End_Time', 'Start_Lat', 'Start_Lng',\n",
              "       'End_Lat', 'End_Lng', 'Distance(mi)', 'Description', 'Number', 'Street',\n",
              "       'Side', 'City', 'County', 'State', 'Zipcode', 'Country', 'Timezone',\n",
              "       'Airport_Code', 'Weather_Timestamp', 'Temperature(F)', 'Wind_Chill(F)',\n",
              "       'Humidity(%)', 'Pressure(in)', 'Visibility(mi)', 'Wind_Direction',\n",
              "       'Wind_Speed(mph)', 'Precipitation(in)', 'Weather_Condition', 'Amenity',\n",
              "       'Bump', 'Crossing', 'Give_Way', 'Junction', 'No_Exit', 'Railway',\n",
              "       'Roundabout', 'Station', 'Stop', 'Traffic_Calming', 'Traffic_Signal',\n",
              "       'Turning_Loop', 'Sunrise_Sunset', 'Civil_Twilight', 'Nautical_Twilight',\n",
              "       'Astronomical_Twilight'],\n",
              "      dtype='object')"
            ]
          },
          "metadata": {},
          "execution_count": 8
        }
      ],
      "source": [
        "df.columns"
      ]
    },
    {
      "cell_type": "code",
      "execution_count": 9,
      "metadata": {
        "colab": {
          "base_uri": "https://localhost:8080/"
        },
        "id": "sAwHZT-8p8ws",
        "outputId": "4780deae-16b4-4e84-a230-721ddfc97223"
      },
      "outputs": [
        {
          "output_type": "execute_result",
          "data": {
            "text/plain": [
              "(2845342, 47)"
            ]
          },
          "metadata": {},
          "execution_count": 9
        }
      ],
      "source": [
        "df.shape"
      ]
    },
    {
      "cell_type": "code",
      "execution_count": 10,
      "metadata": {
        "colab": {
          "base_uri": "https://localhost:8080/"
        },
        "id": "rXLyfJGfqBWD",
        "outputId": "9a0667a3-8f45-4a26-f81f-e0ae32e155c3"
      },
      "outputs": [
        {
          "output_type": "stream",
          "name": "stdout",
          "text": [
            "<class 'pandas.core.frame.DataFrame'>\n",
            "RangeIndex: 2845342 entries, 0 to 2845341\n",
            "Data columns (total 47 columns):\n",
            " #   Column                 Dtype  \n",
            "---  ------                 -----  \n",
            " 0   ID                     object \n",
            " 1   Severity               int64  \n",
            " 2   Start_Time             object \n",
            " 3   End_Time               object \n",
            " 4   Start_Lat              float64\n",
            " 5   Start_Lng              float64\n",
            " 6   End_Lat                float64\n",
            " 7   End_Lng                float64\n",
            " 8   Distance(mi)           float64\n",
            " 9   Description            object \n",
            " 10  Number                 float64\n",
            " 11  Street                 object \n",
            " 12  Side                   object \n",
            " 13  City                   object \n",
            " 14  County                 object \n",
            " 15  State                  object \n",
            " 16  Zipcode                object \n",
            " 17  Country                object \n",
            " 18  Timezone               object \n",
            " 19  Airport_Code           object \n",
            " 20  Weather_Timestamp      object \n",
            " 21  Temperature(F)         float64\n",
            " 22  Wind_Chill(F)          float64\n",
            " 23  Humidity(%)            float64\n",
            " 24  Pressure(in)           float64\n",
            " 25  Visibility(mi)         float64\n",
            " 26  Wind_Direction         object \n",
            " 27  Wind_Speed(mph)        float64\n",
            " 28  Precipitation(in)      float64\n",
            " 29  Weather_Condition      object \n",
            " 30  Amenity                bool   \n",
            " 31  Bump                   bool   \n",
            " 32  Crossing               bool   \n",
            " 33  Give_Way               bool   \n",
            " 34  Junction               bool   \n",
            " 35  No_Exit                bool   \n",
            " 36  Railway                bool   \n",
            " 37  Roundabout             bool   \n",
            " 38  Station                bool   \n",
            " 39  Stop                   bool   \n",
            " 40  Traffic_Calming        bool   \n",
            " 41  Traffic_Signal         bool   \n",
            " 42  Turning_Loop           bool   \n",
            " 43  Sunrise_Sunset         object \n",
            " 44  Civil_Twilight         object \n",
            " 45  Nautical_Twilight      object \n",
            " 46  Astronomical_Twilight  object \n",
            "dtypes: bool(13), float64(13), int64(1), object(20)\n",
            "memory usage: 773.4+ MB\n"
          ]
        }
      ],
      "source": [
        "df.info()"
      ]
    },
    {
      "cell_type": "code",
      "execution_count": 11,
      "metadata": {
        "colab": {
          "base_uri": "https://localhost:8080/",
          "height": 364
        },
        "id": "ae7ZEOM4qDV7",
        "outputId": "37375f85-05a8-4705-ef29-03e2c306bd20"
      },
      "outputs": [
        {
          "output_type": "execute_result",
          "data": {
            "text/plain": [
              "           Severity     Start_Lat     Start_Lng       End_Lat       End_Lng  \\\n",
              "count  2.845342e+06  2.845342e+06  2.845342e+06  2.845342e+06  2.845342e+06   \n",
              "mean   2.137572e+00  3.624520e+01 -9.711463e+01  3.624532e+01 -9.711439e+01   \n",
              "std    4.787216e-01  5.363797e+00  1.831782e+01  5.363873e+00  1.831763e+01   \n",
              "min    1.000000e+00  2.456603e+01 -1.245481e+02  2.456601e+01 -1.245457e+02   \n",
              "25%    2.000000e+00  3.344517e+01 -1.180331e+02  3.344628e+01 -1.180333e+02   \n",
              "50%    2.000000e+00  3.609861e+01 -9.241808e+01  3.609799e+01 -9.241772e+01   \n",
              "75%    2.000000e+00  4.016024e+01 -8.037243e+01  4.016105e+01 -8.037338e+01   \n",
              "max    4.000000e+00  4.900058e+01 -6.711317e+01  4.907500e+01 -6.710924e+01   \n",
              "\n",
              "       Distance(mi)        Number  Temperature(F)  Wind_Chill(F)  \\\n",
              "count  2.845342e+06  1.101431e+06    2.776068e+06   2.375699e+06   \n",
              "mean   7.026779e-01  8.089408e+03    6.179356e+01   5.965823e+01   \n",
              "std    1.560361e+00  1.836009e+04    1.862263e+01   2.116097e+01   \n",
              "min    0.000000e+00  0.000000e+00   -8.900000e+01  -8.900000e+01   \n",
              "25%    5.200000e-02  1.270000e+03    5.000000e+01   4.600000e+01   \n",
              "50%    2.440000e-01  4.007000e+03    6.400000e+01   6.300000e+01   \n",
              "75%    7.640000e-01  9.567000e+03    7.600000e+01   7.600000e+01   \n",
              "max    1.551860e+02  9.999997e+06    1.960000e+02   1.960000e+02   \n",
              "\n",
              "        Humidity(%)  Pressure(in)  Visibility(mi)  Wind_Speed(mph)  \\\n",
              "count  2.772250e+06  2.786142e+06    2.774796e+06     2.687398e+06   \n",
              "mean   6.436545e+01  2.947234e+01    9.099391e+00     7.395044e+00   \n",
              "std    2.287457e+01  1.045286e+00    2.717546e+00     5.527454e+00   \n",
              "min    1.000000e+00  0.000000e+00    0.000000e+00     0.000000e+00   \n",
              "25%    4.800000e+01  2.931000e+01    1.000000e+01     3.500000e+00   \n",
              "50%    6.700000e+01  2.982000e+01    1.000000e+01     7.000000e+00   \n",
              "75%    8.300000e+01  3.001000e+01    1.000000e+01     1.000000e+01   \n",
              "max    1.000000e+02  5.890000e+01    1.400000e+02     1.087000e+03   \n",
              "\n",
              "       Precipitation(in)  \n",
              "count       2.295884e+06  \n",
              "mean        7.016940e-03  \n",
              "std         9.348831e-02  \n",
              "min         0.000000e+00  \n",
              "25%         0.000000e+00  \n",
              "50%         0.000000e+00  \n",
              "75%         0.000000e+00  \n",
              "max         2.400000e+01  "
            ],
            "text/html": [
              "\n",
              "  <div id=\"df-45751ef1-a2ba-4381-a8f5-21dff17a7287\">\n",
              "    <div class=\"colab-df-container\">\n",
              "      <div>\n",
              "<style scoped>\n",
              "    .dataframe tbody tr th:only-of-type {\n",
              "        vertical-align: middle;\n",
              "    }\n",
              "\n",
              "    .dataframe tbody tr th {\n",
              "        vertical-align: top;\n",
              "    }\n",
              "\n",
              "    .dataframe thead th {\n",
              "        text-align: right;\n",
              "    }\n",
              "</style>\n",
              "<table border=\"1\" class=\"dataframe\">\n",
              "  <thead>\n",
              "    <tr style=\"text-align: right;\">\n",
              "      <th></th>\n",
              "      <th>Severity</th>\n",
              "      <th>Start_Lat</th>\n",
              "      <th>Start_Lng</th>\n",
              "      <th>End_Lat</th>\n",
              "      <th>End_Lng</th>\n",
              "      <th>Distance(mi)</th>\n",
              "      <th>Number</th>\n",
              "      <th>Temperature(F)</th>\n",
              "      <th>Wind_Chill(F)</th>\n",
              "      <th>Humidity(%)</th>\n",
              "      <th>Pressure(in)</th>\n",
              "      <th>Visibility(mi)</th>\n",
              "      <th>Wind_Speed(mph)</th>\n",
              "      <th>Precipitation(in)</th>\n",
              "    </tr>\n",
              "  </thead>\n",
              "  <tbody>\n",
              "    <tr>\n",
              "      <th>count</th>\n",
              "      <td>2.845342e+06</td>\n",
              "      <td>2.845342e+06</td>\n",
              "      <td>2.845342e+06</td>\n",
              "      <td>2.845342e+06</td>\n",
              "      <td>2.845342e+06</td>\n",
              "      <td>2.845342e+06</td>\n",
              "      <td>1.101431e+06</td>\n",
              "      <td>2.776068e+06</td>\n",
              "      <td>2.375699e+06</td>\n",
              "      <td>2.772250e+06</td>\n",
              "      <td>2.786142e+06</td>\n",
              "      <td>2.774796e+06</td>\n",
              "      <td>2.687398e+06</td>\n",
              "      <td>2.295884e+06</td>\n",
              "    </tr>\n",
              "    <tr>\n",
              "      <th>mean</th>\n",
              "      <td>2.137572e+00</td>\n",
              "      <td>3.624520e+01</td>\n",
              "      <td>-9.711463e+01</td>\n",
              "      <td>3.624532e+01</td>\n",
              "      <td>-9.711439e+01</td>\n",
              "      <td>7.026779e-01</td>\n",
              "      <td>8.089408e+03</td>\n",
              "      <td>6.179356e+01</td>\n",
              "      <td>5.965823e+01</td>\n",
              "      <td>6.436545e+01</td>\n",
              "      <td>2.947234e+01</td>\n",
              "      <td>9.099391e+00</td>\n",
              "      <td>7.395044e+00</td>\n",
              "      <td>7.016940e-03</td>\n",
              "    </tr>\n",
              "    <tr>\n",
              "      <th>std</th>\n",
              "      <td>4.787216e-01</td>\n",
              "      <td>5.363797e+00</td>\n",
              "      <td>1.831782e+01</td>\n",
              "      <td>5.363873e+00</td>\n",
              "      <td>1.831763e+01</td>\n",
              "      <td>1.560361e+00</td>\n",
              "      <td>1.836009e+04</td>\n",
              "      <td>1.862263e+01</td>\n",
              "      <td>2.116097e+01</td>\n",
              "      <td>2.287457e+01</td>\n",
              "      <td>1.045286e+00</td>\n",
              "      <td>2.717546e+00</td>\n",
              "      <td>5.527454e+00</td>\n",
              "      <td>9.348831e-02</td>\n",
              "    </tr>\n",
              "    <tr>\n",
              "      <th>min</th>\n",
              "      <td>1.000000e+00</td>\n",
              "      <td>2.456603e+01</td>\n",
              "      <td>-1.245481e+02</td>\n",
              "      <td>2.456601e+01</td>\n",
              "      <td>-1.245457e+02</td>\n",
              "      <td>0.000000e+00</td>\n",
              "      <td>0.000000e+00</td>\n",
              "      <td>-8.900000e+01</td>\n",
              "      <td>-8.900000e+01</td>\n",
              "      <td>1.000000e+00</td>\n",
              "      <td>0.000000e+00</td>\n",
              "      <td>0.000000e+00</td>\n",
              "      <td>0.000000e+00</td>\n",
              "      <td>0.000000e+00</td>\n",
              "    </tr>\n",
              "    <tr>\n",
              "      <th>25%</th>\n",
              "      <td>2.000000e+00</td>\n",
              "      <td>3.344517e+01</td>\n",
              "      <td>-1.180331e+02</td>\n",
              "      <td>3.344628e+01</td>\n",
              "      <td>-1.180333e+02</td>\n",
              "      <td>5.200000e-02</td>\n",
              "      <td>1.270000e+03</td>\n",
              "      <td>5.000000e+01</td>\n",
              "      <td>4.600000e+01</td>\n",
              "      <td>4.800000e+01</td>\n",
              "      <td>2.931000e+01</td>\n",
              "      <td>1.000000e+01</td>\n",
              "      <td>3.500000e+00</td>\n",
              "      <td>0.000000e+00</td>\n",
              "    </tr>\n",
              "    <tr>\n",
              "      <th>50%</th>\n",
              "      <td>2.000000e+00</td>\n",
              "      <td>3.609861e+01</td>\n",
              "      <td>-9.241808e+01</td>\n",
              "      <td>3.609799e+01</td>\n",
              "      <td>-9.241772e+01</td>\n",
              "      <td>2.440000e-01</td>\n",
              "      <td>4.007000e+03</td>\n",
              "      <td>6.400000e+01</td>\n",
              "      <td>6.300000e+01</td>\n",
              "      <td>6.700000e+01</td>\n",
              "      <td>2.982000e+01</td>\n",
              "      <td>1.000000e+01</td>\n",
              "      <td>7.000000e+00</td>\n",
              "      <td>0.000000e+00</td>\n",
              "    </tr>\n",
              "    <tr>\n",
              "      <th>75%</th>\n",
              "      <td>2.000000e+00</td>\n",
              "      <td>4.016024e+01</td>\n",
              "      <td>-8.037243e+01</td>\n",
              "      <td>4.016105e+01</td>\n",
              "      <td>-8.037338e+01</td>\n",
              "      <td>7.640000e-01</td>\n",
              "      <td>9.567000e+03</td>\n",
              "      <td>7.600000e+01</td>\n",
              "      <td>7.600000e+01</td>\n",
              "      <td>8.300000e+01</td>\n",
              "      <td>3.001000e+01</td>\n",
              "      <td>1.000000e+01</td>\n",
              "      <td>1.000000e+01</td>\n",
              "      <td>0.000000e+00</td>\n",
              "    </tr>\n",
              "    <tr>\n",
              "      <th>max</th>\n",
              "      <td>4.000000e+00</td>\n",
              "      <td>4.900058e+01</td>\n",
              "      <td>-6.711317e+01</td>\n",
              "      <td>4.907500e+01</td>\n",
              "      <td>-6.710924e+01</td>\n",
              "      <td>1.551860e+02</td>\n",
              "      <td>9.999997e+06</td>\n",
              "      <td>1.960000e+02</td>\n",
              "      <td>1.960000e+02</td>\n",
              "      <td>1.000000e+02</td>\n",
              "      <td>5.890000e+01</td>\n",
              "      <td>1.400000e+02</td>\n",
              "      <td>1.087000e+03</td>\n",
              "      <td>2.400000e+01</td>\n",
              "    </tr>\n",
              "  </tbody>\n",
              "</table>\n",
              "</div>\n",
              "      <button class=\"colab-df-convert\" onclick=\"convertToInteractive('df-45751ef1-a2ba-4381-a8f5-21dff17a7287')\"\n",
              "              title=\"Convert this dataframe to an interactive table.\"\n",
              "              style=\"display:none;\">\n",
              "        \n",
              "  <svg xmlns=\"http://www.w3.org/2000/svg\" height=\"24px\"viewBox=\"0 0 24 24\"\n",
              "       width=\"24px\">\n",
              "    <path d=\"M0 0h24v24H0V0z\" fill=\"none\"/>\n",
              "    <path d=\"M18.56 5.44l.94 2.06.94-2.06 2.06-.94-2.06-.94-.94-2.06-.94 2.06-2.06.94zm-11 1L8.5 8.5l.94-2.06 2.06-.94-2.06-.94L8.5 2.5l-.94 2.06-2.06.94zm10 10l.94 2.06.94-2.06 2.06-.94-2.06-.94-.94-2.06-.94 2.06-2.06.94z\"/><path d=\"M17.41 7.96l-1.37-1.37c-.4-.4-.92-.59-1.43-.59-.52 0-1.04.2-1.43.59L10.3 9.45l-7.72 7.72c-.78.78-.78 2.05 0 2.83L4 21.41c.39.39.9.59 1.41.59.51 0 1.02-.2 1.41-.59l7.78-7.78 2.81-2.81c.8-.78.8-2.07 0-2.86zM5.41 20L4 18.59l7.72-7.72 1.47 1.35L5.41 20z\"/>\n",
              "  </svg>\n",
              "      </button>\n",
              "      \n",
              "  <style>\n",
              "    .colab-df-container {\n",
              "      display:flex;\n",
              "      flex-wrap:wrap;\n",
              "      gap: 12px;\n",
              "    }\n",
              "\n",
              "    .colab-df-convert {\n",
              "      background-color: #E8F0FE;\n",
              "      border: none;\n",
              "      border-radius: 50%;\n",
              "      cursor: pointer;\n",
              "      display: none;\n",
              "      fill: #1967D2;\n",
              "      height: 32px;\n",
              "      padding: 0 0 0 0;\n",
              "      width: 32px;\n",
              "    }\n",
              "\n",
              "    .colab-df-convert:hover {\n",
              "      background-color: #E2EBFA;\n",
              "      box-shadow: 0px 1px 2px rgba(60, 64, 67, 0.3), 0px 1px 3px 1px rgba(60, 64, 67, 0.15);\n",
              "      fill: #174EA6;\n",
              "    }\n",
              "\n",
              "    [theme=dark] .colab-df-convert {\n",
              "      background-color: #3B4455;\n",
              "      fill: #D2E3FC;\n",
              "    }\n",
              "\n",
              "    [theme=dark] .colab-df-convert:hover {\n",
              "      background-color: #434B5C;\n",
              "      box-shadow: 0px 1px 3px 1px rgba(0, 0, 0, 0.15);\n",
              "      filter: drop-shadow(0px 1px 2px rgba(0, 0, 0, 0.3));\n",
              "      fill: #FFFFFF;\n",
              "    }\n",
              "  </style>\n",
              "\n",
              "      <script>\n",
              "        const buttonEl =\n",
              "          document.querySelector('#df-45751ef1-a2ba-4381-a8f5-21dff17a7287 button.colab-df-convert');\n",
              "        buttonEl.style.display =\n",
              "          google.colab.kernel.accessAllowed ? 'block' : 'none';\n",
              "\n",
              "        async function convertToInteractive(key) {\n",
              "          const element = document.querySelector('#df-45751ef1-a2ba-4381-a8f5-21dff17a7287');\n",
              "          const dataTable =\n",
              "            await google.colab.kernel.invokeFunction('convertToInteractive',\n",
              "                                                     [key], {});\n",
              "          if (!dataTable) return;\n",
              "\n",
              "          const docLinkHtml = 'Like what you see? Visit the ' +\n",
              "            '<a target=\"_blank\" href=https://colab.research.google.com/notebooks/data_table.ipynb>data table notebook</a>'\n",
              "            + ' to learn more about interactive tables.';\n",
              "          element.innerHTML = '';\n",
              "          dataTable['output_type'] = 'display_data';\n",
              "          await google.colab.output.renderOutput(dataTable, element);\n",
              "          const docLink = document.createElement('div');\n",
              "          docLink.innerHTML = docLinkHtml;\n",
              "          element.appendChild(docLink);\n",
              "        }\n",
              "      </script>\n",
              "    </div>\n",
              "  </div>\n",
              "  "
            ]
          },
          "metadata": {},
          "execution_count": 11
        }
      ],
      "source": [
        "df.describe()"
      ]
    },
    {
      "cell_type": "code",
      "execution_count": 12,
      "metadata": {
        "colab": {
          "base_uri": "https://localhost:8080/"
        },
        "id": "IxJQORuOqU-R",
        "outputId": "4c8964f8-9d94-47ec-d1ed-9e71ce80d143"
      },
      "outputs": [
        {
          "output_type": "execute_result",
          "data": {
            "text/plain": [
              "['Severity',\n",
              " 'Start_Lat',\n",
              " 'Start_Lng',\n",
              " 'End_Lat',\n",
              " 'End_Lng',\n",
              " 'Distance(mi)',\n",
              " 'Number',\n",
              " 'Temperature(F)',\n",
              " 'Wind_Chill(F)',\n",
              " 'Humidity(%)',\n",
              " 'Pressure(in)',\n",
              " 'Visibility(mi)',\n",
              " 'Wind_Speed(mph)',\n",
              " 'Precipitation(in)',\n",
              " 'Amenity',\n",
              " 'Bump',\n",
              " 'Crossing',\n",
              " 'Give_Way',\n",
              " 'Junction',\n",
              " 'No_Exit',\n",
              " 'Railway',\n",
              " 'Roundabout',\n",
              " 'Station',\n",
              " 'Stop',\n",
              " 'Traffic_Calming',\n",
              " 'Traffic_Signal',\n",
              " 'Turning_Loop']"
            ]
          },
          "metadata": {},
          "execution_count": 12
        }
      ],
      "source": [
        "numeric_features = [feature for feature in df.columns if df[feature].dtype!='O']\n",
        "numeric_features"
      ]
    },
    {
      "cell_type": "code",
      "execution_count": 13,
      "metadata": {
        "colab": {
          "base_uri": "https://localhost:8080/"
        },
        "id": "QUUClTUJqDXt",
        "outputId": "8ee1469f-7df2-44df-a705-050d577cd48d"
      },
      "outputs": [
        {
          "output_type": "execute_result",
          "data": {
            "text/plain": [
              "27"
            ]
          },
          "metadata": {},
          "execution_count": 13
        }
      ],
      "source": [
        "len(numeric_features)"
      ]
    },
    {
      "cell_type": "code",
      "execution_count": 14,
      "metadata": {
        "colab": {
          "base_uri": "https://localhost:8080/"
        },
        "id": "EH-k1RjeqDas",
        "outputId": "38c1acda-11c1-4454-b816-59832fcca322"
      },
      "outputs": [
        {
          "output_type": "stream",
          "name": "stdout",
          "text": [
            "Number 0.6129 % missing values\n",
            "Street 0.0 % missing values\n",
            "City 0.0 % missing values\n",
            "Zipcode 0.0005 % missing values\n",
            "Timezone 0.0013 % missing values\n",
            "Airport_Code 0.0034 % missing values\n",
            "Weather_Timestamp 0.0178 % missing values\n",
            "Temperature(F) 0.0243 % missing values\n",
            "Wind_Chill(F) 0.1651 % missing values\n",
            "Humidity(%) 0.0257 % missing values\n",
            "Pressure(in) 0.0208 % missing values\n",
            "Visibility(mi) 0.0248 % missing values\n",
            "Wind_Direction 0.0259 % missing values\n",
            "Wind_Speed(mph) 0.0555 % missing values\n",
            "Precipitation(in) 0.1931 % missing values\n",
            "Weather_Condition 0.0248 % missing values\n",
            "Sunrise_Sunset 0.001 % missing values\n",
            "Civil_Twilight 0.001 % missing values\n",
            "Nautical_Twilight 0.001 % missing values\n",
            "Astronomical_Twilight 0.001 % missing values\n"
          ]
        }
      ],
      "source": [
        "feature_with_nan = [feature for feature in df.columns if df[feature].isnull().sum()>1]\n",
        "\n",
        "for feature in feature_with_nan:\n",
        "  print(feature, np.round(df[feature].isnull().mean(),4), '% missing values')"
      ]
    },
    {
      "cell_type": "markdown",
      "metadata": {
        "id": "zHz4Fq3wvVYJ"
      },
      "source": [
        "Missing values are present "
      ]
    },
    {
      "cell_type": "markdown",
      "metadata": {
        "id": "-S9KfVVl69rW"
      },
      "source": [
        "Misssing values of whole dataframe"
      ]
    },
    {
      "cell_type": "code",
      "execution_count": 15,
      "metadata": {
        "colab": {
          "base_uri": "https://localhost:8080/"
        },
        "id": "G34Y3AFgtlVb",
        "outputId": "f4801d45-6afb-4b2f-ccda-3fd0895281d4"
      },
      "outputs": [
        {
          "output_type": "execute_result",
          "data": {
            "text/plain": [
              "Number                   0.6129\n",
              "Precipitation(in)        0.1931\n",
              "Wind_Chill(F)            0.1651\n",
              "Wind_Speed(mph)          0.0555\n",
              "Wind_Direction           0.0259\n",
              "Humidity(%)              0.0257\n",
              "Weather_Condition        0.0248\n",
              "Visibility(mi)           0.0248\n",
              "Temperature(F)           0.0243\n",
              "Pressure(in)             0.0208\n",
              "Weather_Timestamp        0.0178\n",
              "Airport_Code             0.0034\n",
              "Timezone                 0.0013\n",
              "Nautical_Twilight        0.0010\n",
              "Civil_Twilight           0.0010\n",
              "Sunrise_Sunset           0.0010\n",
              "Astronomical_Twilight    0.0010\n",
              "Zipcode                  0.0005\n",
              "dtype: float64"
            ]
          },
          "metadata": {},
          "execution_count": 15
        }
      ],
      "source": [
        "\n",
        "\n",
        "missing_perecntages= np.round(df.isnull().sum().sort_values(ascending=False)/len(df),4)\n",
        "missing_perecntages = missing_perecntages[missing_perecntages !=0]\n",
        "missing_perecntages"
      ]
    },
    {
      "cell_type": "code",
      "execution_count": 16,
      "metadata": {
        "colab": {
          "base_uri": "https://localhost:8080/",
          "height": 282
        },
        "id": "6v7_TXCvtlZk",
        "outputId": "ea50fff8-0a67-4822-f065-38be8ea0d4f9"
      },
      "outputs": [
        {
          "output_type": "execute_result",
          "data": {
            "text/plain": [
              "<matplotlib.axes._subplots.AxesSubplot at 0x7f2d24d0a850>"
            ]
          },
          "metadata": {},
          "execution_count": 16
        },
        {
          "output_type": "display_data",
          "data": {
            "text/plain": [
              "<Figure size 432x288 with 1 Axes>"
            ],
            "image/png": "[encoded data removed]"
          },
          "metadata": {
            "needs_background": "light"
          }
        }
      ],
      "source": [
        "missing_perecntages[:20].plot(kind='barh')"
      ]
    },
    {
      "cell_type": "code",
      "execution_count": 17,
      "metadata": {
        "colab": {
          "base_uri": "https://localhost:8080/"
        },
        "id": "nCFDeaBn9bET",
        "outputId": "1a94bec0-e0fc-4566-e574-b659c6e0b3d9"
      },
      "outputs": [
        {
          "output_type": "execute_result",
          "data": {
            "text/plain": [
              "Index(['ID', 'Severity', 'Start_Time', 'End_Time', 'Start_Lat', 'Start_Lng',\n",
              "       'End_Lat', 'End_Lng', 'Distance(mi)', 'Description', 'Number', 'Street',\n",
              "       'Side', 'City', 'County', 'State', 'Zipcode', 'Country', 'Timezone',\n",
              "       'Airport_Code', 'Weather_Timestamp', 'Temperature(F)', 'Wind_Chill(F)',\n",
              "       'Humidity(%)', 'Pressure(in)', 'Visibility(mi)', 'Wind_Direction',\n",
              "       'Wind_Speed(mph)', 'Precipitation(in)', 'Weather_Condition', 'Amenity',\n",
              "       'Bump', 'Crossing', 'Give_Way', 'Junction', 'No_Exit', 'Railway',\n",
              "       'Roundabout', 'Station', 'Stop', 'Traffic_Calming', 'Traffic_Signal',\n",
              "       'Turning_Loop', 'Sunrise_Sunset', 'Civil_Twilight', 'Nautical_Twilight',\n",
              "       'Astronomical_Twilight'],\n",
              "      dtype='object')"
            ]
          },
          "metadata": {},
          "execution_count": 17
        }
      ],
      "source": [
        "df.columns"
      ]
    },
    {
      "cell_type": "markdown",
      "metadata": {
        "id": "OtWzxHxW9Vp6"
      },
      "source": [
        "## Explorartory Data Analysis\n",
        "Columnms we'll analyze:\n",
        "1. City\n",
        "2. State\n",
        "3. Start lat, Start lng\n",
        "4. Temperature\n",
        "5. Weather Condition.\n",
        "6. Traffic signal\n",
        "7. Start Time"
      ]
    },
    {
      "cell_type": "markdown",
      "metadata": {
        "id": "teMn1IcN_53z"
      },
      "source": [
        "## City:"
      ]
    },
    {
      "cell_type": "code",
      "execution_count": 18,
      "metadata": {
        "colab": {
          "base_uri": "https://localhost:8080/"
        },
        "id": "iWjjSr51tlek",
        "outputId": "650b87a0-9f91-4542-b877-155d657a0616"
      },
      "outputs": [
        {
          "output_type": "execute_result",
          "data": {
            "text/plain": [
              "11682"
            ]
          },
          "metadata": {},
          "execution_count": 18
        }
      ],
      "source": [
        "len(df.City.unique())"
      ]
    },
    {
      "cell_type": "code",
      "execution_count": 19,
      "metadata": {
        "colab": {
          "base_uri": "https://localhost:8080/"
        },
        "id": "cVMEFW2itlkR",
        "outputId": "b1d66d05-f780-4dff-9861-7e3d22a5ecc2"
      },
      "outputs": [
        {
          "output_type": "execute_result",
          "data": {
            "text/plain": [
              "11682"
            ]
          },
          "metadata": {},
          "execution_count": 19
        }
      ],
      "source": [
        "cities = df.City.unique()\n",
        "len(cities)"
      ]
    },
    {
      "cell_type": "code",
      "execution_count": 20,
      "metadata": {
        "colab": {
          "base_uri": "https://localhost:8080/"
        },
        "id": "KEdoUavYtloR",
        "outputId": "20f6aeb3-d160-4075-afa4-d2b55ddec85e"
      },
      "outputs": [
        {
          "output_type": "execute_result",
          "data": {
            "text/plain": [
              "Miami              106966\n",
              "Los Angeles         68956\n",
              "Orlando             54691\n",
              "Dallas              41979\n",
              "Houston             39448\n",
              "Charlotte           33152\n",
              "Sacramento          32559\n",
              "San Diego           26627\n",
              "Raleigh             22840\n",
              "Minneapolis         22768\n",
              "Portland            20944\n",
              "Nashville           20267\n",
              "Austin              18301\n",
              "Baton Rouge         18182\n",
              "Phoenix             17143\n",
              "Saint Paul          16869\n",
              "New Orleans         16251\n",
              "Atlanta             15622\n",
              "Jacksonville        14967\n",
              "Richmond            14349\n",
              "Tucson              13799\n",
              "San Jose            13377\n",
              "Riverside           13310\n",
              "Kansas City         13298\n",
              "Bakersfield         12044\n",
              "San Bernardino      11249\n",
              "Chicago             11188\n",
              "Tampa               10984\n",
              "Salt Lake City      10709\n",
              "Ontario             10538\n",
              "Anaheim             10502\n",
              "Hialeah             10398\n",
              "Fort Lauderdale     10345\n",
              "Oakland             10051\n",
              "Columbia             9885\n",
              "Corona               9763\n",
              "Washington           9624\n",
              "Bronx                9453\n",
              "Rochester            9335\n",
              "Chattanooga          9205\n",
              "Name: City, dtype: int64"
            ]
          },
          "metadata": {},
          "execution_count": 20
        }
      ],
      "source": [
        "cities_by_accident = df.City.value_counts()\n",
        "cities_by_accident.head(40)"
      ]
    },
    {
      "cell_type": "code",
      "execution_count": 21,
      "metadata": {
        "colab": {
          "base_uri": "https://localhost:8080/"
        },
        "id": "g4gkwXzmtlqm",
        "outputId": "8b9681e5-c1cc-44f8-bfc3-573f2cc44b1d"
      },
      "outputs": [
        {
          "output_type": "execute_result",
          "data": {
            "text/plain": [
              "False"
            ]
          },
          "metadata": {},
          "execution_count": 21
        }
      ],
      "source": [
        "'New York' in df['City']"
      ]
    },
    {
      "cell_type": "code",
      "execution_count": 22,
      "metadata": {
        "colab": {
          "base_uri": "https://localhost:8080/"
        },
        "id": "aLKYWS8-I5ze",
        "outputId": "0626e6e0-b30b-4106-e98b-0eae00ac0256"
      },
      "outputs": [
        {
          "output_type": "execute_result",
          "data": {
            "text/plain": [
              "False"
            ]
          },
          "metadata": {},
          "execution_count": 22
        }
      ],
      "source": [
        "'NY' in df.State"
      ]
    },
    {
      "cell_type": "code",
      "execution_count": 23,
      "metadata": {
        "colab": {
          "base_uri": "https://localhost:8080/",
          "height": 282
        },
        "id": "6WVmkyPGqDcW",
        "outputId": "142ed207-679d-4f3f-c683-bf8ad1ac96c1"
      },
      "outputs": [
        {
          "output_type": "execute_result",
          "data": {
            "text/plain": [
              "<matplotlib.axes._subplots.AxesSubplot at 0x7f2d23903c90>"
            ]
          },
          "metadata": {},
          "execution_count": 23
        },
        {
          "output_type": "display_data",
          "data": {
            "text/plain": [
              "<Figure size 432x288 with 1 Axes>"
            ],
            "image/png": "[encoded data removed]"
          },
          "metadata": {
            "needs_background": "light"
          }
        }
      ],
      "source": [
        "cities_by_accident[:20].plot(kind='barh')"
      ]
    },
    {
      "cell_type": "code",
      "execution_count": 24,
      "metadata": {
        "colab": {
          "base_uri": "https://localhost:8080/",
          "height": 334
        },
        "id": "Kt9B9SCQJ1Md",
        "outputId": "2b36f27a-af89-47d1-f188-8b7bbfd9a2f7"
      },
      "outputs": [
        {
          "output_type": "stream",
          "name": "stderr",
          "text": [
            "/usr/local/lib/python3.7/dist-packages/seaborn/distributions.py:2619: FutureWarning: `distplot` is a deprecated function and will be removed in a future version. Please adapt your code to use either `displot` (a figure-level function with similar flexibility) or `histplot` (an axes-level function for histograms).\n",
            "  warnings.warn(msg, FutureWarning)\n"
          ]
        },
        {
          "output_type": "display_data",
          "data": {
            "text/plain": [
              "<Figure size 432x288 with 1 Axes>"
            ],
            "image/png": "[encoded data removed]"
          },
          "metadata": {
            "needs_background": "light"
          }
        }
      ],
      "source": [
        "sns.distplot(cities_by_accident)\n",
        "plt.show()"
      ]
    },
    {
      "cell_type": "code",
      "execution_count": 25,
      "metadata": {
        "id": "QWXIfXNJJ1PJ"
      },
      "outputs": [],
      "source": [
        "high_accidents= cities_by_accident[cities_by_accident > 1000]\n",
        "low_accidents = hifh_accidents= cities_by_accident[cities_by_accident < 1000]"
      ]
    },
    {
      "cell_type": "code",
      "execution_count": 26,
      "metadata": {
        "colab": {
          "base_uri": "https://localhost:8080/",
          "height": 300
        },
        "id": "JFiCQcdwJ1VP",
        "outputId": "6de8f485-8b59-4339-bde4-b1b82e9c1f84"
      },
      "outputs": [
        {
          "output_type": "execute_result",
          "data": {
            "text/plain": [
              "<matplotlib.axes._subplots.AxesSubplot at 0x7f2d16e60050>"
            ]
          },
          "metadata": {},
          "execution_count": 26
        },
        {
          "output_type": "display_data",
          "data": {
            "text/plain": [
              "<Figure size 432x288 with 1 Axes>"
            ],
            "image/png": "[encoded data removed]"
          },
          "metadata": {
            "needs_background": "light"
          }
        }
      ],
      "source": [
        "sns.histplot(low_accidents, log_scale=True)"
      ]
    },
    {
      "cell_type": "code",
      "execution_count": 27,
      "metadata": {
        "colab": {
          "base_uri": "https://localhost:8080/",
          "height": 300
        },
        "id": "NYwPiSXwJ1TT",
        "outputId": "e4eb7a1c-e48a-4bc4-9be5-4c1ffebd5afb"
      },
      "outputs": [
        {
          "output_type": "execute_result",
          "data": {
            "text/plain": [
              "<matplotlib.axes._subplots.AxesSubplot at 0x7f2d16c36c90>"
            ]
          },
          "metadata": {},
          "execution_count": 27
        },
        {
          "output_type": "display_data",
          "data": {
            "text/plain": [
              "<Figure size 432x288 with 1 Axes>"
            ],
            "image/png": "[encoded data removed]"
          },
          "metadata": {
            "needs_background": "light"
          }
        }
      ],
      "source": [
        "sns.histplot(high_accidents, log_scale=True, kde=True)"
      ]
    },
    {
      "cell_type": "code",
      "execution_count": 28,
      "metadata": {
        "colab": {
          "base_uri": "https://localhost:8080/"
        },
        "id": "xflJ44y5Obb_",
        "outputId": "0592d796-3101-4095-f2f6-649e81596f6e"
      },
      "outputs": [
        {
          "output_type": "execute_result",
          "data": {
            "text/plain": [
              "Carney                          1\n",
              "Waverly Hall                    1\n",
              "Center Sandwich                 1\n",
              "Glen Flora                      1\n",
              "Sulphur Springs                 1\n",
              "                               ..\n",
              "Ridgedale                       1\n",
              "Sekiu                           1\n",
              "Wooldridge                      1\n",
              "Bullock                         1\n",
              "American Fork-Pleasant Grove    1\n",
              "Name: City, Length: 1110, dtype: int64"
            ]
          },
          "metadata": {},
          "execution_count": 28
        }
      ],
      "source": [
        "cities_by_accident[cities_by_accident ==1]"
      ]
    },
    {
      "cell_type": "code",
      "execution_count": 29,
      "metadata": {
        "colab": {
          "base_uri": "https://localhost:8080/"
        },
        "id": "7_JbCJeLJ1Zy",
        "outputId": "25775b8b-5777-482a-83fc-10e8748cc334"
      },
      "outputs": [
        {
          "output_type": "execute_result",
          "data": {
            "text/plain": [
              "0.9999143982194829"
            ]
          },
          "metadata": {},
          "execution_count": 29
        }
      ],
      "source": [
        "len(cities_by_accident)/len(cities)"
      ]
    },
    {
      "cell_type": "markdown",
      "source": [
        "### Start Time"
      ],
      "metadata": {
        "id": "BQ8neX11Ye7b"
      }
    },
    {
      "cell_type": "code",
      "execution_count": 30,
      "metadata": {
        "id": "lr85UkcPNIph",
        "colab": {
          "base_uri": "https://localhost:8080/"
        },
        "outputId": "0d87e11b-6bb0-4532-9e8f-d26a61003a7f"
      },
      "outputs": [
        {
          "output_type": "execute_result",
          "data": {
            "text/plain": [
              "0          2016-02-08 00:37:08\n",
              "1          2016-02-08 05:56:20\n",
              "2          2016-02-08 06:15:39\n",
              "3          2016-02-08 06:51:45\n",
              "4          2016-02-08 07:53:43\n",
              "                  ...         \n",
              "2845337    2019-08-23 18:03:25\n",
              "2845338    2019-08-23 19:11:30\n",
              "2845339    2019-08-23 19:00:21\n",
              "2845340    2019-08-23 19:00:21\n",
              "2845341    2019-08-23 18:52:06\n",
              "Name: Start_Time, Length: 2845342, dtype: object"
            ]
          },
          "metadata": {},
          "execution_count": 30
        }
      ],
      "source": [
        "df.Start_Time"
      ]
    },
    {
      "cell_type": "code",
      "execution_count": 31,
      "metadata": {
        "id": "nht1WjamJ1d5"
      },
      "outputs": [],
      "source": [
        "\n",
        "df.Start_Time = pd.to_datetime(df.Start_Time)"
      ]
    },
    {
      "cell_type": "code",
      "execution_count": 32,
      "metadata": {
        "id": "Z64SLUkINIt8",
        "colab": {
          "base_uri": "https://localhost:8080/",
          "height": 297
        },
        "outputId": "f24dbe49-5463-435a-b994-19383ae9c3a0"
      },
      "outputs": [
        {
          "output_type": "execute_result",
          "data": {
            "text/plain": [
              "<matplotlib.axes._subplots.AxesSubplot at 0x7f2d60ec6ad0>"
            ]
          },
          "metadata": {},
          "execution_count": 32
        },
        {
          "output_type": "display_data",
          "data": {
            "text/plain": [
              "<Figure size 432x288 with 1 Axes>"
            ],
            "image/png": "[encoded data removed]"
          },
          "metadata": {
            "needs_background": "light"
          }
        }
      ],
      "source": [
        "sns.histplot(df.Start_Time.dt.hour, bins=24)"
      ]
    },
    {
      "cell_type": "code",
      "execution_count": 33,
      "metadata": {
        "id": "7FDnekAZNIyM",
        "colab": {
          "base_uri": "https://localhost:8080/",
          "height": 352
        },
        "outputId": "36cb000b-6e72-48c5-a447-b6d05e8e66dc"
      },
      "outputs": [
        {
          "output_type": "stream",
          "name": "stderr",
          "text": [
            "/usr/local/lib/python3.7/dist-packages/seaborn/distributions.py:2619: FutureWarning: `distplot` is a deprecated function and will be removed in a future version. Please adapt your code to use either `displot` (a figure-level function with similar flexibility) or `histplot` (an axes-level function for histograms).\n",
            "  warnings.warn(msg, FutureWarning)\n"
          ]
        },
        {
          "output_type": "execute_result",
          "data": {
            "text/plain": [
              "<matplotlib.axes._subplots.AxesSubplot at 0x7f2d1b6ebc10>"
            ]
          },
          "metadata": {},
          "execution_count": 33
        },
        {
          "output_type": "display_data",
          "data": {
            "text/plain": [
              "<Figure size 432x288 with 1 Axes>"
            ],
            "image/png": "[encoded data removed]"
          },
          "metadata": {
            "needs_background": "light"
          }
        }
      ],
      "source": [
        "sns.distplot(df.Start_Time.dt.hour, bins= 24,  kde=False, norm_hist=True)"
      ]
    },
    {
      "cell_type": "markdown",
      "source": [
        "- A highest number of accidents occur between 12pm to 16pm\n",
        "- Next highest no: of accidents occur between5am to 9am"
      ],
      "metadata": {
        "id": "0KaKUM-faQW6"
      }
    },
    {
      "cell_type": "code",
      "execution_count": 34,
      "metadata": {
        "id": "3eYpcOrMNI1R",
        "colab": {
          "base_uri": "https://localhost:8080/",
          "height": 352
        },
        "outputId": "b80a2623-dd64-4962-d09c-6454ae564162"
      },
      "outputs": [
        {
          "output_type": "stream",
          "name": "stderr",
          "text": [
            "/usr/local/lib/python3.7/dist-packages/seaborn/distributions.py:2619: FutureWarning: `distplot` is a deprecated function and will be removed in a future version. Please adapt your code to use either `displot` (a figure-level function with similar flexibility) or `histplot` (an axes-level function for histograms).\n",
            "  warnings.warn(msg, FutureWarning)\n"
          ]
        },
        {
          "output_type": "execute_result",
          "data": {
            "text/plain": [
              "<matplotlib.axes._subplots.AxesSubplot at 0x7f2d16e5d6d0>"
            ]
          },
          "metadata": {},
          "execution_count": 34
        },
        {
          "output_type": "display_data",
          "data": {
            "text/plain": [
              "<Figure size 432x288 with 1 Axes>"
            ],
            "image/png": "[encoded data removed]"
          },
          "metadata": {
            "needs_background": "light"
          }
        }
      ],
      "source": [
        "sns.distplot(df.Start_Time.dt.dayofweek, bins= 24,  kde=False, norm_hist=True)"
      ]
    },
    {
      "cell_type": "code",
      "source": [
        "sunday = df.Start_Time[df.Start_Time.dt.dayofweek == 6]\n",
        "sns.distplot(sunday.dt.hour, bins= 24,  kde=False, norm_hist=True)"
      ],
      "metadata": {
        "colab": {
          "base_uri": "https://localhost:8080/",
          "height": 352
        },
        "id": "sAADZkulay63",
        "outputId": "3df461e0-015e-41c0-decf-bbed14cee51d"
      },
      "execution_count": 35,
      "outputs": [
        {
          "output_type": "stream",
          "name": "stderr",
          "text": [
            "/usr/local/lib/python3.7/dist-packages/seaborn/distributions.py:2619: FutureWarning: `distplot` is a deprecated function and will be removed in a future version. Please adapt your code to use either `displot` (a figure-level function with similar flexibility) or `histplot` (an axes-level function for histograms).\n",
            "  warnings.warn(msg, FutureWarning)\n"
          ]
        },
        {
          "output_type": "execute_result",
          "data": {
            "text/plain": [
              "<matplotlib.axes._subplots.AxesSubplot at 0x7f2d16c001d0>"
            ]
          },
          "metadata": {},
          "execution_count": 35
        },
        {
          "output_type": "display_data",
          "data": {
            "text/plain": [
              "<Figure size 432x288 with 1 Axes>"
            ],
            "image/png": "[encoded data removed]"
          },
          "metadata": {
            "needs_background": "light"
          }
        }
      ]
    },
    {
      "cell_type": "code",
      "source": [
        "saturday = df.Start_Time[df.Start_Time.dt.dayofweek == 5]\n",
        "sns.distplot(saturday.dt.hour, bins= 24,  kde=False, norm_hist=True)"
      ],
      "metadata": {
        "colab": {
          "base_uri": "https://localhost:8080/",
          "height": 352
        },
        "id": "a-MqW9bsay8X",
        "outputId": "06f0dc09-a0ef-425c-aa9c-8e12668d80ab"
      },
      "execution_count": 36,
      "outputs": [
        {
          "output_type": "stream",
          "name": "stderr",
          "text": [
            "/usr/local/lib/python3.7/dist-packages/seaborn/distributions.py:2619: FutureWarning: `distplot` is a deprecated function and will be removed in a future version. Please adapt your code to use either `displot` (a figure-level function with similar flexibility) or `histplot` (an axes-level function for histograms).\n",
            "  warnings.warn(msg, FutureWarning)\n"
          ]
        },
        {
          "output_type": "execute_result",
          "data": {
            "text/plain": [
              "<matplotlib.axes._subplots.AxesSubplot at 0x7f2d169b59d0>"
            ]
          },
          "metadata": {},
          "execution_count": 36
        },
        {
          "output_type": "display_data",
          "data": {
            "text/plain": [
              "<Figure size 432x288 with 1 Axes>"
            ],
            "image/png": "[encoded data removed]"
          },
          "metadata": {
            "needs_background": "light"
          }
        }
      ]
    },
    {
      "cell_type": "code",
      "source": [
        "monday = df.Start_Time[df.Start_Time.dt.dayofweek == 0]\n",
        "sns.distplot(monday.dt.hour, bins= 24,  kde=False, norm_hist=True)"
      ],
      "metadata": {
        "colab": {
          "base_uri": "https://localhost:8080/",
          "height": 352
        },
        "id": "BTbmg1WIazAJ",
        "outputId": "0945bacd-10b1-47a5-d793-ef35aa82f209"
      },
      "execution_count": 37,
      "outputs": [
        {
          "output_type": "stream",
          "name": "stderr",
          "text": [
            "/usr/local/lib/python3.7/dist-packages/seaborn/distributions.py:2619: FutureWarning: `distplot` is a deprecated function and will be removed in a future version. Please adapt your code to use either `displot` (a figure-level function with similar flexibility) or `histplot` (an axes-level function for histograms).\n",
            "  warnings.warn(msg, FutureWarning)\n"
          ]
        },
        {
          "output_type": "execute_result",
          "data": {
            "text/plain": [
              "<matplotlib.axes._subplots.AxesSubplot at 0x7f2d168e9490>"
            ]
          },
          "metadata": {},
          "execution_count": 37
        },
        {
          "output_type": "display_data",
          "data": {
            "text/plain": [
              "<Figure size 432x288 with 1 Axes>"
            ],
            "image/png": "[encoded data removed]"
          },
          "metadata": {
            "needs_background": "light"
          }
        }
      ]
    },
    {
      "cell_type": "markdown",
      "source": [
        "On sunday, the peak occurs between 9am to 6pm"
      ],
      "metadata": {
        "id": "1zkGBYfyqAb3"
      }
    },
    {
      "cell_type": "code",
      "execution_count": 38,
      "metadata": {
        "id": "TDXqJpnbNI3w",
        "colab": {
          "base_uri": "https://localhost:8080/",
          "height": 352
        },
        "outputId": "50b1ec91-abd6-4977-bb2f-c3b9b27f39e3"
      },
      "outputs": [
        {
          "output_type": "stream",
          "name": "stderr",
          "text": [
            "/usr/local/lib/python3.7/dist-packages/seaborn/distributions.py:2619: FutureWarning: `distplot` is a deprecated function and will be removed in a future version. Please adapt your code to use either `displot` (a figure-level function with similar flexibility) or `histplot` (an axes-level function for histograms).\n",
            "  warnings.warn(msg, FutureWarning)\n"
          ]
        },
        {
          "output_type": "execute_result",
          "data": {
            "text/plain": [
              "<matplotlib.axes._subplots.AxesSubplot at 0x7f2d1681aa90>"
            ]
          },
          "metadata": {},
          "execution_count": 38
        },
        {
          "output_type": "display_data",
          "data": {
            "text/plain": [
              "<Figure size 432x288 with 1 Axes>"
            ],
            "image/png": "[encoded data removed]"
          },
          "metadata": {
            "needs_background": "light"
          }
        }
      ],
      "source": [
        "# df.groupby(df.Start_Time.dt.year == 2019).size()\n",
        "df_2019 = df[df.Start_Time.dt.year == 2020]\n",
        "sns.distplot(df_2019.Start_Time.dt.month, bins=12, kde=False, norm_hist=True)"
      ]
    },
    {
      "cell_type": "markdown",
      "source": [
        "Much Data is missing for January 2016 or may be in 2017 and also for 2020(Need to investigate)"
      ],
      "metadata": {
        "id": "fcOQbSf2s2Wy"
      }
    },
    {
      "cell_type": "markdown",
      "source": [
        "### State"
      ],
      "metadata": {
        "id": "uoM0KPsXuIVc"
      }
    },
    {
      "cell_type": "code",
      "source": [
        "df.columns\n",
        "pd. set_option('display.max_columns',len(df.columns))"
      ],
      "metadata": {
        "id": "8b6R1vxBqOWe"
      },
      "execution_count": 39,
      "outputs": []
    },
    {
      "cell_type": "code",
      "source": [
        "df[df.State == 'CA']"
      ],
      "metadata": {
        "colab": {
          "base_uri": "https://localhost:8080/",
          "height": 1000
        },
        "id": "Z-ytRPvlqOYB",
        "outputId": "27c4def8-59c0-46fe-8c85-96442d6fd2f6"
      },
      "execution_count": 40,
      "outputs": [
        {
          "output_type": "execute_result",
          "data": {
            "text/plain": [
              "                ID  Severity          Start_Time             End_Time  \\\n",
              "988          A-989         3 2016-03-22 18:53:11  2016-03-23 00:53:11   \n",
              "989          A-990         2 2016-03-22 19:00:49  2016-03-23 01:00:49   \n",
              "990          A-991         3 2016-03-22 20:07:32  2016-03-23 02:07:32   \n",
              "991          A-992         2 2016-03-22 21:40:18  2016-03-23 03:40:18   \n",
              "992          A-993         2 2016-03-22 21:36:42  2016-03-23 03:36:42   \n",
              "...            ...       ...                 ...                  ...   \n",
              "2845337  A-2845338         2 2019-08-23 18:03:25  2019-08-23 18:32:01   \n",
              "2845338  A-2845339         2 2019-08-23 19:11:30  2019-08-23 19:38:23   \n",
              "2845339  A-2845340         2 2019-08-23 19:00:21  2019-08-23 19:28:49   \n",
              "2845340  A-2845341         2 2019-08-23 19:00:21  2019-08-23 19:29:42   \n",
              "2845341  A-2845342         2 2019-08-23 18:52:06  2019-08-23 19:21:31   \n",
              "\n",
              "         Start_Lat   Start_Lng    End_Lat     End_Lng  Distance(mi)  \\\n",
              "988      38.825840 -120.029214  38.827194 -120.030632         0.121   \n",
              "989      37.358209 -121.840017  37.361596 -121.842044         0.259   \n",
              "990      37.881943 -122.307987  37.885882 -122.308878         0.276   \n",
              "991      37.881038 -122.307788  37.883458 -122.308366         0.170   \n",
              "992      38.518811 -121.101664  38.518811 -121.101664         0.000   \n",
              "...            ...         ...        ...         ...           ...   \n",
              "2845337  34.002480 -117.379360  33.998880 -117.370940         0.543   \n",
              "2845338  32.766960 -117.148060  32.765550 -117.153630         0.338   \n",
              "2845339  33.775450 -117.847790  33.777400 -117.857270         0.561   \n",
              "2845340  33.992460 -118.403020  33.983110 -118.395650         0.772   \n",
              "2845341  34.133930 -117.230920  34.137360 -117.239340         0.537   \n",
              "\n",
              "                                               Description   Number  \\\n",
              "988      Between Twin Bridges Tract and South Lake Taho...  21101.0   \n",
              "989      Between Capitol Expy and Alum Rock Ave - Accid...      NaN   \n",
              "990               At I-80/I-580 Northern Split - Accident.      NaN   \n",
              "991               At I-80/I-580 Northern Split - Accident.      NaN   \n",
              "992      Between Latrobe Rd/Indio Dr and Latrobe Rd - A...  14664.0   \n",
              "...                                                    ...      ...   \n",
              "2845337                           At Market St - Accident.      NaN   \n",
              "2845338    At Camino Del Rio/Mission Center Rd - Accident.      NaN   \n",
              "2845339  At Glassell St/Grand Ave - Accident. in the ri...      NaN   \n",
              "2845340     At CA-90/Marina Fwy/Jefferson Blvd - Accident.      NaN   \n",
              "2845341              At Highland Ave/Arden Ave - Accident.      NaN   \n",
              "\n",
              "                   Street Side         City          County State     Zipcode  \\\n",
              "988         US Highway 50    L    Echo Lake       El Dorado    CA       95721   \n",
              "989               I-680 N    R     San Jose     Santa Clara    CA       95116   \n",
              "990               I-580 W    R     Berkeley         Alameda    CA       94710   \n",
              "991               I-580 W    R     Berkeley         Alameda    CA       94710   \n",
              "992            Latrobe Rd    R  Sloughhouse      Sacramento    CA  95683-9709   \n",
              "...                   ...  ...          ...             ...   ...         ...   \n",
              "2845337      Pomona Fwy E    R    Riverside       Riverside    CA       92501   \n",
              "2845338             I-8 W    R    San Diego       San Diego    CA       92108   \n",
              "2845339  Garden Grove Fwy    R       Orange          Orange    CA       92866   \n",
              "2845340   San Diego Fwy S    R  Culver City     Los Angeles    CA       90230   \n",
              "2845341          CA-210 W    R     Highland  San Bernardino    CA       92346   \n",
              "\n",
              "        Country    Timezone Airport_Code    Weather_Timestamp  Temperature(F)  \\\n",
              "988          US  US/Pacific         KTVL  2016-03-22 18:53:00            28.9   \n",
              "989          US  US/Pacific         KRHV  2016-03-22 18:48:00            57.2   \n",
              "990          US  US/Pacific         KOAK  2016-03-22 19:53:00            57.0   \n",
              "991          US  US/Pacific         KOAK  2016-03-22 21:53:00            55.0   \n",
              "992          US  US/Pacific         KMHR  2016-03-22 20:45:00            55.4   \n",
              "...         ...         ...          ...                  ...             ...   \n",
              "2845337      US  US/Pacific         KRAL  2019-08-23 17:53:00            86.0   \n",
              "2845338      US  US/Pacific         KMYF  2019-08-23 18:53:00            70.0   \n",
              "2845339      US  US/Pacific         KSNA  2019-08-23 18:53:00            73.0   \n",
              "2845340      US  US/Pacific         KSMO  2019-08-23 18:51:00            71.0   \n",
              "2845341      US  US/Pacific         KSBD  2019-08-23 20:50:00            79.0   \n",
              "\n",
              "         Wind_Chill(F)  Humidity(%)  Pressure(in)  Visibility(mi)  \\\n",
              "988                NaN         85.0         30.18            10.0   \n",
              "989                NaN         63.0           NaN            10.0   \n",
              "990                NaN         64.0         30.24            10.0   \n",
              "991                NaN         67.0         30.26            10.0   \n",
              "992                NaN         51.0         30.23            10.0   \n",
              "...                ...          ...           ...             ...   \n",
              "2845337           86.0         40.0         28.92            10.0   \n",
              "2845338           70.0         73.0         29.39            10.0   \n",
              "2845339           73.0         64.0         29.74            10.0   \n",
              "2845340           71.0         81.0         29.62            10.0   \n",
              "2845341           79.0         47.0         28.63             7.0   \n",
              "\n",
              "        Wind_Direction  Wind_Speed(mph)  Precipitation(in) Weather_Condition  \\\n",
              "988               Calm              NaN                NaN             Clear   \n",
              "989                WNW             17.3                NaN  Scattered Clouds   \n",
              "990                 NW              8.1                NaN     Partly Cloudy   \n",
              "991                 NW              8.1                NaN             Clear   \n",
              "992                NNW              3.5                NaN             Clear   \n",
              "...                ...              ...                ...               ...   \n",
              "2845337              W             13.0                0.0              Fair   \n",
              "2845338             SW              6.0                0.0              Fair   \n",
              "2845339            SSW             10.0                0.0     Partly Cloudy   \n",
              "2845340             SW              8.0                0.0              Fair   \n",
              "2845341             SW              7.0                0.0              Fair   \n",
              "\n",
              "         Amenity   Bump  Crossing  Give_Way  Junction  No_Exit  Railway  \\\n",
              "988        False  False     False     False     False    False    False   \n",
              "989        False  False     False     False     False    False    False   \n",
              "990        False  False     False     False      True    False    False   \n",
              "991        False  False     False     False     False    False    False   \n",
              "992        False  False     False     False     False    False    False   \n",
              "...          ...    ...       ...       ...       ...      ...      ...   \n",
              "2845337    False  False     False     False     False    False    False   \n",
              "2845338    False  False     False     False     False    False    False   \n",
              "2845339    False  False     False     False      True    False    False   \n",
              "2845340    False  False     False     False     False    False    False   \n",
              "2845341    False  False     False     False     False    False    False   \n",
              "\n",
              "         Roundabout  Station   Stop  Traffic_Calming  Traffic_Signal  \\\n",
              "988           False    False  False            False           False   \n",
              "989           False    False  False            False           False   \n",
              "990           False    False  False            False           False   \n",
              "991           False    False  False            False           False   \n",
              "992           False    False  False            False           False   \n",
              "...             ...      ...    ...              ...             ...   \n",
              "2845337       False    False  False            False           False   \n",
              "2845338       False    False  False            False           False   \n",
              "2845339       False    False  False            False           False   \n",
              "2845340       False    False  False            False           False   \n",
              "2845341       False    False  False            False           False   \n",
              "\n",
              "         Turning_Loop Sunrise_Sunset Civil_Twilight Nautical_Twilight  \\\n",
              "988             False            Day            Day               Day   \n",
              "989             False            Day            Day               Day   \n",
              "990             False          Night          Night               Day   \n",
              "991             False          Night          Night             Night   \n",
              "992             False          Night          Night             Night   \n",
              "...               ...            ...            ...               ...   \n",
              "2845337         False            Day            Day               Day   \n",
              "2845338         False            Day            Day               Day   \n",
              "2845339         False            Day            Day               Day   \n",
              "2845340         False            Day            Day               Day   \n",
              "2845341         False            Day            Day               Day   \n",
              "\n",
              "        Astronomical_Twilight  \n",
              "988                       Day  \n",
              "989                       Day  \n",
              "990                       Day  \n",
              "991                     Night  \n",
              "992                     Night  \n",
              "...                       ...  \n",
              "2845337                   Day  \n",
              "2845338                   Day  \n",
              "2845339                   Day  \n",
              "2845340                   Day  \n",
              "2845341                   Day  \n",
              "\n",
              "[795868 rows x 47 columns]"
            ],
            "text/html": [
              "\n",
              "  <div id=\"df-0cad8a30-3f61-4525-a88e-2292c3ad615d\">\n",
              "    <div class=\"colab-df-container\">\n",
              "      <div>\n",
              "<style scoped>\n",
              "    .dataframe tbody tr th:only-of-type {\n",
              "        vertical-align: middle;\n",
              "    }\n",
              "\n",
              "    .dataframe tbody tr th {\n",
              "        vertical-align: top;\n",
              "    }\n",
              "\n",
              "    .dataframe thead th {\n",
              "        text-align: right;\n",
              "    }\n",
              "</style>\n",
              "<table border=\"1\" class=\"dataframe\">\n",
              "  <thead>\n",
              "    <tr style=\"text-align: right;\">\n",
              "      <th></th>\n",
              "      <th>ID</th>\n",
              "      <th>Severity</th>\n",
              "      <th>Start_Time</th>\n",
              "      <th>End_Time</th>\n",
              "      <th>Start_Lat</th>\n",
              "      <th>Start_Lng</th>\n",
              "      <th>End_Lat</th>\n",
              "      <th>End_Lng</th>\n",
              "      <th>Distance(mi)</th>\n",
              "      <th>Description</th>\n",
              "      <th>Number</th>\n",
              "      <th>Street</th>\n",
              "      <th>Side</th>\n",
              "      <th>City</th>\n",
              "      <th>County</th>\n",
              "      <th>State</th>\n",
              "      <th>Zipcode</th>\n",
              "      <th>Country</th>\n",
              "      <th>Timezone</th>\n",
              "      <th>Airport_Code</th>\n",
              "      <th>Weather_Timestamp</th>\n",
              "      <th>Temperature(F)</th>\n",
              "      <th>Wind_Chill(F)</th>\n",
              "      <th>Humidity(%)</th>\n",
              "      <th>Pressure(in)</th>\n",
              "      <th>Visibility(mi)</th>\n",
              "      <th>Wind_Direction</th>\n",
              "      <th>Wind_Speed(mph)</th>\n",
              "      <th>Precipitation(in)</th>\n",
              "      <th>Weather_Condition</th>\n",
              "      <th>Amenity</th>\n",
              "      <th>Bump</th>\n",
              "      <th>Crossing</th>\n",
              "      <th>Give_Way</th>\n",
              "      <th>Junction</th>\n",
              "      <th>No_Exit</th>\n",
              "      <th>Railway</th>\n",
              "      <th>Roundabout</th>\n",
              "      <th>Station</th>\n",
              "      <th>Stop</th>\n",
              "      <th>Traffic_Calming</th>\n",
              "      <th>Traffic_Signal</th>\n",
              "      <th>Turning_Loop</th>\n",
              "      <th>Sunrise_Sunset</th>\n",
              "      <th>Civil_Twilight</th>\n",
              "      <th>Nautical_Twilight</th>\n",
              "      <th>Astronomical_Twilight</th>\n",
              "    </tr>\n",
              "  </thead>\n",
              "  <tbody>\n",
              "    <tr>\n",
              "      <th>988</th>\n",
              "      <td>A-989</td>\n",
              "      <td>3</td>\n",
              "      <td>2016-03-22 18:53:11</td>\n",
              "      <td>2016-03-23 00:53:11</td>\n",
              "      <td>38.825840</td>\n",
              "      <td>-120.029214</td>\n",
              "      <td>38.827194</td>\n",
              "      <td>-120.030632</td>\n",
              "      <td>0.121</td>\n",
              "      <td>Between Twin Bridges Tract and South Lake Taho...</td>\n",
              "      <td>21101.0</td>\n",
              "      <td>US Highway 50</td>\n",
              "      <td>L</td>\n",
              "      <td>Echo Lake</td>\n",
              "      <td>El Dorado</td>\n",
              "      <td>CA</td>\n",
              "      <td>95721</td>\n",
              "      <td>US</td>\n",
              "      <td>US/Pacific</td>\n",
              "      <td>KTVL</td>\n",
              "      <td>2016-03-22 18:53:00</td>\n",
              "      <td>28.9</td>\n",
              "      <td>NaN</td>\n",
              "      <td>85.0</td>\n",
              "      <td>30.18</td>\n",
              "      <td>10.0</td>\n",
              "      <td>Calm</td>\n",
              "      <td>NaN</td>\n",
              "      <td>NaN</td>\n",
              "      <td>Clear</td>\n",
              "      <td>False</td>\n",
              "      <td>False</td>\n",
              "      <td>False</td>\n",
              "      <td>False</td>\n",
              "      <td>False</td>\n",
              "      <td>False</td>\n",
              "      <td>False</td>\n",
              "      <td>False</td>\n",
              "      <td>False</td>\n",
              "      <td>False</td>\n",
              "      <td>False</td>\n",
              "      <td>False</td>\n",
              "      <td>False</td>\n",
              "      <td>Day</td>\n",
              "      <td>Day</td>\n",
              "      <td>Day</td>\n",
              "      <td>Day</td>\n",
              "    </tr>\n",
              "    <tr>\n",
              "      <th>989</th>\n",
              "      <td>A-990</td>\n",
              "      <td>2</td>\n",
              "      <td>2016-03-22 19:00:49</td>\n",
              "      <td>2016-03-23 01:00:49</td>\n",
              "      <td>37.358209</td>\n",
              "      <td>-121.840017</td>\n",
              "      <td>37.361596</td>\n",
              "      <td>-121.842044</td>\n",
              "      <td>0.259</td>\n",
              "      <td>Between Capitol Expy and Alum Rock Ave - Accid...</td>\n",
              "      <td>NaN</td>\n",
              "      <td>I-680 N</td>\n",
              "      <td>R</td>\n",
              "      <td>San Jose</td>\n",
              "      <td>Santa Clara</td>\n",
              "      <td>CA</td>\n",
              "      <td>95116</td>\n",
              "      <td>US</td>\n",
              "      <td>US/Pacific</td>\n",
              "      <td>KRHV</td>\n",
              "      <td>2016-03-22 18:48:00</td>\n",
              "      <td>57.2</td>\n",
              "      <td>NaN</td>\n",
              "      <td>63.0</td>\n",
              "      <td>NaN</td>\n",
              "      <td>10.0</td>\n",
              "      <td>WNW</td>\n",
              "      <td>17.3</td>\n",
              "      <td>NaN</td>\n",
              "      <td>Scattered Clouds</td>\n",
              "      <td>False</td>\n",
              "      <td>False</td>\n",
              "      <td>False</td>\n",
              "      <td>False</td>\n",
              "      <td>False</td>\n",
              "      <td>False</td>\n",
              "      <td>False</td>\n",
              "      <td>False</td>\n",
              "      <td>False</td>\n",
              "      <td>False</td>\n",
              "      <td>False</td>\n",
              "      <td>False</td>\n",
              "      <td>False</td>\n",
              "      <td>Day</td>\n",
              "      <td>Day</td>\n",
              "      <td>Day</td>\n",
              "      <td>Day</td>\n",
              "    </tr>\n",
              "    <tr>\n",
              "      <th>990</th>\n",
              "      <td>A-991</td>\n",
              "      <td>3</td>\n",
              "      <td>2016-03-22 20:07:32</td>\n",
              "      <td>2016-03-23 02:07:32</td>\n",
              "      <td>37.881943</td>\n",
              "      <td>-122.307987</td>\n",
              "      <td>37.885882</td>\n",
              "      <td>-122.308878</td>\n",
              "      <td>0.276</td>\n",
              "      <td>At I-80/I-580 Northern Split - Accident.</td>\n",
              "      <td>NaN</td>\n",
              "      <td>I-580 W</td>\n",
              "      <td>R</td>\n",
              "      <td>Berkeley</td>\n",
              "      <td>Alameda</td>\n",
              "      <td>CA</td>\n",
              "      <td>94710</td>\n",
              "      <td>US</td>\n",
              "      <td>US/Pacific</td>\n",
              "      <td>KOAK</td>\n",
              "      <td>2016-03-22 19:53:00</td>\n",
              "      <td>57.0</td>\n",
              "      <td>NaN</td>\n",
              "      <td>64.0</td>\n",
              "      <td>30.24</td>\n",
              "      <td>10.0</td>\n",
              "      <td>NW</td>\n",
              "      <td>8.1</td>\n",
              "      <td>NaN</td>\n",
              "      <td>Partly Cloudy</td>\n",
              "      <td>False</td>\n",
              "      <td>False</td>\n",
              "      <td>False</td>\n",
              "      <td>False</td>\n",
              "      <td>True</td>\n",
              "      <td>False</td>\n",
              "      <td>False</td>\n",
              "      <td>False</td>\n",
              "      <td>False</td>\n",
              "      <td>False</td>\n",
              "      <td>False</td>\n",
              "      <td>False</td>\n",
              "      <td>False</td>\n",
              "      <td>Night</td>\n",
              "      <td>Night</td>\n",
              "      <td>Day</td>\n",
              "      <td>Day</td>\n",
              "    </tr>\n",
              "    <tr>\n",
              "      <th>991</th>\n",
              "      <td>A-992</td>\n",
              "      <td>2</td>\n",
              "      <td>2016-03-22 21:40:18</td>\n",
              "      <td>2016-03-23 03:40:18</td>\n",
              "      <td>37.881038</td>\n",
              "      <td>-122.307788</td>\n",
              "      <td>37.883458</td>\n",
              "      <td>-122.308366</td>\n",
              "      <td>0.170</td>\n",
              "      <td>At I-80/I-580 Northern Split - Accident.</td>\n",
              "      <td>NaN</td>\n",
              "      <td>I-580 W</td>\n",
              "      <td>R</td>\n",
              "      <td>Berkeley</td>\n",
              "      <td>Alameda</td>\n",
              "      <td>CA</td>\n",
              "      <td>94710</td>\n",
              "      <td>US</td>\n",
              "      <td>US/Pacific</td>\n",
              "      <td>KOAK</td>\n",
              "      <td>2016-03-22 21:53:00</td>\n",
              "      <td>55.0</td>\n",
              "      <td>NaN</td>\n",
              "      <td>67.0</td>\n",
              "      <td>30.26</td>\n",
              "      <td>10.0</td>\n",
              "      <td>NW</td>\n",
              "      <td>8.1</td>\n",
              "      <td>NaN</td>\n",
              "      <td>Clear</td>\n",
              "      <td>False</td>\n",
              "      <td>False</td>\n",
              "      <td>False</td>\n",
              "      <td>False</td>\n",
              "      <td>False</td>\n",
              "      <td>False</td>\n",
              "      <td>False</td>\n",
              "      <td>False</td>\n",
              "      <td>False</td>\n",
              "      <td>False</td>\n",
              "      <td>False</td>\n",
              "      <td>False</td>\n",
              "      <td>False</td>\n",
              "      <td>Night</td>\n",
              "      <td>Night</td>\n",
              "      <td>Night</td>\n",
              "      <td>Night</td>\n",
              "    </tr>\n",
              "    <tr>\n",
              "      <th>992</th>\n",
              "      <td>A-993</td>\n",
              "      <td>2</td>\n",
              "      <td>2016-03-22 21:36:42</td>\n",
              "      <td>2016-03-23 03:36:42</td>\n",
              "      <td>38.518811</td>\n",
              "      <td>-121.101664</td>\n",
              "      <td>38.518811</td>\n",
              "      <td>-121.101664</td>\n",
              "      <td>0.000</td>\n",
              "      <td>Between Latrobe Rd/Indio Dr and Latrobe Rd - A...</td>\n",
              "      <td>14664.0</td>\n",
              "      <td>Latrobe Rd</td>\n",
              "      <td>R</td>\n",
              "      <td>Sloughhouse</td>\n",
              "      <td>Sacramento</td>\n",
              "      <td>CA</td>\n",
              "      <td>95683-9709</td>\n",
              "      <td>US</td>\n",
              "      <td>US/Pacific</td>\n",
              "      <td>KMHR</td>\n",
              "      <td>2016-03-22 20:45:00</td>\n",
              "      <td>55.4</td>\n",
              "      <td>NaN</td>\n",
              "      <td>51.0</td>\n",
              "      <td>30.23</td>\n",
              "      <td>10.0</td>\n",
              "      <td>NNW</td>\n",
              "      <td>3.5</td>\n",
              "      <td>NaN</td>\n",
              "      <td>Clear</td>\n",
              "      <td>False</td>\n",
              "      <td>False</td>\n",
              "      <td>False</td>\n",
              "      <td>False</td>\n",
              "      <td>False</td>\n",
              "      <td>False</td>\n",
              "      <td>False</td>\n",
              "      <td>False</td>\n",
              "      <td>False</td>\n",
              "      <td>False</td>\n",
              "      <td>False</td>\n",
              "      <td>False</td>\n",
              "      <td>False</td>\n",
              "      <td>Night</td>\n",
              "      <td>Night</td>\n",
              "      <td>Night</td>\n",
              "      <td>Night</td>\n",
              "    </tr>\n",
              "    <tr>\n",
              "      <th>...</th>\n",
              "      <td>...</td>\n",
              "      <td>...</td>\n",
              "      <td>...</td>\n",
              "      <td>...</td>\n",
              "      <td>...</td>\n",
              "      <td>...</td>\n",
              "      <td>...</td>\n",
              "      <td>...</td>\n",
              "      <td>...</td>\n",
              "      <td>...</td>\n",
              "      <td>...</td>\n",
              "      <td>...</td>\n",
              "      <td>...</td>\n",
              "      <td>...</td>\n",
              "      <td>...</td>\n",
              "      <td>...</td>\n",
              "      <td>...</td>\n",
              "      <td>...</td>\n",
              "      <td>...</td>\n",
              "      <td>...</td>\n",
              "      <td>...</td>\n",
              "      <td>...</td>\n",
              "      <td>...</td>\n",
              "      <td>...</td>\n",
              "      <td>...</td>\n",
              "      <td>...</td>\n",
              "      <td>...</td>\n",
              "      <td>...</td>\n",
              "      <td>...</td>\n",
              "      <td>...</td>\n",
              "      <td>...</td>\n",
              "      <td>...</td>\n",
              "      <td>...</td>\n",
              "      <td>...</td>\n",
              "      <td>...</td>\n",
              "      <td>...</td>\n",
              "      <td>...</td>\n",
              "      <td>...</td>\n",
              "      <td>...</td>\n",
              "      <td>...</td>\n",
              "      <td>...</td>\n",
              "      <td>...</td>\n",
              "      <td>...</td>\n",
              "      <td>...</td>\n",
              "      <td>...</td>\n",
              "      <td>...</td>\n",
              "      <td>...</td>\n",
              "    </tr>\n",
              "    <tr>\n",
              "      <th>2845337</th>\n",
              "      <td>A-2845338</td>\n",
              "      <td>2</td>\n",
              "      <td>2019-08-23 18:03:25</td>\n",
              "      <td>2019-08-23 18:32:01</td>\n",
              "      <td>34.002480</td>\n",
              "      <td>-117.379360</td>\n",
              "      <td>33.998880</td>\n",
              "      <td>-117.370940</td>\n",
              "      <td>0.543</td>\n",
              "      <td>At Market St - Accident.</td>\n",
              "      <td>NaN</td>\n",
              "      <td>Pomona Fwy E</td>\n",
              "      <td>R</td>\n",
              "      <td>Riverside</td>\n",
              "      <td>Riverside</td>\n",
              "      <td>CA</td>\n",
              "      <td>92501</td>\n",
              "      <td>US</td>\n",
              "      <td>US/Pacific</td>\n",
              "      <td>KRAL</td>\n",
              "      <td>2019-08-23 17:53:00</td>\n",
              "      <td>86.0</td>\n",
              "      <td>86.0</td>\n",
              "      <td>40.0</td>\n",
              "      <td>28.92</td>\n",
              "      <td>10.0</td>\n",
              "      <td>W</td>\n",
              "      <td>13.0</td>\n",
              "      <td>0.0</td>\n",
              "      <td>Fair</td>\n",
              "      <td>False</td>\n",
              "      <td>False</td>\n",
              "      <td>False</td>\n",
              "      <td>False</td>\n",
              "      <td>False</td>\n",
              "      <td>False</td>\n",
              "      <td>False</td>\n",
              "      <td>False</td>\n",
              "      <td>False</td>\n",
              "      <td>False</td>\n",
              "      <td>False</td>\n",
              "      <td>False</td>\n",
              "      <td>False</td>\n",
              "      <td>Day</td>\n",
              "      <td>Day</td>\n",
              "      <td>Day</td>\n",
              "      <td>Day</td>\n",
              "    </tr>\n",
              "    <tr>\n",
              "      <th>2845338</th>\n",
              "      <td>A-2845339</td>\n",
              "      <td>2</td>\n",
              "      <td>2019-08-23 19:11:30</td>\n",
              "      <td>2019-08-23 19:38:23</td>\n",
              "      <td>32.766960</td>\n",
              "      <td>-117.148060</td>\n",
              "      <td>32.765550</td>\n",
              "      <td>-117.153630</td>\n",
              "      <td>0.338</td>\n",
              "      <td>At Camino Del Rio/Mission Center Rd - Accident.</td>\n",
              "      <td>NaN</td>\n",
              "      <td>I-8 W</td>\n",
              "      <td>R</td>\n",
              "      <td>San Diego</td>\n",
              "      <td>San Diego</td>\n",
              "      <td>CA</td>\n",
              "      <td>92108</td>\n",
              "      <td>US</td>\n",
              "      <td>US/Pacific</td>\n",
              "      <td>KMYF</td>\n",
              "      <td>2019-08-23 18:53:00</td>\n",
              "      <td>70.0</td>\n",
              "      <td>70.0</td>\n",
              "      <td>73.0</td>\n",
              "      <td>29.39</td>\n",
              "      <td>10.0</td>\n",
              "      <td>SW</td>\n",
              "      <td>6.0</td>\n",
              "      <td>0.0</td>\n",
              "      <td>Fair</td>\n",
              "      <td>False</td>\n",
              "      <td>False</td>\n",
              "      <td>False</td>\n",
              "      <td>False</td>\n",
              "      <td>False</td>\n",
              "      <td>False</td>\n",
              "      <td>False</td>\n",
              "      <td>False</td>\n",
              "      <td>False</td>\n",
              "      <td>False</td>\n",
              "      <td>False</td>\n",
              "      <td>False</td>\n",
              "      <td>False</td>\n",
              "      <td>Day</td>\n",
              "      <td>Day</td>\n",
              "      <td>Day</td>\n",
              "      <td>Day</td>\n",
              "    </tr>\n",
              "    <tr>\n",
              "      <th>2845339</th>\n",
              "      <td>A-2845340</td>\n",
              "      <td>2</td>\n",
              "      <td>2019-08-23 19:00:21</td>\n",
              "      <td>2019-08-23 19:28:49</td>\n",
              "      <td>33.775450</td>\n",
              "      <td>-117.847790</td>\n",
              "      <td>33.777400</td>\n",
              "      <td>-117.857270</td>\n",
              "      <td>0.561</td>\n",
              "      <td>At Glassell St/Grand Ave - Accident. in the ri...</td>\n",
              "      <td>NaN</td>\n",
              "      <td>Garden Grove Fwy</td>\n",
              "      <td>R</td>\n",
              "      <td>Orange</td>\n",
              "      <td>Orange</td>\n",
              "      <td>CA</td>\n",
              "      <td>92866</td>\n",
              "      <td>US</td>\n",
              "      <td>US/Pacific</td>\n",
              "      <td>KSNA</td>\n",
              "      <td>2019-08-23 18:53:00</td>\n",
              "      <td>73.0</td>\n",
              "      <td>73.0</td>\n",
              "      <td>64.0</td>\n",
              "      <td>29.74</td>\n",
              "      <td>10.0</td>\n",
              "      <td>SSW</td>\n",
              "      <td>10.0</td>\n",
              "      <td>0.0</td>\n",
              "      <td>Partly Cloudy</td>\n",
              "      <td>False</td>\n",
              "      <td>False</td>\n",
              "      <td>False</td>\n",
              "      <td>False</td>\n",
              "      <td>True</td>\n",
              "      <td>False</td>\n",
              "      <td>False</td>\n",
              "      <td>False</td>\n",
              "      <td>False</td>\n",
              "      <td>False</td>\n",
              "      <td>False</td>\n",
              "      <td>False</td>\n",
              "      <td>False</td>\n",
              "      <td>Day</td>\n",
              "      <td>Day</td>\n",
              "      <td>Day</td>\n",
              "      <td>Day</td>\n",
              "    </tr>\n",
              "    <tr>\n",
              "      <th>2845340</th>\n",
              "      <td>A-2845341</td>\n",
              "      <td>2</td>\n",
              "      <td>2019-08-23 19:00:21</td>\n",
              "      <td>2019-08-23 19:29:42</td>\n",
              "      <td>33.992460</td>\n",
              "      <td>-118.403020</td>\n",
              "      <td>33.983110</td>\n",
              "      <td>-118.395650</td>\n",
              "      <td>0.772</td>\n",
              "      <td>At CA-90/Marina Fwy/Jefferson Blvd - Accident.</td>\n",
              "      <td>NaN</td>\n",
              "      <td>San Diego Fwy S</td>\n",
              "      <td>R</td>\n",
              "      <td>Culver City</td>\n",
              "      <td>Los Angeles</td>\n",
              "      <td>CA</td>\n",
              "      <td>90230</td>\n",
              "      <td>US</td>\n",
              "      <td>US/Pacific</td>\n",
              "      <td>KSMO</td>\n",
              "      <td>2019-08-23 18:51:00</td>\n",
              "      <td>71.0</td>\n",
              "      <td>71.0</td>\n",
              "      <td>81.0</td>\n",
              "      <td>29.62</td>\n",
              "      <td>10.0</td>\n",
              "      <td>SW</td>\n",
              "      <td>8.0</td>\n",
              "      <td>0.0</td>\n",
              "      <td>Fair</td>\n",
              "      <td>False</td>\n",
              "      <td>False</td>\n",
              "      <td>False</td>\n",
              "      <td>False</td>\n",
              "      <td>False</td>\n",
              "      <td>False</td>\n",
              "      <td>False</td>\n",
              "      <td>False</td>\n",
              "      <td>False</td>\n",
              "      <td>False</td>\n",
              "      <td>False</td>\n",
              "      <td>False</td>\n",
              "      <td>False</td>\n",
              "      <td>Day</td>\n",
              "      <td>Day</td>\n",
              "      <td>Day</td>\n",
              "      <td>Day</td>\n",
              "    </tr>\n",
              "    <tr>\n",
              "      <th>2845341</th>\n",
              "      <td>A-2845342</td>\n",
              "      <td>2</td>\n",
              "      <td>2019-08-23 18:52:06</td>\n",
              "      <td>2019-08-23 19:21:31</td>\n",
              "      <td>34.133930</td>\n",
              "      <td>-117.230920</td>\n",
              "      <td>34.137360</td>\n",
              "      <td>-117.239340</td>\n",
              "      <td>0.537</td>\n",
              "      <td>At Highland Ave/Arden Ave - Accident.</td>\n",
              "      <td>NaN</td>\n",
              "      <td>CA-210 W</td>\n",
              "      <td>R</td>\n",
              "      <td>Highland</td>\n",
              "      <td>San Bernardino</td>\n",
              "      <td>CA</td>\n",
              "      <td>92346</td>\n",
              "      <td>US</td>\n",
              "      <td>US/Pacific</td>\n",
              "      <td>KSBD</td>\n",
              "      <td>2019-08-23 20:50:00</td>\n",
              "      <td>79.0</td>\n",
              "      <td>79.0</td>\n",
              "      <td>47.0</td>\n",
              "      <td>28.63</td>\n",
              "      <td>7.0</td>\n",
              "      <td>SW</td>\n",
              "      <td>7.0</td>\n",
              "      <td>0.0</td>\n",
              "      <td>Fair</td>\n",
              "      <td>False</td>\n",
              "      <td>False</td>\n",
              "      <td>False</td>\n",
              "      <td>False</td>\n",
              "      <td>False</td>\n",
              "      <td>False</td>\n",
              "      <td>False</td>\n",
              "      <td>False</td>\n",
              "      <td>False</td>\n",
              "      <td>False</td>\n",
              "      <td>False</td>\n",
              "      <td>False</td>\n",
              "      <td>False</td>\n",
              "      <td>Day</td>\n",
              "      <td>Day</td>\n",
              "      <td>Day</td>\n",
              "      <td>Day</td>\n",
              "    </tr>\n",
              "  </tbody>\n",
              "</table>\n",
              "<p>795868 rows × 47 columns</p>\n",
              "</div>\n",
              "      <button class=\"colab-df-convert\" onclick=\"convertToInteractive('df-0cad8a30-3f61-4525-a88e-2292c3ad615d')\"\n",
              "              title=\"Convert this dataframe to an interactive table.\"\n",
              "              style=\"display:none;\">\n",
              "        \n",
              "  <svg xmlns=\"http://www.w3.org/2000/svg\" height=\"24px\"viewBox=\"0 0 24 24\"\n",
              "       width=\"24px\">\n",
              "    <path d=\"M0 0h24v24H0V0z\" fill=\"none\"/>\n",
              "    <path d=\"M18.56 5.44l.94 2.06.94-2.06 2.06-.94-2.06-.94-.94-2.06-.94 2.06-2.06.94zm-11 1L8.5 8.5l.94-2.06 2.06-.94-2.06-.94L8.5 2.5l-.94 2.06-2.06.94zm10 10l.94 2.06.94-2.06 2.06-.94-2.06-.94-.94-2.06-.94 2.06-2.06.94z\"/><path d=\"M17.41 7.96l-1.37-1.37c-.4-.4-.92-.59-1.43-.59-.52 0-1.04.2-1.43.59L10.3 9.45l-7.72 7.72c-.78.78-.78 2.05 0 2.83L4 21.41c.39.39.9.59 1.41.59.51 0 1.02-.2 1.41-.59l7.78-7.78 2.81-2.81c.8-.78.8-2.07 0-2.86zM5.41 20L4 18.59l7.72-7.72 1.47 1.35L5.41 20z\"/>\n",
              "  </svg>\n",
              "      </button>\n",
              "      \n",
              "  <style>\n",
              "    .colab-df-container {\n",
              "      display:flex;\n",
              "      flex-wrap:wrap;\n",
              "      gap: 12px;\n",
              "    }\n",
              "\n",
              "    .colab-df-convert {\n",
              "      background-color: #E8F0FE;\n",
              "      border: none;\n",
              "      border-radius: 50%;\n",
              "      cursor: pointer;\n",
              "      display: none;\n",
              "      fill: #1967D2;\n",
              "      height: 32px;\n",
              "      padding: 0 0 0 0;\n",
              "      width: 32px;\n",
              "    }\n",
              "\n",
              "    .colab-df-convert:hover {\n",
              "      background-color: #E2EBFA;\n",
              "      box-shadow: 0px 1px 2px rgba(60, 64, 67, 0.3), 0px 1px 3px 1px rgba(60, 64, 67, 0.15);\n",
              "      fill: #174EA6;\n",
              "    }\n",
              "\n",
              "    [theme=dark] .colab-df-convert {\n",
              "      background-color: #3B4455;\n",
              "      fill: #D2E3FC;\n",
              "    }\n",
              "\n",
              "    [theme=dark] .colab-df-convert:hover {\n",
              "      background-color: #434B5C;\n",
              "      box-shadow: 0px 1px 3px 1px rgba(0, 0, 0, 0.15);\n",
              "      filter: drop-shadow(0px 1px 2px rgba(0, 0, 0, 0.3));\n",
              "      fill: #FFFFFF;\n",
              "    }\n",
              "  </style>\n",
              "\n",
              "      <script>\n",
              "        const buttonEl =\n",
              "          document.querySelector('#df-0cad8a30-3f61-4525-a88e-2292c3ad615d button.colab-df-convert');\n",
              "        buttonEl.style.display =\n",
              "          google.colab.kernel.accessAllowed ? 'block' : 'none';\n",
              "\n",
              "        async function convertToInteractive(key) {\n",
              "          const element = document.querySelector('#df-0cad8a30-3f61-4525-a88e-2292c3ad615d');\n",
              "          const dataTable =\n",
              "            await google.colab.kernel.invokeFunction('convertToInteractive',\n",
              "                                                     [key], {});\n",
              "          if (!dataTable) return;\n",
              "\n",
              "          const docLinkHtml = 'Like what you see? Visit the ' +\n",
              "            '<a target=\"_blank\" href=https://colab.research.google.com/notebooks/data_table.ipynb>data table notebook</a>'\n",
              "            + ' to learn more about interactive tables.';\n",
              "          element.innerHTML = '';\n",
              "          dataTable['output_type'] = 'display_data';\n",
              "          await google.colab.output.renderOutput(dataTable, element);\n",
              "          const docLink = document.createElement('div');\n",
              "          docLink.innerHTML = docLinkHtml;\n",
              "          element.appendChild(docLink);\n",
              "        }\n",
              "      </script>\n",
              "    </div>\n",
              "  </div>\n",
              "  "
            ]
          },
          "metadata": {},
          "execution_count": 40
        }
      ]
    },
    {
      "cell_type": "code",
      "source": [
        "state = df.groupby(['State','City']).size().reset_index().rename(columns={0:'No: of accidents'}).sort_values(by='No: of accidents', ascending= False)"
      ],
      "metadata": {
        "id": "nQvO7pD_qObp"
      },
      "execution_count": 41,
      "outputs": []
    },
    {
      "cell_type": "code",
      "source": [
        "plt.figure(figsize= (12,6))\n",
        "sns.countplot(df.State)"
      ],
      "metadata": {
        "colab": {
          "base_uri": "https://localhost:8080/",
          "height": 460
        },
        "id": "HP5vZA4EqOdS",
        "outputId": "ca7973f2-b91c-46fb-d177-866783da1764"
      },
      "execution_count": 42,
      "outputs": [
        {
          "output_type": "stream",
          "name": "stderr",
          "text": [
            "/usr/local/lib/python3.7/dist-packages/seaborn/_decorators.py:43: FutureWarning: Pass the following variable as a keyword arg: x. From version 0.12, the only valid positional argument will be `data`, and passing other arguments without an explicit keyword will result in an error or misinterpretation.\n",
            "  FutureWarning\n"
          ]
        },
        {
          "output_type": "execute_result",
          "data": {
            "text/plain": [
              "<matplotlib.axes._subplots.AxesSubplot at 0x7f2d16a86d10>"
            ]
          },
          "metadata": {},
          "execution_count": 42
        },
        {
          "output_type": "display_data",
          "data": {
            "text/plain": [
              "<Figure size 864x432 with 1 Axes>"
            ],
            "image/png": "[encoded data removed]"
          },
          "metadata": {
            "needs_background": "light"
          }
        }
      ]
    },
    {
      "cell_type": "markdown",
      "source": [
        "### Temperature"
      ],
      "metadata": {
        "id": "5XHAnp3E2iMF"
      }
    },
    {
      "cell_type": "code",
      "source": [
        "sns.histplot(df['Temperature(F)'],kde = False, bins=24)"
      ],
      "metadata": {
        "colab": {
          "base_uri": "https://localhost:8080/",
          "height": 296
        },
        "id": "OBBcKZBi3DRM",
        "outputId": "d31ff39a-e773-417a-ae14-5a4c822caf59"
      },
      "execution_count": 43,
      "outputs": [
        {
          "output_type": "execute_result",
          "data": {
            "text/plain": [
              "<matplotlib.axes._subplots.AxesSubplot at 0x7f2d1673f610>"
            ]
          },
          "metadata": {},
          "execution_count": 43
        },
        {
          "output_type": "display_data",
          "data": {
            "text/plain": [
              "<Figure size 432x288 with 1 Axes>"
            ],
            "image/png": "[encoded data removed]"
          },
          "metadata": {
            "needs_background": "light"
          }
        }
      ]
    },
    {
      "cell_type": "markdown",
      "source": [
        "### Weather Condition"
      ],
      "metadata": {
        "id": "3KiBpKsE6KKs"
      }
    },
    {
      "cell_type": "code",
      "source": [
        "df.Weather_Condition.unique()"
      ],
      "metadata": {
        "colab": {
          "base_uri": "https://localhost:8080/"
        },
        "id": "8-sG-DXY6JC0",
        "outputId": "907ef6d5-08af-4325-cb60-159635ca986d"
      },
      "execution_count": 44,
      "outputs": [
        {
          "output_type": "execute_result",
          "data": {
            "text/plain": [
              "array(['Light Rain', 'Overcast', 'Mostly Cloudy', 'Snow', 'Light Snow',\n",
              "       'Cloudy', nan, 'Scattered Clouds', 'Clear', 'Partly Cloudy',\n",
              "       'Light Freezing Drizzle', 'Light Drizzle', 'Haze', 'Rain',\n",
              "       'Heavy Rain', 'Fair', 'Drizzle', 'Fog', 'Thunderstorms and Rain',\n",
              "       'Patches of Fog', 'Light Thunderstorms and Rain', 'Mist',\n",
              "       'Rain Showers', 'Light Rain Showers', 'Heavy Drizzle', 'Smoke',\n",
              "       'Light Freezing Fog', 'Light Freezing Rain', 'Blowing Snow',\n",
              "       'Heavy Thunderstorms and Rain', 'Heavy Snow', 'Snow Grains',\n",
              "       'Squalls', 'Light Fog', 'Shallow Fog', 'Thunderstorm',\n",
              "       'Light Ice Pellets', 'Thunder', 'Thunder in the Vicinity',\n",
              "       'Fair / Windy', 'Light Rain with Thunder',\n",
              "       'Heavy Thunderstorms and Snow', 'Light Snow Showers',\n",
              "       'Cloudy / Windy', 'Ice Pellets', 'N/A Precipitation',\n",
              "       'Light Thunderstorms and Snow', 'T-Storm', 'Rain / Windy',\n",
              "       'Wintry Mix', 'Partly Cloudy / Windy', 'Heavy T-Storm', 'Sand',\n",
              "       'Light Rain / Windy', 'Widespread Dust', 'Mostly Cloudy / Windy',\n",
              "       'Blowing Dust / Windy', 'Blowing Dust', 'Volcanic Ash',\n",
              "       'Freezing Rain / Windy', 'Small Hail', 'Wintry Mix / Windy',\n",
              "       'Light Snow / Windy', 'Heavy Ice Pellets', 'Heavy Snow / Windy',\n",
              "       'Heavy Rain / Windy', 'Heavy T-Storm / Windy', 'Fog / Windy',\n",
              "       'Dust Whirls', 'Showers in the Vicinity', 'Funnel Cloud',\n",
              "       'Thunder / Windy', 'Snow / Windy', 'Haze / Windy',\n",
              "       'Light Snow and Sleet', 'T-Storm / Windy',\n",
              "       'Sand / Dust Whirlwinds', 'Light Snow with Thunder', 'Rain Shower',\n",
              "       'Blowing Snow / Windy', 'Light Rain Shower', 'Snow and Sleet',\n",
              "       'Drizzle and Fog', 'Light Sleet', 'Drizzle / Windy',\n",
              "       'Light Snow Shower', 'Snow and Thunder / Windy',\n",
              "       'Light Sleet / Windy', 'Smoke / Windy', 'Widespread Dust / Windy',\n",
              "       'Light Drizzle / Windy', 'Tornado', 'Squalls / Windy', 'Hail',\n",
              "       'Blowing Snow Nearby', 'Partial Fog', 'Sand / Windy',\n",
              "       'Thunder / Wintry Mix', 'Light Freezing Rain / Windy', 'Duststorm',\n",
              "       'Light Snow and Sleet / Windy', 'Heavy Rain Shower / Windy',\n",
              "       'Sand / Dust Whirlwinds / Windy', 'Light Rain Shower / Windy',\n",
              "       'Thunder and Hail', 'Freezing Rain', 'Heavy Sleet', 'Sleet',\n",
              "       'Freezing Drizzle', 'Snow and Sleet / Windy',\n",
              "       'Heavy Freezing Drizzle', 'Heavy Freezing Rain', 'Blowing Sand',\n",
              "       'Thunder / Wintry Mix / Windy', 'Mist / Windy', 'Sleet / Windy',\n",
              "       'Patches of Fog / Windy', 'Sand / Dust Whirls Nearby',\n",
              "       'Heavy Rain Shower', 'Drifting Snow', 'Heavy Blowing Snow',\n",
              "       'Low Drifting Snow', 'Light Blowing Snow', 'Heavy Rain Showers',\n",
              "       'Light Haze', 'Heavy Thunderstorms with Small Hail',\n",
              "       'Heavy Snow with Thunder', 'Thunder and Hail / Windy'],\n",
              "      dtype=object)"
            ]
          },
          "metadata": {},
          "execution_count": 44
        }
      ]
    },
    {
      "cell_type": "code",
      "source": [
        "df.Weather_Condition.value_counts().head(20)"
      ],
      "metadata": {
        "colab": {
          "base_uri": "https://localhost:8080/"
        },
        "id": "YdVLHDsr9ycK",
        "outputId": "58f3b236-ee0b-4a55-d245-00ce40b0d7dd"
      },
      "execution_count": 45,
      "outputs": [
        {
          "output_type": "execute_result",
          "data": {
            "text/plain": [
              "Fair                       1107194\n",
              "Mostly Cloudy               363959\n",
              "Cloudy                      348767\n",
              "Partly Cloudy               249939\n",
              "Clear                       173823\n",
              "Light Rain                  128403\n",
              "Overcast                     84882\n",
              "Scattered Clouds             45132\n",
              "Light Snow                   43752\n",
              "Fog                          41226\n",
              "Haze                         36354\n",
              "Rain                         31044\n",
              "Fair / Windy                 15195\n",
              "Heavy Rain                   11824\n",
              "Smoke                         7200\n",
              "Light Drizzle                 7041\n",
              "Thunder in the Vicinity       6944\n",
              "Cloudy / Windy                6839\n",
              "T-Storm                       6546\n",
              "Mostly Cloudy / Windy         6297\n",
              "Name: Weather_Condition, dtype: int64"
            ]
          },
          "metadata": {},
          "execution_count": 45
        }
      ]
    },
    {
      "cell_type": "code",
      "source": [
        "plt.figure(figsize=(6,10))\n",
        "plt.pie(df.Weather_Condition.value_counts()[:10], labels= df.Weather_Condition.value_counts().index[:10])\n",
        "plt.show()"
      ],
      "metadata": {
        "colab": {
          "base_uri": "https://localhost:8080/",
          "height": 366
        },
        "id": "81vFQ_f4GH1L",
        "outputId": "129dd2ec-3d10-46bd-db8f-bb38a12e3fec"
      },
      "execution_count": 46,
      "outputs": [
        {
          "output_type": "display_data",
          "data": {
            "text/plain": [
              "<Figure size 432x720 with 1 Axes>"
            ],
            "image/png": "[encoded data removed]"
          },
          "metadata": {}
        }
      ]
    },
    {
      "cell_type": "markdown",
      "source": [
        "There are a lot no: of  accidents were record when weather is fair."
      ],
      "metadata": {
        "id": "IxkUcxKyE62_"
      }
    },
    {
      "cell_type": "markdown",
      "source": [
        "### Start longitude and latitude"
      ],
      "metadata": {
        "id": "KRTG6hOX4MCK"
      }
    },
    {
      "cell_type": "code",
      "source": [
        "df.Start_Lat"
      ],
      "metadata": {
        "colab": {
          "base_uri": "https://localhost:8080/"
        },
        "id": "H3cN3mZK3DV1",
        "outputId": "0af98c6a-2668-44cc-90fd-5a1345b64097"
      },
      "execution_count": 47,
      "outputs": [
        {
          "output_type": "execute_result",
          "data": {
            "text/plain": [
              "0          40.108910\n",
              "1          39.865420\n",
              "2          39.102660\n",
              "3          41.062130\n",
              "4          39.172393\n",
              "             ...    \n",
              "2845337    34.002480\n",
              "2845338    32.766960\n",
              "2845339    33.775450\n",
              "2845340    33.992460\n",
              "2845341    34.133930\n",
              "Name: Start_Lat, Length: 2845342, dtype: float64"
            ]
          },
          "metadata": {},
          "execution_count": 47
        }
      ]
    },
    {
      "cell_type": "code",
      "source": [
        "df.Start_Lng"
      ],
      "metadata": {
        "colab": {
          "base_uri": "https://localhost:8080/"
        },
        "id": "108kWBlu3DYt",
        "outputId": "d59aed7f-195e-47bf-a9b9-668a3be60192"
      },
      "execution_count": 48,
      "outputs": [
        {
          "output_type": "execute_result",
          "data": {
            "text/plain": [
              "0          -83.092860\n",
              "1          -84.062800\n",
              "2          -84.524680\n",
              "3          -81.537840\n",
              "4          -84.492792\n",
              "              ...    \n",
              "2845337   -117.379360\n",
              "2845338   -117.148060\n",
              "2845339   -117.847790\n",
              "2845340   -118.403020\n",
              "2845341   -117.230920\n",
              "Name: Start_Lng, Length: 2845342, dtype: float64"
            ]
          },
          "metadata": {},
          "execution_count": 48
        }
      ]
    },
    {
      "cell_type": "code",
      "source": [
        "sample_df = df.sample(int(0.1 * len(df)))"
      ],
      "metadata": {
        "id": "TvbrV0rCJPOl"
      },
      "execution_count": 49,
      "outputs": []
    },
    {
      "cell_type": "code",
      "source": [
        "sns.scatterplot(x= df.Start_Lng, y =sample_df.Start_Lat, size=0.001)"
      ],
      "metadata": {
        "colab": {
          "base_uri": "https://localhost:8080/",
          "height": 299
        },
        "id": "F-PW5LcK3DbY",
        "outputId": "f0132f49-49b6-4270-953f-7b37062a6e49"
      },
      "execution_count": 50,
      "outputs": [
        {
          "output_type": "execute_result",
          "data": {
            "text/plain": [
              "<matplotlib.axes._subplots.AxesSubplot at 0x7f2d169c5890>"
            ]
          },
          "metadata": {},
          "execution_count": 50
        },
        {
          "output_type": "display_data",
          "data": {
            "text/plain": [
              "<Figure size 432x288 with 1 Axes>"
            ],
            "image/png": "[encoded data removed]"
          },
          "metadata": {
            "needs_background": "light"
          }
        }
      ]
    },
    {
      "cell_type": "code",
      "source": [
        "import folium"
      ],
      "metadata": {
        "id": "8J6A-COF3Def"
      },
      "execution_count": 51,
      "outputs": []
    },
    {
      "cell_type": "code",
      "source": [
        "lat, lon = df.Start_Lat[0], df.Start_Lng[0]\n",
        "lat, lon"
      ],
      "metadata": {
        "colab": {
          "base_uri": "https://localhost:8080/"
        },
        "id": "9YGi71Xn3Dhj",
        "outputId": "670572d3-8ef0-4e84-9042-4b3c0d4f5f28"
      },
      "execution_count": 52,
      "outputs": [
        {
          "output_type": "execute_result",
          "data": {
            "text/plain": [
              "(40.10891, -83.09286)"
            ]
          },
          "metadata": {},
          "execution_count": 52
        }
      ]
    },
    {
      "cell_type": "code",
      "source": [
        "for x in df[['Start_Lat', 'Start_Lng']].sample(100).iteritems():\n",
        "    print(x[1])"
      ],
      "metadata": {
        "colab": {
          "base_uri": "https://localhost:8080/"
        },
        "id": "rabgXyRU3DkP",
        "outputId": "c14d03a5-697e-46c0-e7e5-331706183d8a"
      },
      "execution_count": 53,
      "outputs": [
        {
          "output_type": "stream",
          "name": "stdout",
          "text": [
            "2106577    40.669280\n",
            "2035306    34.154337\n",
            "2175477    38.410580\n",
            "2753805    33.832960\n",
            "1121061    42.153706\n",
            "             ...    \n",
            "937124     33.697181\n",
            "1880553    33.837300\n",
            "949518     39.952185\n",
            "2829574    39.580691\n",
            "2054281    32.402147\n",
            "Name: Start_Lat, Length: 100, dtype: float64\n",
            "2106577   -111.901250\n",
            "2035306   -118.392716\n",
            "2175477   -122.716160\n",
            "2753805    -79.059210\n",
            "1121061    -88.033526\n",
            "              ...    \n",
            "937124     -78.998574\n",
            "1880553   -118.299204\n",
            "949518     -75.340082\n",
            "2829574    -77.258258\n",
            "2054281    -93.831878\n",
            "Name: Start_Lng, Length: 100, dtype: float64\n"
          ]
        }
      ]
    },
    {
      "cell_type": "code",
      "source": [
        "zip(list(df.Start_Lat), list(df.Start_Lng))"
      ],
      "metadata": {
        "colab": {
          "base_uri": "https://localhost:8080/"
        },
        "id": "WFC_AV_kLZ07",
        "outputId": "1eb00322-a437-4876-c475-6e3afa371abb"
      },
      "execution_count": 54,
      "outputs": [
        {
          "output_type": "execute_result",
          "data": {
            "text/plain": [
              "<zip at 0x7f2d148073c0>"
            ]
          },
          "metadata": {},
          "execution_count": 54
        }
      ]
    },
    {
      "cell_type": "code",
      "source": [
        "from folium.plugins import HeatMap\n",
        "sample_df = df.sample(int(0.001 * len(df)))\n",
        "lat_lon_pairs = list(zip(list(sample_df.Start_Lat), list(sample_df.Start_Lng)))"
      ],
      "metadata": {
        "id": "rnUExQEsLaBE"
      },
      "execution_count": 55,
      "outputs": []
    },
    {
      "cell_type": "code",
      "source": [
        "map = folium.Map()\n",
        "HeatMap(lat_lon_pairs).add_to(map)\n",
        "map"
      ],
      "metadata": {
        "colab": {
          "base_uri": "https://localhost:8080/",
          "height": 763
        },
        "id": "KdD9RkMRLao3",
        "outputId": "b4a110e2-cb72-404e-ed5c-eab67a4ef203"
      },
      "execution_count": 56,
      "outputs": [
        {
          "output_type": "execute_result",
          "data": {
            "text/plain": [
              "<folium.folium.Map at 0x7f2d0956c350>"
            ],
            "text/html": [
              "<div style=\"width:100%;\"><div style=\"position:relative;width:100%;height:0;padding-bottom:60%;\"><span style=\"color:#565656\">Make this Notebook Trusted to load map: File -> Trust Notebook</span><iframe srcdoc=\"&lt;!DOCTYPE html&gt;\n",
              "&lt;head&gt;    \n",
              "    &lt;meta http-equiv=&quot;content-type&quot; content=&quot;text/html; charset=UTF-8&quot; /&gt;\n",
              "    &lt;script&gt;L_PREFER_CANVAS=false; L_NO_TOUCH=false; L_DISABLE_3D=false;&lt;/script&gt;\n",
              "    &lt;script src=&quot;https://cdn.jsdelivr.net/npm/leaflet@1.4.0/dist/leaflet.js&quot;&gt;&lt;/script&gt;\n",
              "    &lt;script src=&quot;https://code.jquery.com/jquery-1.12.4.min.js&quot;&gt;&lt;/script&gt;\n",
              "    &lt;script src=&quot;https://maxcdn.bootstrapcdn.com/bootstrap/3.2.0/js/bootstrap.min.js&quot;&gt;&lt;/script&gt;\n",
              "    &lt;script src=&quot;https://cdnjs.cloudflare.com/ajax/libs/Leaflet.awesome-markers/2.0.2/leaflet.awesome-markers.js&quot;&gt;&lt;/script&gt;\n",
              "    &lt;link rel=&quot;stylesheet&quot; href=&quot;https://cdn.jsdelivr.net/npm/leaflet@1.4.0/dist/leaflet.css&quot;/&gt;\n",
              "    &lt;link rel=&quot;stylesheet&quot; href=&quot;https://maxcdn.bootstrapcdn.com/bootstrap/3.2.0/css/bootstrap.min.css&quot;/&gt;\n",
              "    &lt;link rel=&quot;stylesheet&quot; href=&quot;https://maxcdn.bootstrapcdn.com/bootstrap/3.2.0/css/bootstrap-theme.min.css&quot;/&gt;\n",
              "    &lt;link rel=&quot;stylesheet&quot; href=&quot;https://maxcdn.bootstrapcdn.com/font-awesome/4.6.3/css/font-awesome.min.css&quot;/&gt;\n",
              "    &lt;link rel=&quot;stylesheet&quot; href=&quot;https://cdnjs.cloudflare.com/ajax/libs/Leaflet.awesome-markers/2.0.2/leaflet.awesome-markers.css&quot;/&gt;\n",
              "    &lt;link rel=&quot;stylesheet&quot; href=&quot;https://rawcdn.githack.com/python-visualization/folium/master/folium/templates/leaflet.awesome.rotate.css&quot;/&gt;\n",
              "    &lt;style&gt;html, body {width: 100%;height: 100%;margin: 0;padding: 0;}&lt;/style&gt;\n",
              "    &lt;style&gt;#map {position:absolute;top:0;bottom:0;right:0;left:0;}&lt;/style&gt;\n",
              "    \n",
              "    &lt;meta name=&quot;viewport&quot; content=&quot;width=device-width,\n",
              "        initial-scale=1.0, maximum-scale=1.0, user-scalable=no&quot; /&gt;\n",
              "    &lt;style&gt;#map_5b589082940bdd417c3f2ee864ebc43b {\n",
              "        position: relative;\n",
              "        width: 100.0%;\n",
              "        height: 100.0%;\n",
              "        left: 0.0%;\n",
              "        top: 0.0%;\n",
              "        }\n",
              "    &lt;/style&gt;\n",
              "    &lt;script src=&quot;https://leaflet.github.io/Leaflet.heat/dist/leaflet-heat.js&quot;&gt;&lt;/script&gt;\n",
              "&lt;/head&gt;\n",
              "&lt;body&gt;    \n",
              "    \n",
              "    &lt;div class=&quot;folium-map&quot; id=&quot;map_5b589082940bdd417c3f2ee864ebc43b&quot; &gt;&lt;/div&gt;\n",
              "&lt;/body&gt;\n",
              "&lt;script&gt;    \n",
              "    \n",
              "    \n",
              "        var bounds = null;\n",
              "    \n",
              "\n",
              "    var map_5b589082940bdd417c3f2ee864ebc43b = L.map(\n",
              "        &#x27;map_5b589082940bdd417c3f2ee864ebc43b&#x27;, {\n",
              "        center: [0, 0],\n",
              "        zoom: 1,\n",
              "        maxBounds: bounds,\n",
              "        layers: [],\n",
              "        worldCopyJump: false,\n",
              "        crs: L.CRS.EPSG3857,\n",
              "        zoomControl: true,\n",
              "        });\n",
              "\n",
              "\n",
              "    \n",
              "    var tile_layer_2c177a5015bc84be0243d9c4fcc07c3b = L.tileLayer(\n",
              "        &#x27;https://{s}.tile.openstreetmap.org/{z}/{x}/{y}.png&#x27;,\n",
              "        {\n",
              "        &quot;attribution&quot;: null,\n",
              "        &quot;detectRetina&quot;: false,\n",
              "        &quot;maxNativeZoom&quot;: 18,\n",
              "        &quot;maxZoom&quot;: 18,\n",
              "        &quot;minZoom&quot;: 0,\n",
              "        &quot;noWrap&quot;: false,\n",
              "        &quot;opacity&quot;: 1,\n",
              "        &quot;subdomains&quot;: &quot;abc&quot;,\n",
              "        &quot;tms&quot;: false\n",
              "}).addTo(map_5b589082940bdd417c3f2ee864ebc43b);\n",
              "    \n",
              "            var heat_map_4b8fda1f9aba1cb426b6bbc0e8921325 = L.heatLayer(\n",
              "                [[33.667681, -117.753657], [41.248338, -73.006466], [25.747767, -80.333922], [32.16314000000001, -110.90913], [40.135285, -76.576298], [35.38608499999999, -119.118929], [38.164099, -122.20798], [28.491458, -81.485125], [34.028559, -117.428909], [34.135457, -118.004691], [32.920590000000004, -96.75061], [28.341604, -81.48396], [39.20455, -84.46599], [33.974722, -118.238057], [26.321022, -81.805412], [39.55079, -77.60889399999998], [39.398212, -77.416815], [26.140632, -80.422818], [41.0651, -81.5044], [30.43545, -91.17731], [28.29156, -80.741815], [39.558115, -119.752498], [32.914284, -96.738979], [32.923155, -117.076198], [28.064146, -82.5042], [41.02854, -73.60198000000003], [40.75221, -73.7431], [35.138615, -80.935544], [36.13687, -80.29351], [39.25376, -74.72699], [29.726732, -95.41861], [30.467418, -91.111248], [29.847632, -95.524288], [39.128566, -75.530331], [32.77923, -117.06947], [38.936654, -120.996949], [27.29876, -82.48098], [37.698956, -122.10854], [39.02986, -76.68511], [38.33781, -122.26092], [33.967855, -84.52561899999998], [34.057969, -117.804021], [33.942409999999995, -118.368271], [34.19577, -118.85948], [45.18446, -122.84638], [25.744006, -80.226529], [33.498657, -112.238349], [43.090908, -123.570061], [39.766998, -84.215158], [25.846807, -80.216746], [32.717124, -83.528097], [34.797867, -92.414179], [33.950043, -80.979853], [43.606154, -73.733602], [38.11592, -121.39663], [38.181642, -112.632211], [39.7257, -105.038312], [41.736659, -72.664591], [34.978897, -82.347824], [33.83143, -117.8346], [42.22039, -87.96691], [44.299846, -93.982747], [25.898848, -80.257912], [36.739718, -119.811499], [36.215297, -86.77539499999996], [40.075598, -74.946955], [30.686765, -88.03912], [42.857253, -117.570336], [44.774358, -123.913756], [27.860961, -82.326701], [35.259918, -118.860603], [34.761394, -82.647602], [36.01600399999999, -95.67339], [44.690545, -69.635564], [25.909734, -80.29398], [43.979732, -92.239118], [47.355698, -93.187032], [27.997026, -82.738416], [38.649923, -121.396874], [32.881782, -80.01883199999997], [40.724333, -73.936089], [32.776927, -117.100739], [33.48113, -111.72884], [25.769215, -80.36911500000002], [32.9386, -96.82194], [40.086375, -75.23556500000002], [25.669635, -80.454432], [39.783766, -121.885032], [38.967206, -80.51420300000002], [44.501735, -123.061451], [28.475072, -81.417612], [39.239657, -76.700745], [33.887335, -118.28576], [27.893833, -82.335043], [33.9655, -118.08419], [38.434649, -122.6944], [40.17778, -80.26749000000002], [37.60342, -122.06418], [39.049817, -77.152047], [27.846339, -82.347368], [26.078606, -97.849503], [32.968937, -105.754533], [39.897032, -74.989918], [37.069419, -120.191398], [38.857719, -77.36993000000002], [39.719751, -86.264599], [25.902443, -80.296661], [34.073809999999995, -117.907318], [39.76941, -86.26886], [40.973371, -74.320954], [35.65062899999999, -82.943128], [44.97933, -93.08886], [39.9912, -85.91868000000002], [39.517216, -82.025802], [34.397594, -118.571912], [35.936912, -119.914687], [35.13776, -80.87637], [39.002097, -94.853092], [43.21219, -77.43030999999998], [26.04350100000001, -80.162758], [40.21203, -76.87719], [32.481794, -93.762881], [29.703101, -82.277652], [40.572578, -75.946177], [42.043744, -90.658439], [35.1492, -80.833282], [45.35637, -122.66435], [33.62368, -117.26999], [35.26299, -80.85471], [34.023540000000004, -118.1728], [37.625338, -122.080078], [29.78415, -95.525866], [43.020197, -76.14054399999998], [28.481804, -81.458702], [38.022919, -121.953381], [33.916394, -118.366378], [32.8917, -79.96752], [35.247718, -119.595481], [46.527775, -95.574413], [38.32382, -121.326473], [38.588209, -121.401565], [35.572488, -119.367272], [38.39024000000001, -82.57309000000002], [34.978002000000004, -82.307347], [26.254637, -80.16659200000002], [39.292146, -120.683769], [29.830943, -95.410769], [27.937828000000003, -82.303911], [29.776513, -95.307461], [40.689486, -74.298889], [40.70587, -73.8181], [40.076633, -75.414136], [40.76956, -73.708686], [34.567431, -81.951833], [38.141487, -122.22894], [25.897871, -80.180391], [37.6461, -77.61578], [33.06083, -117.29082], [30.344811, -97.581], [34.035234, -118.149801], [33.854306, -117.889293], [30.011156, -90.010307], [41.79576, -85.57941], [34.56684, -118.68615], [29.844114, -95.411047], [38.626357, -76.05873100000002], [32.807972, -96.8801], [34.136563, -117.458503], [28.4493, -81.477791], [31.322329, -89.372064], [34.201246000000005, -118.403747], [33.889664, -79.548681], [40.079596, -105.282306], [43.312321, -121.76775], [47.134935, -122.529131], [32.753038000000004, -117.08473], [29.86013, -95.56378], [44.02881, -121.31593], [34.768584000000004, -82.488752], [43.091631, -83.577871], [33.876079, -81.10653], [33.153717, -80.305953], [40.428861, -79.930998], [39.039665, -77.538352], [33.661813, -84.426998], [41.96455200000001, -87.75062], [30.446811, -84.264951], [37.766317, -122.405257], [34.015159999999995, -118.17077], [40.81797, -111.94952], [37.620567, -77.584301], [29.39507, -98.478372], [25.808044, -80.274597], [45.064748, -93.024684], [26.039046, -80.35298399999998], [38.879615, -77.394966], [36.220031, -86.774774], [33.787865999999994, -78.773397], [37.54998300000001, -122.025213], [26.27846, -80.29722], [34.072216, -118.062719], [33.987341, -118.06022], [39.94837, -82.94351999999998], [36.987239, -121.951134], [44.387561, -124.08833], [43.667924, -121.505762], [35.211771, -80.756537], [38.663564, -121.295285], [34.042691999999995, -118.291582], [45.183756, -93.319841], [38.800352, -77.117468], [36.998148, -121.686719], [29.516111, -98.426288], [38.911414, -94.524107], [45.642897, -109.238099], [30.460081, -86.90969], [32.84662, -96.63736], [32.85113, -96.56788], [36.110181, -86.68271700000004], [30.208015000000003, -97.817511], [25.656208, -80.415871], [33.83935, -118.263543], [47.302467, -122.248703], [47.38098, -122.24471], [31.9868, -106.33337], [40.767463, -74.021447], [39.052363, -94.366237], [35.33263, -80.79908], [37.823621, -122.31917], [29.78543, -95.73804], [44.887058, -93.295969], [37.594692, -120.806076], [39.402781, -76.951275], [45.517249, -122.56562], [40.753451, -112.731002], [35.759714, -78.749946], [25.81711, -80.20644], [45.535465, -122.686053], [43.08906, -83.67448], [32.978779, -117.087596], [35.035892, -85.274663], [41.012974, -92.419399], [45.269889, -93.008285], [37.002404, -122.020623], [41.78771, -93.5706], [39.089258, -112.270091], [37.03736, -76.39138], [33.173190000000005, -87.267777], [39.624299, -106.072401], [32.73979, -96.82282], [37.641102, -122.406009], [35.98135100000001, -77.277091], [38.659641, -120.964702], [45.53377, -122.62556], [33.895771999999994, -118.190093], [38.715888, -121.317693], [44.781725, -93.267566], [40.81543, -73.28711], [47.673014, -117.287818], [34.296690000000005, -118.47341000000002], [43.26127, -122.42839], [27.998893, -82.505115], [34.067492, -117.594426], [35.811372, -78.565873], [27.83309, -81.88452], [35.286059, -80.836123], [34.556819, -118.407021], [28.641475, -81.788095], [42.075758, -87.866731], [35.17208, -80.85123], [37.822762, -122.268937], [32.894496999999994, -96.711806], [41.42602, -72.85380699999997], [28.819066, -81.774585], [33.939341, -117.18327], [42.03773, -87.89283], [33.931272, -118.386995], [33.00340300000001, -117.224242], [33.87041, -117.74437], [33.856753999999995, -118.284625], [36.02479, -115.12593], [40.624598, -74.30717800000002], [35.771043, -78.721682], [47.157729, -122.351056], [25.92527, -80.28916], [32.881268, -96.897967], [38.026784, -121.95703799999998], [32.658347, -117.085969], [36.900492, -121.589469], [38.613672, -121.401476], [43.9553, -86.29188], [37.540692, -121.266949], [30.39558, -91.08542], [28.036690000000004, -82.082837], [43.301991, -71.58065], [45.662838, -108.769122], [38.583156, -121.503402], [35.375984, -118.931871], [38.77327, -120.29207], [27.63858, -80.4302], [34.015827, -118.135579], [32.67358, -117.08276], [40.642294, -111.938911], [36.775799, -78.02780899999998], [40.72736, -73.44423], [35.43537, -97.31796], [33.92548, -84.18184000000002], [34.046263, -118.448231], [37.86455, -122.20892], [38.364933, -122.711373], [34.022178000000004, -117.337176], [37.559283, -77.294086], [33.841356, -118.265494], [40.68471, -74.275589], [43.176108, -83.930622], [43.028694, -83.773016], [30.2319, -97.74237], [39.874571, -105.025135], [39.95723, -111.79696], [36.786753, -79.935202], [33.550471, -117.276888], [33.60231, -117.69105], [29.77728, -95.42233], [35.258414, -118.921982], [31.76275, -106.26677], [38.461014, -121.412674], [27.487331, -82.470534], [32.837249, -96.647072], [40.756713, -73.739858], [40.226109, -75.25769], [35.167712, -120.690393], [34.571537, -80.94156600000002], [40.86296, -74.38458], [39.251071, -76.680203], [38.768337, -90.410453], [41.316192, -72.288076], [37.93514, -122.44559], [34.733434, -82.34622900000002], [38.476147, -121.424954], [33.974652, -118.280597], [38.896654, -77.068201], [42.441182, -121.202529], [33.678187, -117.881131], [42.876752, -85.559602], [37.259099, -75.973764], [37.48062, -76.922074], [39.833754, -86.339889], [34.047885, -118.266682], [42.385393, -83.157159], [28.447197, -81.35724599999998], [33.787789000000004, -118.084642], [45.821755, -92.983841], [39.974991, -122.177216], [45.643719, -121.925314], [35.05812, -119.313732], [40.11671, -75.069266], [44.966104, -93.255346], [47.48548, -122.32719], [30.562098, -81.82769300000002], [27.744196, -82.418777], [37.60238, -121.84669], [33.778917, -117.876861], [33.592628000000005, -117.242342], [29.772218, -95.409521], [38.64331, -121.11488], [37.81117800000001, -122.364005], [44.389537, -88.160821], [40.239347, -77.12163000000002], [44.948746, -92.964475], [40.835677, -75.29965899999998], [40.015822, -76.27645600000002], [34.033239, -118.169146], [34.680209000000005, -82.507678], [38.64436, -90.34746], [35.30905300000001, -80.838899], [27.865334000000004, -82.791538], [27.07156, -81.4271], [32.91200300000001, -86.640578], [46.34183400000001, -114.197377], [33.74487, -84.393343], [40.73208, -73.87064000000002], [36.08766, -86.70143], [38.824462, -109.781345], [35.641294, -78.837192], [42.17749, -123.64496], [25.930164, -80.260082], [44.41973, -121.87027], [39.14108, -84.51944], [38.81718, -90.9571], [34.267505, -118.472024], [37.607353, -121.030443], [39.081184, -94.563951], [33.434605, -112.588152], [35.272217, -80.884641], [39.27473, -77.541825], [35.623172, -82.179916], [40.846384, -73.931145], [33.494257, -112.099906], [35.18968, -80.92155], [25.882907, -80.33953299999997], [38.653241, -121.531541], [34.0586, -117.78623], [38.60984000000001, -121.3297], [42.096655, -91.701494], [29.95167600000001, -90.068641], [40.676692, -74.605193], [25.846958, -80.21220699999998], [29.6771, -95.54046], [32.722939000000004, -117.162634], [41.259313, -111.981981], [44.954818, -93.188816], [33.755193, -117.851945], [37.241903, -81.1125], [39.004758, -77.435449], [45.67528, -122.66443], [37.991827, -122.126137], [37.76384, -121.96803], [39.166684, -77.270792], [37.248173, -121.831288], [33.957291, -84.119943], [34.753063, -86.637173], [42.38506, -83.30102], [38.65744, -121.38294], [33.122415999999994, -80.279449], [37.274485, -122.002646], [33.960014, -118.280502], [39.268401, -76.558501], [38.759307, -77.217264], [35.04064, -81.219852], [29.948159000000004, -95.39316], [45.497868, -122.509908], [40.68374, -73.64399999999998], [26.087221, -80.362916], [34.183048, -117.16832], [38.50658, -121.45698], [30.458854, -81.643213], [38.593973, -121.504394], [45.332132, -93.700833], [37.548263, -77.432415], [39.165171, -104.853077], [25.880411, -80.242889], [37.643451, -122.09275], [33.178811, -87.556979], [33.671346, -84.331837], [42.24902, -71.8004], [42.401802, -122.93522], [47.813113, -122.645812], [25.73778, -80.38459], [38.938626, -94.504984], [26.77816, -80.0985], [30.512955, -87.218758], [30.42528900000001, -91.160783], [34.096824, -117.918435], [38.336027, -87.2463], [34.082669, -83.87270799999997], [38.831133, -121.307044], [39.77543, -104.86141], [36.991146, -121.980143], [39.02597, -77.109472], [46.096261, -122.974101], [40.184811, -77.237893], [28.452476, -81.47081800000002], [34.077632, -117.623618], [34.037025, -118.309067], [25.811479, -80.197443], [38.793992, -90.81583], [38.85034, -77.129234], [27.541277, -80.466903], [34.176359999999995, -118.861776], [33.881745, -117.547964], [36.20358, -82.090283], [29.686342, -81.662885], [34.354808, -117.437859], [28.42072000000001, -81.50343000000002], [33.8342, -117.87596], [36.975724, -121.884096], [38.624842, -121.517072], [25.700184, -80.40880200000002], [45.52607, -122.65953], [38.561121, -121.483157], [45.640491, -118.687654], [39.27718, -77.32316999999998], [34.22202, -119.13078], [33.99902, -117.37092], [25.598447, -80.37889], [38.956065, -77.09178299999998], [41.669012, -72.6648], [40.26547, -82.90898], [34.148022, -79.63577099999998], [39.898532, -74.59757900000002], [25.704529, -80.366353], [32.266427, -95.279413], [35.101505, -80.931504], [33.80413, -118.20737], [30.504525, -84.251166], [41.28362, -72.93757], [43.012794, -83.733812], [28.340593, -81.38370400000002], [47.581624, -122.218137], [44.862231, -93.233424], [34.23998, -119.182], [25.895692, -80.35120500000002], [36.537749, -119.325692], [34.087198, -118.234118], [37.71548, -122.17292], [37.700779, -121.922894], [28.566683, -81.20542900000002], [26.436684000000003, -82.0757], [39.569163, -76.354262], [34.13471, -117.63058999999998], [28.09844600000001, -80.70585600000003], [40.84992, -73.943164], [47.55337, -122.33693999999998], [37.374689, -121.932211], [39.109819, -108.421607], [39.314843, -120.442031], [40.52545300000001, -74.235792], [34.067409000000005, -117.52403], [45.543791, -122.406395], [34.019647, -117.48516399999998], [41.081934, -73.858244], [33.932917, -118.330401], [33.873388, -117.746908], [40.68969, -73.56748], [39.98217, -82.98446], [33.412859999999995, -111.89151], [39.07875, -76.90154], [47.20657, -122.46176], [33.63586, -117.339633], [26.03861, -80.16372], [41.974664, -87.86925699999998], [39.39002, -119.75737], [39.067223, -94.620409], [41.160269, -76.793501], [39.072522, -76.906021], [46.533684, -110.082925], [37.43366, -77.49059], [36.15917, -86.792067], [25.826217, -80.330511], [39.64223, -106.353357], [44.96835, -93.253604], [42.841798, -73.67556400000002], [37.69998, -121.9258], [35.004437, -114.59799], [45.62365, -94.00321], [37.34695, -121.85888], [33.95943, -117.54902], [33.200235, -97.145466], [35.900208, -78.60716500000002], [45.739914, -109.763835], [32.907432, -96.910089], [43.30348, -75.47319], [35.031183, -80.544065], [35.049356, -85.629921], [27.17970900000001, -82.48227800000002], [37.554441, -122.048161], [41.675357, -72.854567], [42.18083, -87.92586], [38.49611, -121.39055], [33.619784, -117.821127], [30.245007, -82.674769], [41.81197, -71.40559], [42.385908, -83.475226], [38.08693, -84.48991], [43.912931, -90.245973], [41.262721, -96.234245], [33.495113, -112.112943], [37.879074, -121.262565], [34.275457, -118.927348], [29.972526, -90.058453], [37.72415, -77.44983], [40.117918, -75.136517], [38.60015, -90.40624], [35.839832, -78.676859], [39.31216, -76.74450999999998], [47.185581, -122.463837], [32.770021, -117.13981499999998], [40.424282, -122.282524], [34.427218, -81.726474], [41.80328, -88.0571], [26.100522, -80.361181], [41.512367, -72.821547], [40.65943, -111.88832], [37.255567, -121.867261], [32.452486, -85.73877399999998], [40.725922, -111.98648], [35.611686, -81.08519], [36.153935, -86.758271], [34.13537, -117.9875], [33.450847, -111.982644], [38.489431, -121.802769], [33.94418, -117.67192], [44.8592, -93.406956], [41.047135, -73.803885], [25.94875, -80.205487], [38.5189, -121.52199], [29.330990000000003, -81.058849], [40.756466, -77.618104], [40.769373, -111.949621], [41.045812, -73.793438], [27.29875, -82.46446], [39.740355, -121.495753], [45.603722, -94.395443], [33.93130900000001, -118.346307], [28.025505, -82.49953000000002], [29.77381, -95.25165], [38.012821, -121.872431], [34.849187, -82.15350699999998], [39.254242, -94.645064], [34.168199, -118.301608], [28.450781, -81.477807], [33.859953000000004, -118.309145], [35.67937, -78.56543], [34.206533, -118.200208], [34.113661, -81.05295799999998], [30.453318, -81.710375], [35.868787, -78.62097299999998], [41.102131, -73.99743199999998], [35.001819, -85.292259], [37.24123, -76.633352], [38.941158, -94.858059], [28.482248, -81.396664], [28.146554, -82.740257], [37.532435, -77.429932], [37.551023, -77.438996], [41.621586, -88.012043], [37.822704, -122.260925], [39.781415, -104.98957], [25.714117, -80.427899], [28.538308, -81.475726], [26.129242, -80.374381], [45.504991, -122.67361], [44.46975, -93.15837], [41.16362700000001, -74.184126], [33.139368, -86.747027], [39.75599, -105.14436], [33.484472, -112.113021], [25.577361, -80.370664], [38.610705, -121.402793], [42.32518, -88.17926], [33.043591, -117.190254], [34.988440000000004, -85.47029599999998], [45.77603, -119.28136], [33.201745, -84.059776], [35.96635900000001, -121.086314], [45.800269, -112.707614], [35.560051, -78.329955], [36.658941, -77.55704899999998], [34.046498, -81.10506099999998], [37.705457, -122.116958], [35.41645, -97.54796], [35.306005, -80.859087], [39.835256, -84.819313], [40.696738, -73.98100000000002], [25.687628, -80.348681], [40.569673, -74.678218], [37.301759, -121.872452], [37.746532, -118.979755], [33.858344, -118.096283], [40.102502, -74.990444], [33.138490000000004, -117.14055], [28.381032, -81.404624], [26.643038, -81.682041], [34.120463, -117.732213], [42.95587800000001, -85.662673], [47.751415, -114.020878], [29.939449, -90.126239], [25.766614, -80.263467], [37.739549, -121.557744], [39.03884, -94.67514], [44.96468, -93.28338], [47.58615, -122.32909], [37.372301, -77.677448], [47.28867, -122.30958], [40.75347, -111.62344], [44.849834, -93.298061], [34.135455, -117.968292], [38.223117, -122.257738], [25.888462, -80.206749], [39.780144, -104.966864], [25.893039, -80.16272099999998], [29.729103, -95.418637], [34.78366, -82.475227], [37.52332, -79.710327], [42.76039, -73.75665], [41.251458, -73.001763], [33.956447, -118.369287], [36.977936, -121.910097], [32.757835, -96.82289], [33.831552, -118.29918700000002], [40.67277, -73.73509], [38.474338, -121.415727], [36.417612, -121.322055], [37.74492, -122.40505], [42.17256, -121.70625], [33.95591, -118.10886], [34.068942, -117.362024], [40.68272, -73.69015], [30.339543, -97.803685], [43.042818, -76.142434], [41.556272, -72.743415], [38.896473, -104.734296], [34.035204, -118.328401], [38.773324, -76.99600799999997], [28.481036, -81.450866], [28.049072, -82.673889], [40.571589, -112.29513], [34.06787, -117.5173], [25.733053, -80.32338100000003], [30.11417, -81.51357], [36.038675, -95.903448], [37.58919, -121.8721], [46.5464, -100.588384], [37.86125300000001, -122.209423], [33.999198, -117.851768], [39.170336, -121.751092], [33.15565, -117.33854], [37.104418, -76.486198], [39.35939000000001, -78.04892], [45.764397, -95.030418], [39.799418, -86.027012], [39.3399, -76.49414399999998], [34.528942, -82.894409], [25.811192, -80.345212], [40.655821, -79.668204], [44.8612, -93.10589], [43.12417, -75.57989], [41.888996, -88.037375], [45.51549, -122.69966], [26.19942, -80.148513], [34.154551, -118.384598], [34.134961, -117.346364], [37.24119500000001, -121.772428], [47.352183, -122.296009], [37.420803, -121.938009], [45.063933, -93.162828], [34.748543, -92.388314], [33.66555, -84.34567], [26.546434, -81.849649], [39.218921, -76.658371], [37.300355, -120.681174], [40.055556, -76.266276], [27.813703000000004, -82.700092], [38.652799, -121.272485], [32.677481, -97.064399], [29.252117, -82.115732], [25.94559, -80.18654000000002], [35.137546, -85.236475], [44.786148, -93.412759], [30.458875, -97.667073], [25.939764, -80.323643], [37.85195, -77.99095799999998], [25.648481, -80.332075], [34.61869, -92.762624], [44.63117, -123.103422], [35.89850300000001, -78.761361], [46.697843, -113.427355], [40.298669, -121.050693], [34.218853, -79.796734], [41.914074, -87.919886], [39.77989, -104.98547], [35.057233000000004, -90.687514], [38.632831, -121.218911], [34.550199, -94.306638], [39.619692, -108.795644], [36.157969, -86.862705], [30.348251, -97.694722], [42.25833, -73.74646], [28.065668, -82.50325500000002], [33.845325, -117.829731], [43.16468, -77.6725], [45.54966, -95.19462], [35.146678, -80.92642099999998], [38.030767, -122.537534], [34.324668, -118.503459], [32.675939, -97.029385], [35.707018, -81.36353299999998], [41.808349, -124.12707], [40.691181, -74.267395], [34.739999, -77.363354], [37.073011, -120.87122], [34.194828, -91.92832], [38.676343, -77.345028], [43.139978, -77.62207099999998], [26.081489, -80.140746], [29.737447, -95.368548], [25.937614, -80.218643], [39.343792, -121.68686], [34.529426, -120.196673], [39.832085, -75.789204], [25.733461, -80.303484], [29.958982, -90.078003], [25.696997, -80.342123], [37.77185, -122.42331], [25.68608900000001, -80.395911], [38.481607, -121.408674], [35.827006, -78.62532], [40.802, -74.07328000000003], [32.768578000000005, -117.15258500000002], [35.775918, -119.177669], [32.31092, -86.33851], [37.645951, -121.414171], [35.909875, -78.97924300000003], [27.462493, -82.586329], [43.13075, -77.4413], [25.796986, -80.335534], [36.38062, -82.42715], [33.740717, -117.833892], [38.103826, -122.601333], [34.375925, -119.471667], [28.72799, -81.60264000000002], [43.593419, -116.441787], [43.028297, -88.006929], [33.634335, -117.424315], [40.76443, -111.97483], [38.946602, -77.20180400000002], [35.82189, -78.56913], [40.74194, -73.72838], [35.371671, -118.969746], [32.662007, -96.896116], [37.617605, -77.457167], [30.457474, -90.946963], [42.367948, -83.059219], [36.87636, -76.198942], [44.486232, -93.019855], [38.769968, -76.086877], [26.594274, -80.068985], [37.558517, -122.281316], [39.63005, -104.90502], [46.083369, -123.261672], [28.419187, -81.404635], [32.440766, -93.711334], [37.849776, -122.294057], [35.085493, -89.875062], [34.004736, -118.341231], [25.841792, -80.249712], [35.07115, -85.269778], [25.95695, -80.29446], [36.87808, -121.56555], [34.175089, -79.761457], [38.906121, -77.217477], [35.136001, -85.326351], [35.798818, -78.567361], [33.557688, -112.113231], [37.723997, -121.675933], [32.675599, -97.135122], [27.297719, -82.451523], [35.229698, -85.825767], [37.553547, -77.426478], [25.71404200000001, -80.43021], [37.78622, -122.195037], [33.76774, -84.5322], [29.801768, -95.384387], [25.690258, -80.302145], [39.14674, -84.45402], [28.530721000000003, -81.23994], [38.06849, -122.22627], [32.717872, -117.147398], [33.877790999999995, -117.54546], [42.005381, -122.61526200000002], [46.125186, -92.888814], [35.361385, -118.95203899999998], [35.475765, -94.255753], [43.075748, -83.685668], [25.899987, -80.161937], [34.3721, -118.499743], [39.622181, -76.667178], [38.887041, -77.217267], [25.898176, -80.186746], [44.94876, -92.9589], [25.632618, -80.414796], [28.204691, -82.666021], [44.935092, -95.125325], [37.971725, -121.241122], [40.776207, -122.315444], [34.040074, -118.300364], [39.62841, -84.15892], [27.812802, -82.695955], [33.987744, -118.066197], [37.930222, -79.23151999999997], [47.590671, -122.249612], [25.598634, -80.352987], [34.139124, -117.302473], [33.663662, -117.084679], [41.789409, -87.91884399999998], [42.962737, -85.633783], [28.542396000000004, -81.47582], [41.629983, -87.45444499999998], [25.73312, -80.3159], [41.017281, -74.29655799999998], [41.808482, -90.567051], [28.551744, -81.506351], [33.916717, -84.342199], [40.220782, -74.758023], [32.68885, -117.115771], [46.653267, -112.021368], [35.11253, -118.236449], [37.771112, -121.174607], [34.154385999999995, -118.100579], [34.017156, -117.817024], [25.846972, -80.21169300000003], [40.154051, -120.309777], [44.053851, -116.982811], [32.841957, -83.622318], [36.03193, -79.70221], [35.006646, -85.277805], [40.705487, -74.063653], [43.657768, -111.921898], [39.69300000000001, -104.82905], [38.98176, -77.25695999999998], [35.83714699999999, -78.663088], [32.783226, -96.808953], [39.11749, -76.77332], [40.08109, -74.93796], [34.569603, -118.687967], [37.398628, -118.356161], [33.02924, -117.27691000000002], [42.47398, -83.43199], [34.085035, -118.301663], [40.158546, -75.122762], [34.15722, -118.4487], [39.299415, -76.74301], [33.792182000000004, -111.92582], [32.319705, -95.322771], [41.591808, -74.087552], [34.029519, -118.432301], [29.56179, -95.38762], [33.889193, -118.184901], [38.001175, -122.537456], [33.857269, -117.976326], [36.58719, -82.26114], [43.93147, -91.94094], [32.23573, -110.858], [33.43608, -86.73743], [37.487208, -121.932402], [32.446771000000005, -93.720642], [40.636741, -74.200171], [42.851899, -73.347179], [43.164189, -77.646624], [33.718452, -117.970267], [32.90226, -117.22383], [30.534917, -91.082701], [35.19639, -80.76351], [32.726872, -97.87455], [33.915987, -118.104871], [44.07407, -117.00409], [44.369508, -121.622666], [32.8448, -117.11955], [33.941666999999995, -118.279704], [32.663512, -96.900094], [41.022818, -73.728617], [39.887154, -75.329725], [41.945424, -87.885059], [39.642094, -75.808013], [37.248319, -76.702347], [25.807607, -80.290802], [43.141969, -77.542866], [34.079367, -118.291686], [44.427422, -92.87953], [40.758224, -113.019957], [34.055686, -118.451951], [40.745301, -111.949093], [39.11352, -94.56462], [45.261263, -93.555475], [28.451602, -81.477678], [34.192848, -117.364093], [38.522829, -121.966077], [34.91283, -82.329532], [25.867435, -80.25896999999998], [36.561461, -121.74961], [38.529986, -121.751314], [35.90327199999999, -84.630482], [33.960141, -118.231589], [32.56948, -97.318772], [40.319962, -75.488755], [40.227547, -74.05041899999998], [37.627376, -122.081256], [39.765507, -84.21764300000002], [35.046167, -90.00780999999998], [44.7975, -93.28942], [33.209108, -117.386568], [39.512698, -77.593919], [37.31394, -121.82699], [44.96128, -92.98477], [33.574009999999994, -81.733369], [37.542767, -121.270829], [33.72038, -117.97252], [34.162099, -118.605834], [39.710394, -106.713949], [35.272625, -119.013728], [36.343967, -119.11658], [35.571397, -82.584917], [33.97902, -118.065869], [38.528495, -121.51908799999998], [28.411856, -81.423723], [34.499183, -82.995003], [40.854159, -73.965693], [39.825281, -123.190532], [37.14712700000001, -122.016907], [33.069309999999994, -117.06969], [34.02975, -118.40551], [34.135271, -117.592761], [41.222451, -96.050151], [34.072133, -118.105913], [34.354574, -117.628677], [40.62882000000001, -74.3025], [36.14709600000001, -86.857939], [38.796511, -77.19074599999998], [32.81372, -96.79028], [38.87539, -121.130973], [33.743371, -117.106842], [34.068039, -117.603625], [33.945464, -118.304215], [34.17892, -117.43975], [35.150713, -90.035344], [37.33197, -120.37833700000002], [39.09393, -94.68078], [45.346801, -122.983463], [44.97085, -93.36094], [38.801714, -120.120767], [34.669599, -92.38182], [41.87339, -71.38517], [33.777407000000004, -117.835558], [38.602854, -121.351538], [41.061514, -121.489933], [33.917028, -118.030909], [39.821993, -74.995802], [35.012708, -118.954907], [40.010565, -75.062874], [40.11671, -75.069266], [32.805473, -96.627109], [32.706309999999995, -117.14772], [28.942754, -81.666756], [32.235681, -110.83791200000002], [45.7621, -119.19809], [34.06927, -118.04526], [32.71333, -117.13344], [43.688278, -123.297093], [29.91022, -95.61172], [32.484619, -93.756737], [42.704929, -123.371982], [41.00136, -73.65225], [29.758708, -95.301313], [45.37929000000001, -122.60375], [33.459957, -112.151865], [30.418674, -91.14173], [35.006602, -85.231686], [28.615119, -81.47613100000002], [33.62586, -111.944408], [34.017161, -118.208791], [29.761195, -95.359027], [41.817016, -87.74376], [33.930769, -118.378448], [41.099456, -74.058483], [38.586201, -77.307193], [36.55158400000001, -121.676341], [27.99786, -82.72961], [33.78179, -117.83122], [34.276959999999995, -118.42298], [37.637405, -120.393504], [39.186963, -94.600134], [45.535105, -122.583436], [30.179409000000003, -97.778091], [25.785983, -80.213374], [39.531115, -77.60464300000002], [33.881657000000004, -117.547379], [36.082228, -86.697849], [39.973654, -111.338062], [34.148994, -118.04806299999998], [38.45484, -120.867746], [37.786756, -122.392061], [28.886943, -81.16556700000002], [38.867257, -77.04871700000002], [36.746381, -119.80418], [37.718313, -77.44811800000002], [39.74008, -104.94078], [40.99358, -74.12614], [33.90504, -118.18406], [35.294899, -85.151167], [40.23283, -74.75046], [34.949274, -82.439646], [28.34698, -81.41977], [37.059124, -78.950282], [38.53946, -121.73618], [38.339378, -122.71278], [40.58871, -111.43666], [34.148576, -118.057654], [29.78496, -95.58352], [40.390554, -78.429161], [36.003032, -86.607685], [38.465416, -121.83338], [46.94738, -122.939], [40.804767, -122.888141], [38.71793, -90.44676], [37.78383, -122.42095], [34.403647, -119.528067], [42.926503, -124.111021], [38.777389, -77.68235], [33.925834, -118.212515], [32.708639, -117.084392], [40.77839, -73.9256], [36.604145, -119.287056], [39.29664, -76.81517], [33.903488, -118.192854], [30.158674, -97.776019], [40.57937800000001, -75.841948], [30.262431, -97.741072], [33.082478, -112.043419], [26.262123, -80.13161099999998], [34.20845300000001, -117.412955], [28.338919, -81.409591], [25.868197, -80.236372], [32.66137, -97.25814], [40.711143, -112.02491], [33.94661, -117.29843], [32.316511, -86.33645200000002], [34.341522, -118.525577], [35.881787, -87.82799999999997], [36.95167, -120.05347], [42.741047, -84.678917], [30.385194, -97.64926], [35.151038, -90.385818], [33.65222, -117.74094], [28.549269, -81.194733], [33.982607, -117.342294], [44.98778400000001, -117.895987], [34.647447, -118.375263], [41.010276, -111.936799], [40.127754, -75.109471], [30.220658, -97.706187], [44.69072, -122.01991], [36.088145, -86.701515], [44.907129, -93.533779], [45.039449, -93.284815], [45.02534, -93.40067], [32.133959999999995, -111.008826], [34.156835, -118.41378600000002], [30.486905, -86.432748], [42.912404, -85.66595500000003], [44.293671, -121.557936], [29.740908, -95.416385], [32.710493, -96.830309], [35.558012, -119.329156], [28.23754000000001, -81.65302], [44.77825, -93.03467], [45.06744000000001, -93.247071], [25.874115, -80.29744699999998], [33.964459999999995, -117.32559], [35.820996, -78.704913], [43.176205, -73.710163], [28.748731, -81.931617], [33.933499, -117.000073], [28.476531, -81.417449], [40.71936, -73.40666999999998], [47.73383, -122.30196], [34.068328, -117.379428], [38.277107, -85.74918100000002], [41.31878, -74.11429], [42.88173, -78.881288], [33.654007, -112.114666], [41.122909, -73.33536], [25.80851, -80.313148], [36.826418, -76.325916], [30.01201, -89.93961999999998], [35.06238, -89.90576], [46.464506, -93.886393], [30.416128000000004, -91.1562], [40.544393, -75.67747299999998], [39.141022, -108.738261], [34.069751000000004, -80.40785], [34.50562, -118.11456], [44.659739, -123.911868], [43.17679, -87.91717], [43.612229, -116.349375], [38.30105, -85.61148399999998], [41.3711, -95.68075], [36.738742, -119.808346], [32.710236, -96.830202], [37.827039, -122.296415], [37.783193, -121.221919], [35.25438, -80.87276999999997], [45.788963, -93.27594], [37.596508, -121.861979], [45.420647, -122.572928], [38.621211, -121.524024], [46.01322, -107.876096], [32.86348, -96.54604], [33.876098, -118.120505], [38.44745, -105.17668], [35.947705, -78.99628], [39.399715, -121.678658], [37.403231, -122.046911], [28.451716, -81.47766800000002], [45.064809, -93.055394], [41.80908, -71.44018], [48.615542, -97.862144], [42.01185, -87.7541], [25.747942, -80.304473], [40.117883, -75.351178], [28.261603000000004, -80.688099], [34.437214000000004, -119.751909], [46.327235, -114.108506], [40.7563, -111.89969], [40.07883, -74.74996999999998], [45.507012, -122.670625], [34.848516, -118.160521], [40.000525, -75.194835], [43.148773, -75.211361], [40.735236, -74.056534], [33.24823, -84.086179], [41.283525, -78.414248], [28.397995, -82.19767900000002], [30.410171, -86.675477], [34.06833, -117.837499], [40.795269, -74.19171], [38.982566, -76.893434], [45.47738, -122.79023], [34.028459999999995, -118.229818], [36.846001, -76.183213], [37.009047, -121.514338], [40.682549, -73.647304], [37.897448, -122.100763], [45.50365, -122.67455], [26.710242, -80.078691], [42.93296, -78.78761999999998], [47.66463, -122.18717], [34.02391, -117.76547], [36.244315, -86.747013], [41.139862, -112.063331], [36.11362800000001, -86.9198], [36.045231, -86.716657], [38.825663, -77.088598], [28.56544, -81.19388000000002], [33.997057, -117.931191], [42.332395, -90.872595], [36.625244, -119.358681], [41.16362700000001, -74.184126], [39.9603, -75.1809], [33.832343, -117.362319], [28.54322, -82.367646], [39.52015, -76.199122], [40.15054, -75.21278000000002], [32.84387, -83.62297], [34.02465, -118.42819], [34.739896, -81.545194], [27.83918, -82.68777], [37.863905, -122.303047], [36.993297, -76.420918], [44.858613, -93.344855], [26.964675, -80.172141], [43.89215, -121.37673999999998], [47.63895, -122.32328], [40.950684, -111.420922], [36.73676, -119.683248], [37.71123, -121.71896], [34.222251, -117.402595], [35.252839, -92.936786], [34.0313, -117.96955], [41.08392, -76.86306400000002], [33.806711, -84.493835], [48.783137, -122.492025], [29.781883, -95.43118], [35.3058, -80.74959], [40.411883, -111.866213], [40.13321, -74.71523], [42.732562, -73.78861500000002], [39.920959, -75.034022], [34.05308, -117.5481], [27.936468, -82.73042], [33.86116, -118.28538], [36.0741, -95.92226], [37.2292, -120.487993], [33.876526, -118.107199], [25.625151, -80.41441400000002], [37.638626, -77.527529], [25.685767, -80.445982], [41.029599, -76.328122], [34.0471, -81.0755], [28.450899, -81.36789], [30.325022, -81.68003399999998], [40.895049, -74.25989200000002], [28.04536, -82.34441], [45.668156, -95.381105], [33.966223, -118.10744], [25.540339000000003, -80.407103], [40.59556, -75.330298], [37.71142800000001, -122.456063], [36.2222, -94.17994], [34.00615, -117.550503], [37.883037, -121.688722], [32.880647, -96.948167], [34.978547, -120.570776], [36.783146, -78.858019], [34.820567, -118.170199], [44.615896, -94.376016], [25.781446, -80.394012], [34.63005, -118.178913], [40.85024, -73.94506], [34.189765, -79.76149699999998], [43.717721, -95.932885], [32.660718, -97.297074], [34.512234, -82.681464], [40.0008, -85.97098000000004], [30.755409000000004, -85.832376], [43.363925, -77.96453100000002], [45.4507, -122.57907], [45.58476, -122.67535], [35.163649, -80.876024], [40.72433, -111.90463], [32.261937, -110.994975], [33.892097, -118.043644], [35.47885, -97.63665], [45.691942, -120.5055], [39.23496, -84.47192], [25.8018, -80.31314], [32.57251, -117.07909], [30.281335, -81.521505], [40.302711, -79.36850600000002], [40.152443, -75.398543], [42.199856, -87.832577], [40.179762, -79.131777], [26.93961, -80.15177], [35.843546, -78.329177], [38.828724, -76.87586999999998], [32.76292, -117.16127], [33.979221, -117.548679], [34.820625, -82.25639100000002], [36.28444, -119.803193], [30.458795, -81.643862], [40.808389, -73.927826], [39.20217, -94.49232], [42.457126, -93.050884], [43.93307, -91.858025], [25.768644, -80.36648100000002], [34.137471000000005, -117.326742], [27.29997, -82.497632], [34.153766, -118.378627], [38.656592, -77.291164], [45.12695, -94.97892], [30.164615, -81.745062], [30.35737, -87.161792], [33.523233000000005, -117.55749], [40.718861, -73.580471], [29.672364, -95.366928], [34.269222, -117.463256], [28.532317, -81.422647], [44.576393, -93.298076], [26.281238, -80.12501800000003], [35.918237, -119.281843], [32.222032, -110.965888], [30.854335, -81.67575699999998], [29.704151, -95.562786], [40.79921, -81.63063000000002], [41.61103, -93.5787], [42.82737, -120.03475], [40.910094, -73.877098], [27.088221, -82.430448], [33.667849, -117.881187], [37.328335, -121.870297], [37.594028, -77.482128], [43.122557, -83.694476], [34.046711, -118.447664], [41.36241, -72.06026], [32.924941, -97.058061], [36.43242, -93.532329], [33.501831, -82.357259], [37.134059, -76.835771], [45.146137, -93.18126], [39.168228000000006, -120.144598], [37.740282, -122.40805], [39.699944, -75.610667], [38.717424, -77.46320300000002], [38.53868, -121.51269], [33.27174, -112.15966], [39.27369, -76.723937], [38.573802, -121.581112], [35.120147, -78.757284], [32.707863, -96.829842], [36.061226, -86.639052], [34.222182000000004, -117.130429], [41.44888, -81.73626], [44.95138, -93.08152], [27.944489, -82.799954], [26.234294, -80.13660300000002], [29.79305200000001, -95.513937], [45.281483, -122.333676], [38.555127, -121.474496], [43.680599, -94.504877], [33.7914, -117.87991], [34.234396000000004, -118.284698], [32.766326, -96.917715], [44.934574, -93.396751], [33.621475, -111.875046], [28.481144, -81.458696], [35.1654, -80.87768], [38.347106, -75.170552], [40.64468, -75.00089], [44.98346, -93.45975], [27.443791, -82.469039], [33.98076, -117.84163], [34.11628, -83.72083], [39.95439, -82.97565999999998], [32.8423, -111.68632], [37.995157, -122.290299], [40.66768, -111.94842], [28.029738, -82.14043000000002], [45.56694, -122.55482], [29.974854, -90.053741], [26.003323, -80.167208], [37.37576, -121.93718], [27.748401, -82.669501], [36.153291, -86.853243], [39.996525, -75.26910699999998], [40.128268, -75.370699], [43.60597, -122.048074], [30.474582, -83.88408000000003], [43.6194, -116.356412], [33.552456, -117.188057], [28.076173, -82.354019], [41.539489, -94.018324], [25.634615, -80.414811], [38.382307, -122.598504], [39.43962, -75.22571500000002], [34.322065, -79.43033], [34.1611, -118.469614], [47.736121, -92.284823], [33.914483000000004, -118.104926], [47.56686, -122.32048], [32.803663, -96.711973], [41.66605, -87.59391], [40.635842, -111.909323], [40.62064, -111.89988999999998], [39.18182, -76.78424], [30.287003, -81.525817], [43.14712, -77.59467], [39.001069, -76.982401], [39.407, -76.81644], [37.349297, -77.362197], [27.461521, -82.58755500000002], [33.353977, -84.12559], [28.06825, -82.76894], [38.520765, -90.458409], [43.211269, -73.64161999999997], [37.350806, -120.623878], [34.027544, -118.252447], [30.494781, -87.22224399999998], [40.032149, -75.239728], [33.72672, -117.83499], [37.45821, -122.136879], [39.491239, -86.990099], [29.806761, -95.263014], [28.41735, -82.29320799999998], [37.577136, -100.521007], [33.769148, -84.390536], [33.854015999999994, -117.915862], [38.879741, -77.24168900000002], [33.095328, -117.085468], [35.406613, -119.048732], [36.792858, -81.68275899999998], [29.785599, -95.71015], [41.82711, -88.02891], [38.353089, -81.649457], [28.551194, -81.475778], [40.73584, -73.99122], [38.9222, -94.76229], [42.319986, -88.164692], [29.821128, -95.516492], [38.926676, -76.85398], [33.344788, -112.187254], [40.68285, -73.669764], [38.685489, -121.539548], [25.930556, -80.293503], [32.66737, -97.31849], [26.330517, -81.80828299999997], [37.4588, -79.83508], [41.244282, -111.968733], [26.09479, -80.2333], [34.0639, -117.28517], [35.774688, -78.642026], [45.37016, -92.70975], [37.233249, -93.27142], [31.18424000000001, -84.57005], [34.038605, -118.30031], [25.659734, -80.416025], [33.603559999999995, -112.1513], [32.828909, -96.6201], [40.167701, -77.275879], [44.058809, -123.435061], [33.93934, -117.18863], [40.28811, -105.37427], [40.19172800000001, -75.459162], [34.0625, -118.086287], [38.79817, -90.58464], [37.953268, -121.270657], [38.639053, -121.341367], [32.236154, -110.943967], [34.239519, -117.216729], [27.051771, -82.397042], [41.765253, -72.647981], [34.054253, -118.237843], [25.813863, -80.13245], [28.449065, -81.363827], [38.575122, -121.53733], [32.878616, -80.641924], [36.36143, -121.224313], [34.14687, -118.699538], [41.20201, -121.767274], [25.924728, -80.299307], [35.016145, -85.163176], [41.165975, -112.026032], [26.40183, -80.090085], [44.954373, -93.271146], [26.334883, -81.76266899999997], [39.7134, -105.19477], [43.222485, -77.63887199999998], [38.347341, -77.48445799999998], [40.390286, -78.67316], [38.810112, -77.045919], [45.511432, -122.705537], [33.17353, -117.207914], [41.569847, -87.378726], [35.15272, -89.88403199999998], [34.884204, -82.256011], [33.46582, -112.07824], [43.004939, -78.94843399999998], [25.820232, -80.240571], [33.942818, -118.36741299999998], [41.30707, -74.12784], [34.09701, -80.9559], [34.719787, -81.012822], [38.00331, -121.835], [42.36056, -73.42975], [30.448412, -91.249307], [45.6408, -118.68814], [30.320671, -81.681733], [38.933376, -76.919809], [33.93904000000001, -117.13609], [38.88546, -77.15590999999998], [48.990823, -111.959578], [40.44049, -79.99152], [39.86111, -104.9877], [32.83916, -116.78543], [38.64315, -121.43409], [33.982318, -117.367573], [25.745316, -80.416965], [33.981970000000004, -117.841849], [38.18413, -85.7839], [33.144534, -80.014557], [34.259844, -118.330101], [28.450912, -81.46547199999998], [26.705015000000003, -81.844117], [35.06327, -90.02275999999998], [34.067816, -117.516838], [34.377724, -118.493753], [40.709291, -73.99423900000002], [45.496468, -122.672909], [28.421755, -81.40463100000002], [28.49743, -82.59536800000002], [40.015594, -79.067745], [39.554241, -76.525685], [41.429838, -74.068014], [38.024443, -121.952345], [33.46239, -112.03753], [40.92533, -74.71869000000002], [36.42697, -89.6846], [30.356517, -81.555164], [36.974626, -122.018868], [29.998785, -90.029944], [34.019658, -117.486362], [44.301952, -124.106909], [38.95243, -76.86225], [34.2356, -118.41231], [38.683023, -77.297558], [25.71632300000001, -80.36695999999998], [28.456348, -81.39919499999998], [34.087177000000004, -117.669537], [38.033922, -122.587887], [31.773719, -88.425915], [40.5438, -74.29384], [42.740605, -73.690538], [40.844731, -73.92514399999997], [36.021562, -119.571965], [38.32518, -122.73569], [37.091399, -80.575929], [33.428982, -112.078324], [43.686515, -116.353995], [34.12082, -117.886401], [47.812317, -122.083657], [34.000207, -117.352598], [44.778172, -93.217081], [27.93768, -82.40191300000002], [45.43119, -121.13542], [41.635301, -83.54292099999998], [28.188604, -82.456854], [33.912343, -117.446146], [34.051332, -117.922762], [42.492008, -83.014104], [40.86512000000001, -73.82481], [39.148761, -94.559851], [32.670352, -117.111212], [34.147771, -117.321571], [35.905718, -78.556945], [34.154922, -118.271141], [36.24554000000001, -86.74592], [28.183518, -82.528671], [29.498946000000004, -95.2469], [44.065508, -116.995039], [40.16076, -104.979596], [39.79091, -84.18509], [40.031337, -75.021591], [41.82599, -71.41927], [39.436314, -121.55143], [34.0263, -118.143999], [36.19496, -119.822551], [34.06899, -118.46328], [35.431252, -80.664018], [44.656638, -118.38152], [30.387151, -87.084191], [34.067443, -117.426854], [45.73746, -120.584997], [40.328874, -111.636787], [40.15967, -75.47587], [37.722963, -121.100597], [26.839908, -80.102264], [25.592302, -80.510918], [33.592009000000004, -117.124999], [25.81711, -80.20644], [34.067498, -117.528272], [45.41685, -122.74386], [41.295922, -72.76008], [37.876406, -122.046355], [37.993512, -122.069798], [44.84784000000001, -93.05987], [37.706104, -121.077543], [43.62698, -70.32928000000001], [33.958972, -118.170397], [29.825464, -95.435139], [45.017705, -93.051895], [39.673855, -84.233467], [28.878432, -82.092536], [42.948363, -85.646425], [30.085252, -90.430773], [43.15856, -77.61563000000002], [44.96545, -93.26254], [40.517774, -122.095767], [37.79328, -122.27365], [38.019101, -121.937152], [33.824489, -118.287467], [33.774522, -118.074915], [38.676132, -77.368605], [38.98011, -94.35627], [41.091302, -78.51728], [33.46111, -112.08724], [38.315481, -122.695731], [34.08238, -118.22291], [40.267692, -77.043417], [42.294905, -88.16204499999998], [36.943415, -76.26665200000002], [32.956065, -80.152579], [36.097223, -95.920317], [39.942583, -122.20216299999998], [27.980605, -82.360099], [37.97009, -122.501924], [36.765775, -119.777493], [36.625682, -82.14965699999998], [37.78443, -122.39342], [37.53889, -121.92691], [32.782634, -96.812585], [34.158807, -83.670179], [42.33879, -71.27684], [39.3762, -104.86221], [30.055309, -82.796485], [34.14054, -118.2279], [35.635503, -120.628661], [38.670212, -121.592248], [35.079258, -85.258836], [39.841607, -75.402463], [40.04948, -80.66391999999998], [38.835693, -77.432187], [29.9949, -90.115981], [38.982887, -122.894246], [34.298593, -82.538524], [34.122282, -80.873288], [48.39113, -122.64693], [33.83503, -118.08627], [37.862487, -122.168209], [38.633252, -121.321158], [28.047994, -82.34066700000002], [32.778599, -96.830171], [32.869892, -96.897392], [32.9255, -96.816175], [42.39924, -71.03831], [33.844458, -80.515146], [37.385409, -121.976118], [37.932912, -121.312051], [33.765846, -84.386533], [35.270763, -82.678179], [46.025911, -94.335748], [25.781275, -80.33285699999998], [44.77602, -93.530585], [37.451373, -77.63749399999998], [29.029079, -82.02174000000002], [38.411351, -122.795472], [34.135813, -117.191781], [34.02763, -117.571531], [36.23007, -86.82999000000002], [38.783781, -121.361612], [32.475316, -93.797216], [33.80686, -118.15046], [38.729665, -77.198375], [40.81699, -111.91889], [46.41969, -122.8912], [36.8825, -121.561389], [42.3354, -83.06371999999998], [45.147103, -122.884987], [34.133475, -117.435419], [41.984167, -87.85323299999996], [42.417214, -82.937146], [29.93191, -90.003008], [34.571962, -113.485862], [38.364347, -81.615636], [34.171028, -118.158132], [28.567290000000003, -81.27783000000002], [44.23932, -94.72553], [28.519049, -81.28898000000002], [46.18006, -123.86432], [34.003725, -118.286382], [30.534457, -87.33072299999998], [35.486, -97.60111], [33.79205, -117.8901], [33.994851000000004, -117.360627], [38.736539, -121.277648], [37.148713, -121.64813999999998], [34.148171999999995, -118.035351], [37.41072, -122.07548], [37.7727, -121.323395], [25.761498, -80.35363000000002], [35.375086, -118.93188], [40.800057, -111.919709], [38.872021, -77.043374], [44.78197, -93.46953], [40.553086, -78.922312], [33.78638, -118.09392], [38.046876, -78.731762], [37.935649, -122.451167], [36.722949, -119.790195], [33.83242, -118.20899], [34.579792, -117.916456], [25.782671, -80.316592], [40.017575, -77.529454], [27.441047, -82.45860400000002], [34.955034999999995, -92.0565], [40.143793, -76.81385300000002], [33.7424, -118.292321], [32.413157, -80.648925], [37.00868, -80.74954], [37.56635, -122.04168], [33.772240000000004, -84.39001], [46.035793, -123.913179], [28.013114, -82.454818], [33.69325, -117.86691], [38.449064, -77.40728399999998], [44.518436, -118.629158], [38.611744, -121.40154], [34.069944, -117.12541], [38.73662, -121.223107], [40.737851, -73.904803], [26.16547000000001, -80.17094], [37.310958, -121.895737], [41.369433, -112.034645], [26.534604, -81.852797], [35.22484, -80.86165], [28.367004, -81.502485], [45.49706, -122.53765], [33.8512, -117.87984], [30.1868, -81.6412], [33.880044, -117.607172], [44.001498, -70.306943], [38.69472800000001, -121.351458], [26.401839, -80.090092], [25.761225, -80.376564], [35.375011, -118.949621], [33.780731, -84.391209], [40.72286, -111.52943], [35.02981, -85.180102], [34.002011, -117.834937], [38.410608, -122.885653], [33.902054, -118.289329], [30.398299, -87.075436], [43.085943, -121.951793], [39.023946, -94.50071], [33.958715000000005, -118.291628], [39.08372, -77.07794], [38.61371, -121.38288500000002], [32.75908, -96.9174], [33.774522999999995, -118.078537], [40.04984, -75.63577], [37.41348, -122.07807], [38.575147, -120.84529], [37.552988, -77.48010699999998], [33.98754, -118.365855], [37.487572, -122.206796], [43.65532, -70.28645999999999], [36.45366, -87.1041], [40.845952, -73.930048], [37.374511, -77.406068], [32.858059999999995, -113.21842], [38.820413, -76.89296], [40.742525, -74.214545], [38.898584, -77.076178], [25.971728, -80.248121], [39.12533300000001, -121.544268], [39.80736, -86.2748], [41.87019, -87.89125], [28.62532, -81.3865], [41.34414, -76.58507], [39.698141, -75.61071], [34.034716, -118.342749], [32.752559999999995, -97.31526], [34.780522999999995, -77.38804499999998], [40.16545, -76.15963], [34.027437, -118.232222], [25.90898, -80.23590300000002], [35.982622, -78.544676], [25.712548, -80.382427], [41.119455, -73.379305], [33.925239000000005, -117.880042], [36.111508, -86.75801], [37.79462, -122.20624], [25.889538, -80.202745], [25.889347, -80.186409], [35.967285, -119.293034], [32.768581, -117.16219], [43.939455, -92.465397], [32.451195, -93.790016], [47.554053, -122.19231200000002], [35.829382, -78.680835], [36.071539, -115.172532], [33.855689, -81.52927199999998], [33.840247999999995, -118.28666], [35.148027, -80.829208], [32.74563, -97.319415], [40.41871, -74.08751], [47.04304000000001, -122.76492], [28.129288, -81.46475600000002], [28.48275, -81.44471999999998], [38.29559, -79.11668], [37.979777, -121.210642], [29.751, -95.35746], [37.809899, -78.50085899999998], [42.23818, -71.02391], [34.060463, -118.00126000000002], [33.918393, -79.55521], [25.803803, -80.20066800000002], [44.861909, -93.297904], [37.866181, -121.669014], [33.7874, -117.215451], [33.876092, -118.125184], [40.95770200000001, -73.851042], [39.8204, -104.97849], [41.45211, -81.65697], [34.029968, -78.63916], [41.702212, -72.805079], [29.985406, -90.064076], [37.945387, -122.058319], [30.201111, -81.739594], [25.946561, -80.33179799999998], [45.517147, -118.80044], [33.647872, -117.912365], [36.959931, -121.861631], [28.26314600000001, -81.330999], [33.814733000000004, -118.081284], [38.544963, -81.309589], [27.985146000000004, -82.453788], [33.998832, -117.353667], [39.960719, -74.20613399999998], [34.1826, -118.17222], [37.6545, -122.4908], [26.328719, -81.76258399999998], [34.034527000000004, -117.313621], [39.225708, -76.680268], [38.427869, -122.768708], [37.632055, -120.329174], [41.83219, -87.69566], [33.765939, -117.935029], [42.41506, -82.94033], [33.881179, -117.57559], [27.401456, -82.565639], [35.563291, -121.082468], [29.709736, -95.516163], [35.16628, -80.88909], [37.690753, -122.092368], [45.574237, -117.900779], [35.10584, -106.645], [28.32315, -82.41650200000002], [36.01774, -86.6244], [41.639091, -87.00119699999998], [43.17749, -71.53251999999998], [44.52505, -87.9829], [27.898257, -82.72889], [36.051319, -119.053082], [27.950463, -82.52074], [33.136698, -117.136814], [37.893795, -122.120859], [45.522671, -118.441116], [25.69564, -80.30109200000003], [27.382854, -82.44691], [40.76207700000001, -73.729262], [29.85459, -95.51571], [32.492683, -93.738548], [33.765464, -81.122576], [46.306981, -96.831453], [32.824506, -96.770153], [34.028338, -118.03551000000002], [33.577808000000005, -86.006709], [33.740032, -84.230643], [40.345542, -76.741298], [32.668605, -97.299711], [41.80019, -87.73312], [42.990987, -83.74077700000002], [30.615188, -86.960359], [35.811352, -120.752074], [38.693042, -121.864975], [40.49027, -79.95223], [35.70856, -79.82878000000002], [34.966525, -81.985271], [38.474307, -121.427099], [25.94061, -80.19046], [45.58462, -122.54392], [33.779233000000005, -118.089892], [38.40117, -82.48266], [34.980468, -118.943299], [45.31666, -122.57435], [33.643296, -117.733233], [40.806894, -73.924426], [39.487344, -77.397926], [33.964690000000004, -118.16889], [41.231432, -79.61138199999998], [33.855415, -118.095349], [34.024542, -118.239252], [27.388152, -82.46345600000002], [29.186455, -82.251673], [34.020212, -117.814998], [40.99948, -92.40492], [34.120219, -117.807201], [37.826488, -121.253072], [38.705947, -121.327045], [38.6355, -90.41047], [41.095014, -73.934308], [41.36527, -81.51599], [33.3318, -117.158499], [45.559047, -108.858193], [25.899548, -80.184336], [33.997170000000004, -79.10600500000002], [42.30601, -87.92097], [30.422092, -91.129938], [35.772881, -78.638501], [35.768522, -78.728638], [29.96475, -90.03157900000002], [37.58451, -77.44736999999998], [41.192239, -112.004531], [37.00244, -122.02072], [46.823045, -95.856239], [25.764473, -80.26217199999998], [36.83837, -76.159211], [36.428722, -119.295848], [34.120838, -117.884488], [29.704675, -95.294501], [37.60905, -77.45111], [34.010233, -118.160044], [33.917114, -118.03716599999998], [41.667891, -72.665301], [37.250357, -93.267713], [26.634685, -81.80313100000002], [37.611951, -77.563429], [36.112114, -86.72308000000002], [43.871487, -120.867344], [34.03293, -118.17036], [28.421616, -80.805389], [26.333428, -81.806251], [29.833712, -95.492098], [42.42595, -73.550949], [33.880487, -117.570644], [42.88809000000001, -78.76771], [41.997883, -72.452348], [40.80481, -73.91181], [40.748666, -73.279505], [48.141741, -122.1871], [40.260925, -75.249481], [42.969321, -83.72574399999998], [34.069086, -117.808209], [39.838318, -110.982576], [35.104304, -80.985603], [33.021539000000004, -117.078535], [34.121078000000004, -117.89507], [39.381211, -77.26949499999998], [33.91953, -84.33372], [32.740598, -86.54519599999998], [35.068788, -118.178952], [27.96382, -80.54178], [34.34028, -79.53712], [30.305799, -97.749224], [33.95943, -117.54902], [39.94354000000001, -75.19261], [30.023672, -95.260192], [25.671026, -80.411618], [47.821887, -122.245913], [33.66568, -112.1142], [35.747612, -78.591459], [25.603575, -80.351962], [29.99157, -90.05363299999998], [41.90906, -87.92896], [33.920685, -117.431756], [41.556943, -90.537695], [34.859594, -83.033927], [29.952265, -90.065556], [28.986751, -82.193074], [47.41262, -94.810446], [33.914390000000004, -118.22378799999998], [40.736727, -73.605653], [33.621320000000004, -117.71434], [36.806861, -120.475321], [30.437847, -84.276262], [41.874, -72.6624], [29.78482, -95.56549], [33.9139, -117.88294], [32.76268, -96.77526], [25.833467, -80.322209], [34.433624, -82.617531], [34.077446, -117.484281], [34.076682, -118.219381], [37.287488, -77.389211], [37.546105, -122.28501599999998], [34.740111, -92.332248], [34.25846, -118.1052], [29.844382, -95.49747], [40.076492, -75.366212], [43.587816, -120.006591], [33.94088, -117.252295], [36.143935, -85.37223399999998], [39.05296, -94.4971], [38.553589, -121.690632], [38.583431, -77.766712], [34.749278000000004, -82.393211], [47.377261, -122.708002], [43.331122, -73.636687], [40.032162, -76.3246], [30.315345, -81.756123], [35.225976, -118.568369], [37.703393, -121.736852], [46.997611, -122.29573], [30.41158900000001, -91.100129], [32.749405, -117.169571], [28.45161, -81.17929699999998], [25.898731, -80.235461], [37.38708, -121.982015], [34.731141, -92.173072], [39.33186, -77.220961], [34.071355, -118.132308], [39.982332, -75.918959], [39.14507, -76.64488399999998], [34.27783, -118.50794], [28.420197, -81.404625], [47.64335, -122.34723], [33.932315, -118.359585], [44.77514, -93.28827], [45.812312, -123.48754], [35.818711, -111.441274], [32.11892, -110.7727], [36.136459, -79.120474], [25.639273, -80.382859], [36.221119, -86.726598], [30.295683, -97.700296], [33.668085999999995, -112.186643], [45.755841, -95.009765], [47.777599, -122.316101], [33.450857, -84.20299200000002], [40.70544, -74.18276999999998], [40.633226, -111.892549], [33.912065000000005, -118.17729], [37.787024, -121.277884], [42.83435, -73.48514], [40.154637, -75.112881], [34.02309, -117.33635], [40.311541, -89.16284300000002], [25.911527, -80.292687], [45.669089, -123.170557], [32.181659, -110.956089], [33.876290000000004, -118.10259], [45.093815, -123.380327], [45.647828, -120.881181], [40.964734, -74.077285], [42.760235, -74.120001], [47.49419, -92.744172], [46.920129, -97.792536], [37.122074, -121.628149], [38.89568, -76.84866], [33.606474, -114.631647], [41.727022, -72.766848], [34.155033, -118.310838], [40.184887, -75.44949799999998], [38.847188, -77.77404399999998], [34.046964, -118.446775], [39.2859, -78.134045], [36.545044, -119.594045], [35.31103, -80.75694], [36.826429, -76.325914], [45.094681, -93.290115], [28.341649, -81.403841], [25.852418, -80.32234], [39.746853, -84.268281], [35.83659, -84.39204699999998], [34.072068, -117.906163], [45.510955, -93.36875], [43.139, -77.53874], [38.752348, -77.272898], [42.450581, -93.93185], [34.578313, -117.969504], [43.090653, -75.222186], [42.404984000000006, -83.13166700000002], [35.37637, -97.0482], [37.073182, -121.567047], [39.008635, -122.615555], [37.741051, -79.302266], [37.61326500000001, -120.97959], [45.35805, -121.99129], [39.520982, -112.372011], [33.688181, -117.907916], [30.43551, -88.65195], [45.60517, -122.68368999999998], [32.727552, -117.104376], [40.731008, -74.131483], [35.134223, -89.867552], [32.513646, -93.747161], [38.05117, -122.22948999999998], [35.354199, -119.039611], [33.77017, -84.495223], [35.831802, -78.676948], [40.582488, -122.34377], [45.107717, -93.465989], [34.487782, -117.33398400000002], [36.06083, -80.180529], [34.054203, -118.203196], [35.969921, -78.558352], [39.370634, -84.365491], [43.89729000000001, -94.05725], [42.20023, -87.88688], [44.128421, -93.749781], [27.928437, -82.312326], [33.623059999999995, -117.71545], [33.77426, -118.07514], [39.534028, -119.761548], [44.960335, -93.269194], [28.371493, -80.700252], [42.31971, -124.41506], [34.172008, -118.469313], [32.647675, -96.823144], [45.892978, -94.331717], [42.997704, -77.64525400000002], [34.87186, -82.971397], [27.270676, -82.497664], [39.531115, -77.60464300000002], [45.0752, -93.33213], [38.34391, -122.49782], [37.51028, -121.97122], [34.063992, -117.274623], [34.073721, -80.948477], [33.115237, -117.099171], [36.535659, -119.484524], [33.75, -117.453676], [34.041819, -118.317702], [30.545876, -87.120626], [40.87182, -74.11662], [36.038643, -79.011687], [40.55789, -80.20474], [32.778643, -117.115961], [45.62518, -122.81652], [32.724257, -117.155563], [45.604028, -121.138161], [34.285385, -118.989762], [38.540316, -121.735519], [30.35078, -97.67606], [25.517175, -80.428747], [32.969177, -80.0051], [38.89974, -77.1822], [34.239059999999995, -118.630721], [25.883587, -80.21260600000002], [43.687213, -91.53732], [44.82733, -93.1707], [42.071918, -119.554327], [30.26759, -97.73388], [30.44876, -82.93332], [35.516118, -97.503119], [37.931492, -122.060346], [33.556345, -80.862831], [42.927503, -85.665396], [29.58125, -95.17869], [41.664136, -91.355727], [34.89555, -82.15553], [37.830669, -122.293345], [29.954384, -90.084902], [40.025224, -75.626649], [25.74278, -80.22985], [25.784884, -80.216121], [38.07235, -122.2289], [39.013806, -78.296312], [38.475067, -121.423552], [25.910943, -80.210012], [33.689907, -117.173899], [32.853938, -117.232285], [33.428818, -81.017895], [47.20004, -122.46168], [30.21535200000001, -81.760865], [33.179138, -117.347619], [44.052691, -123.306104], [26.677421, -81.823705], [38.50647, -121.45718], [33.995039, -117.361083], [35.446153, -119.093524], [33.871464, -117.739618], [39.10498, -76.88701], [33.91319, -117.2853], [33.859813, -118.096408], [44.801995, -123.030877], [38.001324, -122.319329], [35.547863, -78.22446], [41.561083, -109.301824], [36.208299, -86.788855], [47.243129, -122.379009], [28.494574, -81.388704], [33.462985, -112.171268], [34.243992, -119.193452], [41.402782, -122.38262], [40.22977, -104.97996], [38.8954, -104.83093], [38.168655, -120.839125], [38.58069, -121.953359], [44.746682, -93.272445], [32.911871999999995, -117.152207], [44.954391, -93.079272], [36.820228, -119.785509], [43.139595, -71.495212], [30.43917, -91.182606], [42.30601, -87.92097], [32.759931, -97.089743], [39.671572, -75.59830799999997], [33.984238, -117.844977], [34.704598, -118.053962], [25.936632, -80.193405], [45.000611, -93.205808], [41.31607, -72.28814200000002], [32.273486, -110.961039], [41.02877, -111.94657], [34.051361, -118.213912], [30.330041, -97.705219], [25.883604, -80.21217299999998], [38.8663, -76.99142900000002], [41.76078, -87.94481], [26.524, -80.07266], [35.029252, -118.08683700000002], [27.856027, -82.346486], [34.031303, -118.259857], [39.98651, -78.26171], [38.940809, -77.205732], [25.848295, -80.165932], [38.543568, -122.720578], [34.128994, -117.937754], [37.7869, -87.11086999999998], [36.93611, -81.16833299999998], [39.95695, -75.15486], [29.9139, -95.55615], [25.941563, -80.189584], [36.81018, -76.28021], [38.88936, -76.84584100000002], [45.918348, -119.330648], [38.500871, -121.439996], [30.447057, -91.182682], [42.47442, -83.15587], [42.80972, -85.66871], [38.944678, -121.355276], [35.75936, -78.7313], [32.30043, -80.934921], [33.876544, -118.091274], [25.684871, -80.400574], [42.965268, -85.683852], [27.411725, -82.428616], [40.535147, -111.892449], [32.876405, -96.55309], [37.333611, -121.861477], [30.457366, -97.687097], [37.664418, -97.481613], [39.42299000000001, -76.638103], [37.548915, -77.39809100000002], [40.725239, -73.89513000000002], [25.801594, -80.317053], [34.167927, -118.623305], [39.771119, -76.668058], [40.335949, -86.760202], [47.08392, -122.66215], [47.15915, -122.46341], [34.649398, -92.417578], [42.384992, -83.243802], [35.20305, -80.72399999999998], [38.30005, -85.75331], [27.976540000000004, -82.708772], [33.981124, -117.973023], [25.747541, -80.336836], [36.308969, -119.709099], [32.79762, -117.15703], [35.884773, -78.58266400000002], [35.08919, -81.09817], [42.445406, -73.809058], [34.80317, -91.968582], [33.46223, -112.0477], [39.303925, -76.899299], [25.926037, -80.18815500000002], [34.938275, -118.928976], [38.89526, -77.066699], [30.533036, -87.125334], [40.959724, -73.74063100000002], [29.55523, -95.119795], [28.232394, -81.650488], [41.05679, -73.51451], [40.222423, -122.253529], [30.481504, -81.643828], [34.282222, -118.72611100000002], [25.692003, -80.365972], [33.87385, -117.88054], [38.418702, -121.894334], [40.70148, -73.98969], [38.91077, -77.218076], [39.088958, -94.487174], [38.560442, -121.46461200000002], [36.939278, -121.454622], [38.92583, -104.780911], [40.851839, -124.162766], [38.000343, -122.283123], [45.19747, -93.34054], [42.831597, -117.65007], [38.434359, -122.71673], [30.504902, -87.267225], [37.942346, -122.476882], [33.911228, -118.222234], [37.021898, -113.487192], [35.01359, -85.53662], [39.232681, -76.709879], [32.756425, -97.215461], [34.266090000000005, -118.47207], [41.81731, -71.3981], [44.734864, -69.434037], [27.922663, -82.35260500000003], [39.015427, -77.078691], [41.92264, -87.67866], [33.930898, -118.364166], [43.218714, -75.335148], [30.359655, -81.55390600000001], [26.427236, -81.77612099999997], [39.25767000000001, -76.66354], [30.320574, -81.690669], [33.8763, -118.12328], [34.104553, -117.259751], [39.41184000000001, -85.99653], [33.597390000000004, -111.84309], [42.49073, -83.28260999999998], [38.93243, -77.08524], [38.86534, -77.05161], [39.093317, -94.643278], [45.695379, -108.678515], [39.75347, -86.15375999999998], [35.76757, -78.49688], [30.42751, -91.16942], [37.70248400000001, -121.740355], [34.053344, -117.987249], [45.70639, -110.998291], [36.989124, -122.017957], [30.309543, -97.710407], [28.2053, -80.65854], [35.73568200000001, -119.742339], [43.055242, -73.76489699999998], [34.017156, -117.817024], [40.153602, -76.258925], [26.330959000000004, -81.781374], [34.594327, -117.256726], [33.997954, -117.935603], [30.436329, -88.640224], [33.970659000000005, -117.375086], [28.393172, -81.404662], [41.23232, -95.88449], [38.29269, -75.641837], [42.19594, -121.69826], [42.75524, -84.50763], [42.43322, -83.21954000000002], [41.665427, -76.262263], [34.754448, -92.427639], [40.176526, -74.50740400000002], [36.673354, -121.602775], [35.164055, -80.87603], [44.730888, -122.173837], [38.677544, -121.195802], [40.713721, -73.953686], [28.48624, -81.44006], [37.301674, -121.876542], [41.69758, -86.80927], [35.347168, -117.620731], [38.541206, -121.473732], [38.994008, -76.882485], [37.355142, -122.113546], [39.079259, -77.17049], [32.296233, -110.978227], [37.776362, -122.404295], [33.644628999999995, -81.515415], [26.428482, -81.810716], [25.912604, -80.210254], [36.986641, -122.024284], [41.609247, -93.77699], [35.785671, -78.47730200000002], [37.476764, -122.211517], [41.102642, -74.02817399999998], [45.442569, -93.369005], [30.247776, -97.769738], [38.497992, -121.447902], [42.282163, -83.442293], [48.239726, -100.956753], [45.510473, -93.011147], [34.969133, -81.988294], [28.092963, -82.739461], [42.160043, -88.048361], [33.804148, -118.207343], [39.205553, -76.81864300000002], [34.58551, -118.13397], [25.899331, -80.188855], [32.825378, -96.696998], [33.914629999999995, -117.882614], [29.398190000000003, -98.51179], [40.849082, -73.938518], [34.820619, -118.945573], [33.876274, -118.04641], [29.99152, -90.05405], [45.75899, -119.18003], [38.87545, -121.13096000000002], [30.45982, -81.656345], [25.889494, -80.16233199999998], [34.596799, -82.6157], [44.34497, -93.25746], [41.98887, -88.14973], [40.051423, -77.152321], [28.32122, -82.50310999999998], [26.06664, -80.164951], [33.911229, -118.171158], [38.97714000000001, -93.41857], [34.068871, -117.346436], [38.629764, -121.40385], [40.223208, -79.597166], [45.106087, -93.301129], [43.957658, -70.503469], [38.174755, -87.55045], [37.335596, -121.858845], [27.462412, -82.606778], [26.09367, -80.36367], [37.30662, -76.68543299999997], [43.1542, -77.563737], [32.457431, -93.7715], [32.677482, -97.085874], [40.652747, -74.450792], [36.131995, -86.897637], [40.20094, -75.4809], [39.526022, -75.815324], [35.26683900000001, -119.027868], [32.770362, -96.744751], [30.15288300000001, -85.56689], [33.899638, -84.361536], [37.211605, -122.156671], [38.85895, -77.07007], [43.304275, -122.524627], [33.873456, -117.545331], [33.998558, -117.928137], [35.214339, -80.87284], [39.086559, -94.541286], [32.831509999999994, -96.78069], [41.120825, -73.367542], [40.593804, -77.588552], [32.203707, -110.965378], [37.332315, -119.648494], [42.931182, -85.665594], [33.916357, -118.259524], [45.504487, -122.674322], [40.824182, -73.87357800000002], [28.493714, -81.461584], [27.792207, -82.374403], [45.543791, -122.675217], [30.62505100000001, -87.123798], [45.605117, -122.682346], [44.760178, -124.062734], [28.027206, -82.19431], [43.03465, -76.36527], [35.264925, -80.79507199999998], [47.65264000000001, -117.41759], [29.659579, -82.420913], [40.75955, -73.62329], [38.378226, -77.458718], [40.725728, -112.018071], [28.08281, -82.56045999999998], [32.953579, -117.244244], [41.429972, -81.498807], [32.925521, -96.396499], [40.28055300000001, -75.253939], [47.599272, -122.305165], [33.700289, -80.915312], [40.772728, -77.20886800000002], [34.065656, -117.396277], [38.671333, -121.55026], [44.907741, -93.14236], [37.601255, -77.621814], [34.134633, -117.646557], [34.884077000000005, -118.900616], [25.81314, -80.32155], [25.830305, -80.24100899999998], [38.875611, -77.280222], [32.380720000000004, -111.04693], [41.98243, -88.11847], [26.330538, -81.807037], [36.71241, -81.937687], [34.294646, -118.414664], [35.01171, -81.9573], [35.352666, -119.01626], [38.168151, -77.50470200000002], [35.91689, -84.09692], [46.393265, -94.131867], [25.670988, -80.413044], [32.834899, -96.677822], [40.761055, -111.93905], [30.37335, -81.552146], [34.01336, -117.900333], [33.72878, -117.83401], [34.14009, -118.024896], [41.844997, -87.632743], [40.848302, -73.936256], [37.201127, -118.317329], [42.364188, -76.11657199999998], [34.00377, -118.28092], [33.193740000000005, -117.36532], [36.746036, -119.821598], [30.522427, -84.493116], [29.775433000000003, -95.599427], [32.163272, -110.964573], [34.066494, -117.275312], [33.435559999999995, -112.5562], [38.75978, -78.63651999999998], [33.61717, -84.39841], [34.11966, -117.807473], [34.426468, -117.54498999999998], [37.829724, -122.293533], [42.910018, -83.572221], [38.816322, -77.220945], [40.121024, -75.055645], [29.957995, -90.085742], [35.38535800000001, -81.20421999999998], [41.22651, -74.61502], [37.82628, -122.277102], [38.866088, -77.050676], [34.877098, -82.213256], [39.756093, -86.193058], [40.609942, -111.905955], [37.890225, -121.569653], [44.96602, -93.26571], [45.67622, -118.8738], [25.811667, -80.38154899999998], [41.386259, -73.60001899999997], [41.8037, -88.16718], [44.069369, -73.45599], [33.79966, -118.11143], [39.93438, -105.09063], [40.565568, -112.296077], [36.18197, -85.79408000000002], [41.20993, -111.94847], [29.992392, -90.06813000000002], [32.876023, -117.228671], [34.932666999999995, -82.669457], [32.773278000000005, -117.161175], [32.68269, -97.24062], [40.014485, -76.75295799999998], [40.60007, -95.63947], [34.544976, -92.631277], [25.741018, -80.335654], [28.600362, -81.451475], [34.018441, -118.28006299999998], [28.422286, -81.404775], [26.657263, -81.88223], [35.225311, -80.864492], [37.855379, -122.493966], [44.644308, -93.296083], [39.8357, -86.03797], [33.883809, -117.531535], [36.39303, -78.33863000000002], [28.02685, -82.18701], [26.09254, -80.22421700000002], [42.209504, -122.697617], [34.189791, -79.801917], [41.58416, -83.0947], [36.79863, -121.664968], [38.60996, -90.45151], [43.954484, -89.484289], [33.566823, -79.034852], [25.93371, -80.121845], [36.113457, -86.746516], [45.23804000000001, -122.80403], [37.294226, -121.941072], [29.13998, -81.35990699999998], [27.906073, -82.632876], [28.346771, -81.650012], [38.744619, -120.815452], [44.948976, -92.930493], [38.86898, -76.84461999999998], [33.982277, -118.14155], [29.861336, -81.395113], [32.183879, -110.956946], [25.872922, -80.208718], [29.79961, -95.27576], [28.552986, -81.393835], [36.269296, -119.654888], [38.824163, -77.532956], [30.490666, -81.64169100000002], [38.510915, -122.840198], [35.26692, -80.84424], [38.043711, -104.727067], [36.982989, -121.960052], [35.398067, -82.504717], [36.808328, -119.808321], [37.47817, -120.859714], [32.351440000000004, -81.298491], [43.60495, -116.350723], [40.803641, -77.88419300000002], [34.024781, -117.734714], [34.342821, -119.415882], [32.846383, -117.171618], [34.140075, -80.911808], [28.728216, -81.50898199999997], [32.794561, -96.782208], [32.363673, -86.136771], [36.964533, -122.104849], [34.087863, -118.601086], [33.89138, -118.10475], [28.417148, -81.41675699999998], [28.565187, -81.18709399999999], [33.4277, -112.212534], [30.648662, -88.120795], [38.524936, -121.46217], [42.499657, -83.544264], [40.248273, -75.245491], [33.737888, -117.996493], [40.10503, -83.127214], [34.678934000000005, -92.338618], [37.518847, -77.37773], [26.329103000000003, -81.805621], [27.852632, -82.757503], [33.4514, -112.108104], [34.872284, -120.433586], [34.241176, -112.111798], [44.04998, -95.52252], [34.06618, -117.471221], [34.020417, -117.338237], [32.753312, -96.463556], [38.84783, -77.42603000000003], [28.368941, -81.430588], [36.167775, -120.665684], [37.741723, -121.574194], [32.7723, -97.3194], [37.70074, -121.79365], [40.76282, -73.58914], [48.21327, -122.21796], [38.61856, -90.19079], [39.113532, -121.545001], [41.84094, -71.41111], [34.136813000000004, -80.959038], [34.407312, -81.69986800000002], [44.728808, -122.141808], [35.300687, -80.806837], [41.10798, -73.40828], [28.26489, -81.5326], [29.45243, -98.41784], [41.240887, -73.11731], [34.766255, -92.387026], [36.313544, -119.705505], [38.98914, -77.27005], [39.137487, -94.56774], [42.8707, -78.84508000000002], [45.76289000000001, -92.99012], [37.89722, -122.080303], [40.868509, -73.872382], [38.156545, -121.318397], [34.06745, -117.43543], [33.89394, -118.04699], [32.934771000000005, -96.752598], [44.074364, -73.668097], [34.839019, -119.052284], [30.434241, -91.177945], [25.890179, -80.188488], [33.660088, -117.711741], [33.689208, -117.919154], [32.74921, -97.29321], [35.64265800000001, -97.199731], [32.806834, -117.078981], [37.005315, -76.32011800000002], [34.766055, -118.799691], [35.591326, -80.859162], [34.068206, -118.023751], [30.390139, -97.652521], [30.571218, -87.291157], [39.018535, -122.445952], [40.27424, -74.70711999999997], [28.50579, -81.58708], [34.027838, -117.571377], [34.066866999999995, -118.019545], [40.604162, -74.076939], [38.810737, -77.24770699999998], [37.495555, -121.923019], [33.494935, -112.165565], [38.78253, -77.07703000000002], [32.7593, -97.00658], [45.879161, -119.295323], [47.325315, -95.965536], [25.598565, -80.35525200000002], [39.12097, -94.56491], [45.729111, -122.87586], [34.038232, -117.383254], [33.8398, -84.31794000000002], [35.798829, -78.571004], [39.989815, -75.869747], [38.877758, -77.270253], [40.75152, -73.126662], [32.925806, -96.826372], [33.984953999999995, -118.072392], [37.6408, -121.40494], [33.068042, -117.292989], [35.642887, -118.461894], [30.06998, -81.498644], [28.421556, -81.373801], [40.763454, -74.024576], [42.780836, -114.730814], [38.503553, -121.445602], [32.97639, -96.71549], [37.75052, -122.39235], [36.16648, -85.90026], [30.446917, -91.18818], [39.944175, -111.203428], [38.270762, -121.454214], [36.269539, -121.807511], [39.005045, -77.040014], [25.73302, -80.335752], [26.650113, -80.068595], [39.85528, -77.68708199999998], [40.735899, -73.85897], [38.18692, -78.998447], [44.171707, -121.368747], [39.30631500000001, -123.798531], [42.19545, -73.920017], [34.86956, -82.23078000000002], [42.475306, -83.139548], [40.133374, -75.452496], [30.320725, -81.71889399999998], [47.177408, -114.86755], [42.391796, -83.217824], [44.291449, -121.480743], [36.269749, -86.757998], [30.462665, -91.152166], [45.19496, -93.55245], [33.85423, -117.89349], [32.470931, -93.762947], [44.952954, -93.096202], [39.30751, -76.75494], [38.430295, -120.754952], [32.766154, -96.631561], [36.921506, -119.793956], [28.557990000000004, -81.3798], [35.53635999999999, -84.90326], [39.79045, -110.93101], [30.443416, -91.183738], [33.960513, -117.312789], [37.291893, -121.809605], [36.68657, -119.75199], [28.421363, -81.402794], [30.343175, -81.536425], [41.234625, -73.07168], [39.243998, -104.878828], [33.926116, -84.487449], [41.75124, -89.69634], [37.837913, -122.296388], [40.181919, -75.089203], [38.386843, -122.755056], [29.026604, -82.456118], [43.209749, -123.356486], [29.340823, -81.130868], [38.622088, -121.380075], [32.924255, -96.786149], [32.991168, -117.255743], [33.97203, -118.281005], [41.12295, -73.33556], [34.141199, -80.913326], [36.677417, -119.736677], [28.607547, -81.307707], [40.763343, -76.270619], [29.706527, -95.510164], [30.223438, -97.841605], [41.764052, -72.693687], [42.43983, -83.21961], [34.011562, -117.823753], [41.927489, -124.142464], [37.610503, -120.978387], [33.652145000000004, -117.40888], [33.991529, -118.39113], [38.628453, -121.36446399999998], [29.43758, -98.49046], [34.143333, -118.278096], [34.02958, -118.01783], [34.863964, -120.456944], [42.40815900000001, -122.94813700000002], [41.825452, -71.419239], [39.04575300000001, -77.076074], [26.010791, -80.166826], [28.571265000000004, -81.373868], [30.474135, -87.248308], [40.761059, -74.207676], [40.74698, -111.7246], [46.631322, -99.325875], [47.591763, -122.32914], [34.939494, -80.842221], [43.022772, -77.498449], [33.029839, -117.191053], [38.1299, -85.68202], [33.970495, -117.330268], [30.439411, -91.195997], [45.031508, -93.287554], [33.855349, -117.976258], [30.311434, -97.707066], [37.153569, -93.277752], [40.532378, -74.223844], [40.74362, -74.15748], [45.407444, -122.573218], [44.16056, -121.25876], [42.22082, -83.44565], [39.49508, -104.87359], [41.667897, -72.665311], [34.067640000000004, -117.60049], [28.539140000000003, -81.277571], [40.98138, -73.7472]],\n",
              "                {\n",
              "                    minOpacity: 0.5,\n",
              "                    maxZoom: 18,\n",
              "                    max: 1.0,\n",
              "                    radius: 25,\n",
              "                    blur: 15,\n",
              "                    gradient: null\n",
              "                    })\n",
              "                .addTo(map_5b589082940bdd417c3f2ee864ebc43b);\n",
              "        \n",
              "&lt;/script&gt;\" style=\"position:absolute;width:100%;height:100%;left:0;top:0;border:none !important;\" allowfullscreen webkitallowfullscreen mozallowfullscreen></iframe></div></div>"
            ]
          },
          "metadata": {},
          "execution_count": 56
        }
      ]
    },
    {
      "cell_type": "markdown",
      "metadata": {
        "id": "Rl0GhBgzq5HZ"
      },
      "source": [
        "## Ask and Answer Questions\n",
        "1. Are there more accidents warmer and colder areas?\n",
        "2. Which states have highest no: of accidents?\n",
        "3. Which cities have highest no: of accidents?\n",
        "4. Does New York show up in data?\n",
        "5. Among the top 100 cities in no: of accidents, which state do they belong to most frequent?\n",
        "6. What time of the day are accidents are most frequent in? Answered\n",
        "7. Which days of the week have the most accidents?\n",
        "8. Which months have the most accidents?\n",
        "9. What is the trend of accident(decreasing/increasing?"
      ]
    },
    {
      "cell_type": "code",
      "source": [
        "df.Sunrise_Sunset.unique()"
      ],
      "metadata": {
        "colab": {
          "base_uri": "https://localhost:8080/"
        },
        "id": "0ahGe6qqLVJN",
        "outputId": "141f1ede-e94a-443f-d828-9515f85ccbc5"
      },
      "execution_count": 57,
      "outputs": [
        {
          "output_type": "execute_result",
          "data": {
            "text/plain": [
              "array(['Night', 'Day', nan], dtype=object)"
            ]
          },
          "metadata": {},
          "execution_count": 57
        }
      ]
    },
    {
      "cell_type": "code",
      "source": [
        "df.Sunrise_Sunset.isnull().sum()"
      ],
      "metadata": {
        "colab": {
          "base_uri": "https://localhost:8080/"
        },
        "id": "E0hgORleeOh8",
        "outputId": "9d61ee5f-7a6c-444d-db62-a32ebad38533"
      },
      "execution_count": 58,
      "outputs": [
        {
          "output_type": "execute_result",
          "data": {
            "text/plain": [
              "2867"
            ]
          },
          "metadata": {},
          "execution_count": 58
        }
      ]
    },
    {
      "cell_type": "code",
      "source": [
        "df.groupby(['Sunrise_Sunset','State']).size().reset_index().sort_values(by=0, ascending=False)"
      ],
      "metadata": {
        "colab": {
          "base_uri": "https://localhost:8080/",
          "height": 424
        },
        "id": "EfSm44iQLVQD",
        "outputId": "06cb57dc-7453-405e-e30d-d5bdeb18ade8"
      },
      "execution_count": 59,
      "outputs": [
        {
          "output_type": "execute_result",
          "data": {
            "text/plain": [
              "   Sunrise_Sunset State       0\n",
              "3             Day    CA  493653\n",
              "52          Night    CA  302108\n",
              "8             Day    FL  274622\n",
              "57          Night    FL  126717\n",
              "41            Day    TX   94009\n",
              "..            ...   ...     ...\n",
              "97          Night    WY     414\n",
              "44            Day    VT     260\n",
              "88          Night    SD     102\n",
              "93          Night    VT     101\n",
              "39            Day    SD      80\n",
              "\n",
              "[98 rows x 3 columns]"
            ],
            "text/html": [
              "\n",
              "  <div id=\"df-a5482598-61ad-48a4-a5d3-998fde2e3627\">\n",
              "    <div class=\"colab-df-container\">\n",
              "      <div>\n",
              "<style scoped>\n",
              "    .dataframe tbody tr th:only-of-type {\n",
              "        vertical-align: middle;\n",
              "    }\n",
              "\n",
              "    .dataframe tbody tr th {\n",
              "        vertical-align: top;\n",
              "    }\n",
              "\n",
              "    .dataframe thead th {\n",
              "        text-align: right;\n",
              "    }\n",
              "</style>\n",
              "<table border=\"1\" class=\"dataframe\">\n",
              "  <thead>\n",
              "    <tr style=\"text-align: right;\">\n",
              "      <th></th>\n",
              "      <th>Sunrise_Sunset</th>\n",
              "      <th>State</th>\n",
              "      <th>0</th>\n",
              "    </tr>\n",
              "  </thead>\n",
              "  <tbody>\n",
              "    <tr>\n",
              "      <th>3</th>\n",
              "      <td>Day</td>\n",
              "      <td>CA</td>\n",
              "      <td>493653</td>\n",
              "    </tr>\n",
              "    <tr>\n",
              "      <th>52</th>\n",
              "      <td>Night</td>\n",
              "      <td>CA</td>\n",
              "      <td>302108</td>\n",
              "    </tr>\n",
              "    <tr>\n",
              "      <th>8</th>\n",
              "      <td>Day</td>\n",
              "      <td>FL</td>\n",
              "      <td>274622</td>\n",
              "    </tr>\n",
              "    <tr>\n",
              "      <th>57</th>\n",
              "      <td>Night</td>\n",
              "      <td>FL</td>\n",
              "      <td>126717</td>\n",
              "    </tr>\n",
              "    <tr>\n",
              "      <th>41</th>\n",
              "      <td>Day</td>\n",
              "      <td>TX</td>\n",
              "      <td>94009</td>\n",
              "    </tr>\n",
              "    <tr>\n",
              "      <th>...</th>\n",
              "      <td>...</td>\n",
              "      <td>...</td>\n",
              "      <td>...</td>\n",
              "    </tr>\n",
              "    <tr>\n",
              "      <th>97</th>\n",
              "      <td>Night</td>\n",
              "      <td>WY</td>\n",
              "      <td>414</td>\n",
              "    </tr>\n",
              "    <tr>\n",
              "      <th>44</th>\n",
              "      <td>Day</td>\n",
              "      <td>VT</td>\n",
              "      <td>260</td>\n",
              "    </tr>\n",
              "    <tr>\n",
              "      <th>88</th>\n",
              "      <td>Night</td>\n",
              "      <td>SD</td>\n",
              "      <td>102</td>\n",
              "    </tr>\n",
              "    <tr>\n",
              "      <th>93</th>\n",
              "      <td>Night</td>\n",
              "      <td>VT</td>\n",
              "      <td>101</td>\n",
              "    </tr>\n",
              "    <tr>\n",
              "      <th>39</th>\n",
              "      <td>Day</td>\n",
              "      <td>SD</td>\n",
              "      <td>80</td>\n",
              "    </tr>\n",
              "  </tbody>\n",
              "</table>\n",
              "<p>98 rows × 3 columns</p>\n",
              "</div>\n",
              "      <button class=\"colab-df-convert\" onclick=\"convertToInteractive('df-a5482598-61ad-48a4-a5d3-998fde2e3627')\"\n",
              "              title=\"Convert this dataframe to an interactive table.\"\n",
              "              style=\"display:none;\">\n",
              "        \n",
              "  <svg xmlns=\"http://www.w3.org/2000/svg\" height=\"24px\"viewBox=\"0 0 24 24\"\n",
              "       width=\"24px\">\n",
              "    <path d=\"M0 0h24v24H0V0z\" fill=\"none\"/>\n",
              "    <path d=\"M18.56 5.44l.94 2.06.94-2.06 2.06-.94-2.06-.94-.94-2.06-.94 2.06-2.06.94zm-11 1L8.5 8.5l.94-2.06 2.06-.94-2.06-.94L8.5 2.5l-.94 2.06-2.06.94zm10 10l.94 2.06.94-2.06 2.06-.94-2.06-.94-.94-2.06-.94 2.06-2.06.94z\"/><path d=\"M17.41 7.96l-1.37-1.37c-.4-.4-.92-.59-1.43-.59-.52 0-1.04.2-1.43.59L10.3 9.45l-7.72 7.72c-.78.78-.78 2.05 0 2.83L4 21.41c.39.39.9.59 1.41.59.51 0 1.02-.2 1.41-.59l7.78-7.78 2.81-2.81c.8-.78.8-2.07 0-2.86zM5.41 20L4 18.59l7.72-7.72 1.47 1.35L5.41 20z\"/>\n",
              "  </svg>\n",
              "      </button>\n",
              "      \n",
              "  <style>\n",
              "    .colab-df-container {\n",
              "      display:flex;\n",
              "      flex-wrap:wrap;\n",
              "      gap: 12px;\n",
              "    }\n",
              "\n",
              "    .colab-df-convert {\n",
              "      background-color: #E8F0FE;\n",
              "      border: none;\n",
              "      border-radius: 50%;\n",
              "      cursor: pointer;\n",
              "      display: none;\n",
              "      fill: #1967D2;\n",
              "      height: 32px;\n",
              "      padding: 0 0 0 0;\n",
              "      width: 32px;\n",
              "    }\n",
              "\n",
              "    .colab-df-convert:hover {\n",
              "      background-color: #E2EBFA;\n",
              "      box-shadow: 0px 1px 2px rgba(60, 64, 67, 0.3), 0px 1px 3px 1px rgba(60, 64, 67, 0.15);\n",
              "      fill: #174EA6;\n",
              "    }\n",
              "\n",
              "    [theme=dark] .colab-df-convert {\n",
              "      background-color: #3B4455;\n",
              "      fill: #D2E3FC;\n",
              "    }\n",
              "\n",
              "    [theme=dark] .colab-df-convert:hover {\n",
              "      background-color: #434B5C;\n",
              "      box-shadow: 0px 1px 3px 1px rgba(0, 0, 0, 0.15);\n",
              "      filter: drop-shadow(0px 1px 2px rgba(0, 0, 0, 0.3));\n",
              "      fill: #FFFFFF;\n",
              "    }\n",
              "  </style>\n",
              "\n",
              "      <script>\n",
              "        const buttonEl =\n",
              "          document.querySelector('#df-a5482598-61ad-48a4-a5d3-998fde2e3627 button.colab-df-convert');\n",
              "        buttonEl.style.display =\n",
              "          google.colab.kernel.accessAllowed ? 'block' : 'none';\n",
              "\n",
              "        async function convertToInteractive(key) {\n",
              "          const element = document.querySelector('#df-a5482598-61ad-48a4-a5d3-998fde2e3627');\n",
              "          const dataTable =\n",
              "            await google.colab.kernel.invokeFunction('convertToInteractive',\n",
              "                                                     [key], {});\n",
              "          if (!dataTable) return;\n",
              "\n",
              "          const docLinkHtml = 'Like what you see? Visit the ' +\n",
              "            '<a target=\"_blank\" href=https://colab.research.google.com/notebooks/data_table.ipynb>data table notebook</a>'\n",
              "            + ' to learn more about interactive tables.';\n",
              "          element.innerHTML = '';\n",
              "          dataTable['output_type'] = 'display_data';\n",
              "          await google.colab.output.renderOutput(dataTable, element);\n",
              "          const docLink = document.createElement('div');\n",
              "          docLink.innerHTML = docLinkHtml;\n",
              "          element.appendChild(docLink);\n",
              "        }\n",
              "      </script>\n",
              "    </div>\n",
              "  </div>\n",
              "  "
            ]
          },
          "metadata": {},
          "execution_count": 59
        }
      ]
    },
    {
      "cell_type": "code",
      "execution_count": 60,
      "metadata": {
        "id": "lNZD-a4lqDfH",
        "colab": {
          "base_uri": "https://localhost:8080/",
          "height": 363
        },
        "outputId": "398a1556-e6be-4e0a-91f0-19e806480f3e"
      },
      "outputs": [
        {
          "output_type": "stream",
          "name": "stderr",
          "text": [
            "/usr/local/lib/python3.7/dist-packages/seaborn/_decorators.py:43: FutureWarning: Pass the following variable as a keyword arg: x. From version 0.12, the only valid positional argument will be `data`, and passing other arguments without an explicit keyword will result in an error or misinterpretation.\n",
            "  FutureWarning\n"
          ]
        },
        {
          "output_type": "execute_result",
          "data": {
            "text/plain": [
              "<matplotlib.axes._subplots.AxesSubplot at 0x7f2d09560910>"
            ]
          },
          "metadata": {},
          "execution_count": 60
        },
        {
          "output_type": "display_data",
          "data": {
            "text/plain": [
              "<Figure size 432x288 with 1 Axes>"
            ],
            "image/png": "[encoded data removed]"
          },
          "metadata": {
            "needs_background": "light"
          }
        }
      ],
      "source": [
        "sns.countplot(df.Sunrise_Sunset)"
      ]
    },
    {
      "cell_type": "markdown",
      "source": [
        "More number of accidents occurs in day time because people might be hurry to reach to their jobs.."
      ],
      "metadata": {
        "id": "IFUVK45jZlcY"
      }
    },
    {
      "cell_type": "markdown",
      "source": [
        "Q2: Which states have highest no: of accidents?"
      ],
      "metadata": {
        "id": "IKLw1jrBhAco"
      }
    },
    {
      "cell_type": "code",
      "execution_count": 61,
      "metadata": {
        "id": "cFyMeZ86qDhI",
        "colab": {
          "base_uri": "https://localhost:8080/",
          "height": 363
        },
        "outputId": "48af717a-b2dc-4c9e-c09f-c4ae13312202"
      },
      "outputs": [
        {
          "output_type": "execute_result",
          "data": {
            "text/plain": [
              "   State       0\n",
              "3     CA  795868\n",
              "8     FL  401388\n",
              "41    TX  149037\n",
              "35    OR  126341\n",
              "43    VA  113535\n",
              "32    NY  108049\n",
              "36    PA   99975\n",
              "21    MN   97185\n",
              "25    NC   91362\n",
              "38    SC   89216"
            ],
            "text/html": [
              "\n",
              "  <div id=\"df-1983cca9-302c-4dcd-85c7-e00a2d729a24\">\n",
              "    <div class=\"colab-df-container\">\n",
              "      <div>\n",
              "<style scoped>\n",
              "    .dataframe tbody tr th:only-of-type {\n",
              "        vertical-align: middle;\n",
              "    }\n",
              "\n",
              "    .dataframe tbody tr th {\n",
              "        vertical-align: top;\n",
              "    }\n",
              "\n",
              "    .dataframe thead th {\n",
              "        text-align: right;\n",
              "    }\n",
              "</style>\n",
              "<table border=\"1\" class=\"dataframe\">\n",
              "  <thead>\n",
              "    <tr style=\"text-align: right;\">\n",
              "      <th></th>\n",
              "      <th>State</th>\n",
              "      <th>0</th>\n",
              "    </tr>\n",
              "  </thead>\n",
              "  <tbody>\n",
              "    <tr>\n",
              "      <th>3</th>\n",
              "      <td>CA</td>\n",
              "      <td>795868</td>\n",
              "    </tr>\n",
              "    <tr>\n",
              "      <th>8</th>\n",
              "      <td>FL</td>\n",
              "      <td>401388</td>\n",
              "    </tr>\n",
              "    <tr>\n",
              "      <th>41</th>\n",
              "      <td>TX</td>\n",
              "      <td>149037</td>\n",
              "    </tr>\n",
              "    <tr>\n",
              "      <th>35</th>\n",
              "      <td>OR</td>\n",
              "      <td>126341</td>\n",
              "    </tr>\n",
              "    <tr>\n",
              "      <th>43</th>\n",
              "      <td>VA</td>\n",
              "      <td>113535</td>\n",
              "    </tr>\n",
              "    <tr>\n",
              "      <th>32</th>\n",
              "      <td>NY</td>\n",
              "      <td>108049</td>\n",
              "    </tr>\n",
              "    <tr>\n",
              "      <th>36</th>\n",
              "      <td>PA</td>\n",
              "      <td>99975</td>\n",
              "    </tr>\n",
              "    <tr>\n",
              "      <th>21</th>\n",
              "      <td>MN</td>\n",
              "      <td>97185</td>\n",
              "    </tr>\n",
              "    <tr>\n",
              "      <th>25</th>\n",
              "      <td>NC</td>\n",
              "      <td>91362</td>\n",
              "    </tr>\n",
              "    <tr>\n",
              "      <th>38</th>\n",
              "      <td>SC</td>\n",
              "      <td>89216</td>\n",
              "    </tr>\n",
              "  </tbody>\n",
              "</table>\n",
              "</div>\n",
              "      <button class=\"colab-df-convert\" onclick=\"convertToInteractive('df-1983cca9-302c-4dcd-85c7-e00a2d729a24')\"\n",
              "              title=\"Convert this dataframe to an interactive table.\"\n",
              "              style=\"display:none;\">\n",
              "        \n",
              "  <svg xmlns=\"http://www.w3.org/2000/svg\" height=\"24px\"viewBox=\"0 0 24 24\"\n",
              "       width=\"24px\">\n",
              "    <path d=\"M0 0h24v24H0V0z\" fill=\"none\"/>\n",
              "    <path d=\"M18.56 5.44l.94 2.06.94-2.06 2.06-.94-2.06-.94-.94-2.06-.94 2.06-2.06.94zm-11 1L8.5 8.5l.94-2.06 2.06-.94-2.06-.94L8.5 2.5l-.94 2.06-2.06.94zm10 10l.94 2.06.94-2.06 2.06-.94-2.06-.94-.94-2.06-.94 2.06-2.06.94z\"/><path d=\"M17.41 7.96l-1.37-1.37c-.4-.4-.92-.59-1.43-.59-.52 0-1.04.2-1.43.59L10.3 9.45l-7.72 7.72c-.78.78-.78 2.05 0 2.83L4 21.41c.39.39.9.59 1.41.59.51 0 1.02-.2 1.41-.59l7.78-7.78 2.81-2.81c.8-.78.8-2.07 0-2.86zM5.41 20L4 18.59l7.72-7.72 1.47 1.35L5.41 20z\"/>\n",
              "  </svg>\n",
              "      </button>\n",
              "      \n",
              "  <style>\n",
              "    .colab-df-container {\n",
              "      display:flex;\n",
              "      flex-wrap:wrap;\n",
              "      gap: 12px;\n",
              "    }\n",
              "\n",
              "    .colab-df-convert {\n",
              "      background-color: #E8F0FE;\n",
              "      border: none;\n",
              "      border-radius: 50%;\n",
              "      cursor: pointer;\n",
              "      display: none;\n",
              "      fill: #1967D2;\n",
              "      height: 32px;\n",
              "      padding: 0 0 0 0;\n",
              "      width: 32px;\n",
              "    }\n",
              "\n",
              "    .colab-df-convert:hover {\n",
              "      background-color: #E2EBFA;\n",
              "      box-shadow: 0px 1px 2px rgba(60, 64, 67, 0.3), 0px 1px 3px 1px rgba(60, 64, 67, 0.15);\n",
              "      fill: #174EA6;\n",
              "    }\n",
              "\n",
              "    [theme=dark] .colab-df-convert {\n",
              "      background-color: #3B4455;\n",
              "      fill: #D2E3FC;\n",
              "    }\n",
              "\n",
              "    [theme=dark] .colab-df-convert:hover {\n",
              "      background-color: #434B5C;\n",
              "      box-shadow: 0px 1px 3px 1px rgba(0, 0, 0, 0.15);\n",
              "      filter: drop-shadow(0px 1px 2px rgba(0, 0, 0, 0.3));\n",
              "      fill: #FFFFFF;\n",
              "    }\n",
              "  </style>\n",
              "\n",
              "      <script>\n",
              "        const buttonEl =\n",
              "          document.querySelector('#df-1983cca9-302c-4dcd-85c7-e00a2d729a24 button.colab-df-convert');\n",
              "        buttonEl.style.display =\n",
              "          google.colab.kernel.accessAllowed ? 'block' : 'none';\n",
              "\n",
              "        async function convertToInteractive(key) {\n",
              "          const element = document.querySelector('#df-1983cca9-302c-4dcd-85c7-e00a2d729a24');\n",
              "          const dataTable =\n",
              "            await google.colab.kernel.invokeFunction('convertToInteractive',\n",
              "                                                     [key], {});\n",
              "          if (!dataTable) return;\n",
              "\n",
              "          const docLinkHtml = 'Like what you see? Visit the ' +\n",
              "            '<a target=\"_blank\" href=https://colab.research.google.com/notebooks/data_table.ipynb>data table notebook</a>'\n",
              "            + ' to learn more about interactive tables.';\n",
              "          element.innerHTML = '';\n",
              "          dataTable['output_type'] = 'display_data';\n",
              "          await google.colab.output.renderOutput(dataTable, element);\n",
              "          const docLink = document.createElement('div');\n",
              "          docLink.innerHTML = docLinkHtml;\n",
              "          element.appendChild(docLink);\n",
              "        }\n",
              "      </script>\n",
              "    </div>\n",
              "  </div>\n",
              "  "
            ]
          },
          "metadata": {},
          "execution_count": 61
        }
      ],
      "source": [
        "# df.State.value_counts()\n",
        "## OR\n",
        "top_states = df.groupby('State').size().reset_index().sort_values(by=0, ascending=False)[:10]\n",
        "top_states"
      ]
    },
    {
      "cell_type": "markdown",
      "source": [
        "Q3: Which cities have highest no: of accidents?"
      ],
      "metadata": {
        "id": "HgOV8Lq8immK"
      }
    },
    {
      "cell_type": "code",
      "execution_count": 62,
      "metadata": {
        "id": "2HUicta6qDl0",
        "colab": {
          "base_uri": "https://localhost:8080/"
        },
        "outputId": "767e8584-eecc-4589-db0f-1a731c7b02cb"
      },
      "outputs": [
        {
          "output_type": "execute_result",
          "data": {
            "text/plain": [
              "Miami          106966\n",
              "Los Angeles     68956\n",
              "Orlando         54691\n",
              "Dallas          41979\n",
              "Houston         39448\n",
              "Charlotte       33152\n",
              "Sacramento      32559\n",
              "San Diego       26627\n",
              "Raleigh         22840\n",
              "Minneapolis     22768\n",
              "Name: City, dtype: int64"
            ]
          },
          "metadata": {},
          "execution_count": 62
        }
      ],
      "source": [
        "cities_by_accident.head(10)"
      ]
    },
    {
      "cell_type": "markdown",
      "source": [
        "Q4: Does New York show up in data?\n",
        "- There are 50 states of US and in this dataset 49 states are present. New york state is not present in the data"
      ],
      "metadata": {
        "id": "27Vhsuw3u3l0"
      }
    },
    {
      "cell_type": "markdown",
      "source": [
        "Q5 : Among the top 100 cities in no: of accidents, which state do they belong to most frequent?"
      ],
      "metadata": {
        "id": "165Z-aIOvwt2"
      }
    },
    {
      "cell_type": "code",
      "execution_count": 63,
      "metadata": {
        "id": "KVE2w0tXNJ7v"
      },
      "outputs": [],
      "source": [
        "# cities_unique=df.City.groupby(df.State).size()\n",
        "# cities_unique.index"
      ]
    },
    {
      "cell_type": "code",
      "source": [
        "# top_states.iloc[:,0:1]"
      ],
      "metadata": {
        "id": "aNO1iTTD6TBj"
      },
      "execution_count": 64,
      "outputs": []
    },
    {
      "cell_type": "code",
      "source": [
        "df[df.State== 'WY'].nunique()[13:14]"
      ],
      "metadata": {
        "colab": {
          "base_uri": "https://localhost:8080/"
        },
        "id": "Vmmk08XIxnWr",
        "outputId": "c670cf18-1d00-4243-fd99-e337953ec5e9"
      },
      "execution_count": 65,
      "outputs": [
        {
          "output_type": "execute_result",
          "data": {
            "text/plain": [
              "City    70\n",
              "dtype: int64"
            ]
          },
          "metadata": {},
          "execution_count": 65
        }
      ]
    },
    {
      "cell_type": "code",
      "source": [
        "plt.figure(figsize = (20,6))\n",
        "plt.xticks(rotation =90)\n",
        "plt.plot(cities_by_accident.sample(100))\n",
        "plt.xlabel('Cities')"
      ],
      "metadata": {
        "colab": {
          "base_uri": "https://localhost:8080/",
          "height": 516
        },
        "id": "zpL5c9LMEqWX",
        "outputId": "f643f701-249a-4429-e1fb-7d932f7dec4e"
      },
      "execution_count": 70,
      "outputs": [
        {
          "output_type": "execute_result",
          "data": {
            "text/plain": [
              "Text(0.5, 0, 'Cities')"
            ]
          },
          "metadata": {},
          "execution_count": 70
        },
        {
          "output_type": "display_data",
          "data": {
            "text/plain": [
              "<Figure size 1440x432 with 1 Axes>"
            ],
            "image/png": "[encoded data removed]"
          },
          "metadata": {
            "needs_background": "light"
          }
        }
      ]
    },
    {
      "cell_type": "code",
      "source": [
        "plt.plot(cities_by_accident.tail())\n",
        "plt.xlabel('Cities')"
      ],
      "metadata": {
        "colab": {
          "base_uri": "https://localhost:8080/",
          "height": 296
        },
        "id": "93x5W6Gzxngg",
        "outputId": "2b45409b-6c25-4ede-ea7d-947614cf40ab"
      },
      "execution_count": 67,
      "outputs": [
        {
          "output_type": "execute_result",
          "data": {
            "text/plain": [
              "Text(0.5, 0, 'Cities')"
            ]
          },
          "metadata": {},
          "execution_count": 67
        },
        {
          "output_type": "display_data",
          "data": {
            "text/plain": [
              "<Figure size 432x288 with 1 Axes>"
            ],
            "image/png": "[encoded data removed]"
          },
          "metadata": {
            "needs_background": "light"
          }
        }
      ]
    },
    {
      "cell_type": "markdown",
      "metadata": {
        "id": "cAQTfVC4NKmF"
      },
      "source": [
        "## Summary and Conclusion\n",
        "\n",
        "\n",
        "Insights\n",
        "- No data from New York.\n",
        "- Number of accidents per city decreases \n",
        "- Less than 5% of cities have more than 1000 yearly accidents\n",
        "- Over 1200 citites have reported just one accident (Need to investigate)\n",
        "- There is most no: of observation of CA state"
      ]
    }
  ],
  "metadata": {
    "colab": {
      "name": "US Accidents Exploratory Data Analysis.ipynb",
      "provenance": [],
      "collapsed_sections": [
        "OtWzxHxW9Vp6"
      ]
    },
    "kernelspec": {
      "display_name": "Python 3",
      "name": "python3"
    },
    "language_info": {
      "name": "python"
    }
  },
  "nbformat": 4,
  "nbformat_minor": 0
}